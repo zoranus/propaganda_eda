{
 "cells": [
  {
   "cell_type": "code",
   "execution_count": 1,
   "id": "515856f1",
   "metadata": {},
   "outputs": [],
   "source": [
    "import re\n",
    "from collections import defaultdict\n",
    "from tqdm import tqdm\n",
    "import numpy as np\n",
    "import pandas as pd\n",
    "import matplotlib.pyplot as plt\n",
    "import plotly.express as px\n",
    "\n",
    "\n",
    "import nltk\n",
    "import pymorphy2\n",
    "from nltk.stem import PorterStemmer\n",
    "from nltk.stem import WordNetLemmatizer\n",
    "from nltk.tokenize import word_tokenize\n",
    "from nltk.corpus import stopwords\n",
    "\n",
    "from sklearn.feature_extraction.text import TfidfVectorizer\n",
    "from sklearn.preprocessing import StandardScaler\n",
    "from sklearn.decomposition import PCA\n",
    "import sklearn.preprocessing as preprocessing\n",
    "\n",
    "import warnings \n",
    "warnings.filterwarnings(\"ignore\")"
   ]
  },
  {
   "cell_type": "code",
   "execution_count": 2,
   "id": "e55ac984",
   "metadata": {},
   "outputs": [],
   "source": [
    "import plotly.io as pio\n",
    "pio.renderers.default = \"notebook\""
   ]
  },
  {
   "cell_type": "markdown",
   "id": "041ae814",
   "metadata": {},
   "source": [
    "# Intro"
   ]
  },
  {
   "cell_type": "markdown",
   "id": "f8c6fd9c",
   "metadata": {},
   "source": [
    "We will explore our propagandistic data deeper and will make `TF-IDF` vectorization on messages text. "
   ]
  },
  {
   "cell_type": "code",
   "execution_count": 2,
   "id": "932e2b64",
   "metadata": {},
   "outputs": [],
   "source": [
    "PATH = r\"data/data.csv\" \n",
    "data = pd.read_csv(PATH)\n",
    "data.drop([\"Unnamed: 0\", \"date\", \"reactions\", \"to_id\", \"msg_entity\"], axis=1, inplace=True)"
   ]
  },
  {
   "cell_type": "code",
   "execution_count": 3,
   "id": "a275072e",
   "metadata": {},
   "outputs": [],
   "source": [
    "_data = data.copy()\n",
    "_data[\"datetime\"] = pd.to_datetime(_data[\"datetime\"])\n",
    "\n",
    "na_messages = _data[_data[\"message\"].isna()]\n",
    "_data.drop(na_messages.index, inplace=True)"
   ]
  },
  {
   "cell_type": "code",
   "execution_count": 4,
   "id": "9b694f65",
   "metadata": {},
   "outputs": [
    {
     "data": {
      "text/html": [
       "<div>\n",
       "<style scoped>\n",
       "    .dataframe tbody tr th:only-of-type {\n",
       "        vertical-align: middle;\n",
       "    }\n",
       "\n",
       "    .dataframe tbody tr th {\n",
       "        vertical-align: top;\n",
       "    }\n",
       "\n",
       "    .dataframe thead th {\n",
       "        text-align: right;\n",
       "    }\n",
       "</style>\n",
       "<table border=\"1\" class=\"dataframe\">\n",
       "  <thead>\n",
       "    <tr style=\"text-align: right;\">\n",
       "      <th></th>\n",
       "      <th>id</th>\n",
       "      <th>views</th>\n",
       "      <th>fwd_from</th>\n",
       "      <th>message</th>\n",
       "      <th>type</th>\n",
       "      <th>duration</th>\n",
       "      <th>channel</th>\n",
       "      <th>frw_from_title</th>\n",
       "      <th>frw_from_name</th>\n",
       "      <th>datetime</th>\n",
       "      <th>message_len</th>\n",
       "      <th>reactions_dict</th>\n",
       "      <th>reactions_num</th>\n",
       "      <th>_from_id</th>\n",
       "      <th>_to_id</th>\n",
       "      <th>sensitive-topic</th>\n",
       "      <th>toxicity</th>\n",
       "    </tr>\n",
       "  </thead>\n",
       "  <tbody>\n",
       "    <tr>\n",
       "      <th>0</th>\n",
       "      <td>189123.0</td>\n",
       "      <td>98413.0</td>\n",
       "      <td>NaN</td>\n",
       "      <td>ФТС России ожидает роста товарооборота с Китае...</td>\n",
       "      <td>text</td>\n",
       "      <td>NaN</td>\n",
       "      <td>rian_ru</td>\n",
       "      <td>NaN</td>\n",
       "      <td>NaN</td>\n",
       "      <td>2022-12-19 09:56:04+00:00</td>\n",
       "      <td>205</td>\n",
       "      <td>[]</td>\n",
       "      <td>0</td>\n",
       "      <td>NaN</td>\n",
       "      <td>1101170442</td>\n",
       "      <td>politics</td>\n",
       "      <td>neutral</td>\n",
       "    </tr>\n",
       "    <tr>\n",
       "      <th>4</th>\n",
       "      <td>189119.0</td>\n",
       "      <td>118174.0</td>\n",
       "      <td>NaN</td>\n",
       "      <td>Буэнос-Айрес наутро после праздника</td>\n",
       "      <td>video</td>\n",
       "      <td>10.0</td>\n",
       "      <td>rian_ru</td>\n",
       "      <td>NaN</td>\n",
       "      <td>NaN</td>\n",
       "      <td>2022-12-19 09:51:57+00:00</td>\n",
       "      <td>35</td>\n",
       "      <td>[]</td>\n",
       "      <td>0</td>\n",
       "      <td>NaN</td>\n",
       "      <td>1101170442</td>\n",
       "      <td>none</td>\n",
       "      <td>neutral</td>\n",
       "    </tr>\n",
       "    <tr>\n",
       "      <th>6</th>\n",
       "      <td>189117.0</td>\n",
       "      <td>224975.0</td>\n",
       "      <td>NaN</td>\n",
       "      <td>В СК сообщили, что жизни рабочих, пострадавших...</td>\n",
       "      <td>photo</td>\n",
       "      <td>NaN</td>\n",
       "      <td>rian_ru</td>\n",
       "      <td>NaN</td>\n",
       "      <td>NaN</td>\n",
       "      <td>2022-12-19 09:10:44+00:00</td>\n",
       "      <td>141</td>\n",
       "      <td>[]</td>\n",
       "      <td>0</td>\n",
       "      <td>NaN</td>\n",
       "      <td>1101170442</td>\n",
       "      <td>offline_crime</td>\n",
       "      <td>neutral</td>\n",
       "    </tr>\n",
       "    <tr>\n",
       "      <th>7</th>\n",
       "      <td>189116.0</td>\n",
       "      <td>226171.0</td>\n",
       "      <td>NaN</td>\n",
       "      <td>Самолет с пострадавшим при покушении главой Ру...</td>\n",
       "      <td>video</td>\n",
       "      <td>30.0</td>\n",
       "      <td>rian_ru</td>\n",
       "      <td>NaN</td>\n",
       "      <td>NaN</td>\n",
       "      <td>2022-12-19 09:09:39+00:00</td>\n",
       "      <td>116</td>\n",
       "      <td>[]</td>\n",
       "      <td>0</td>\n",
       "      <td>NaN</td>\n",
       "      <td>1101170442</td>\n",
       "      <td>offline_crime,politics</td>\n",
       "      <td>neutral</td>\n",
       "    </tr>\n",
       "    <tr>\n",
       "      <th>8</th>\n",
       "      <td>189115.0</td>\n",
       "      <td>256663.0</td>\n",
       "      <td>NaN</td>\n",
       "      <td>Норвежский король Харальд V (85 лет) госпитали...</td>\n",
       "      <td>text</td>\n",
       "      <td>NaN</td>\n",
       "      <td>rian_ru</td>\n",
       "      <td>NaN</td>\n",
       "      <td>NaN</td>\n",
       "      <td>2022-12-19 08:50:57+00:00</td>\n",
       "      <td>116</td>\n",
       "      <td>[]</td>\n",
       "      <td>0</td>\n",
       "      <td>NaN</td>\n",
       "      <td>1101170442</td>\n",
       "      <td>health_shaming</td>\n",
       "      <td>neutral</td>\n",
       "    </tr>\n",
       "  </tbody>\n",
       "</table>\n",
       "</div>"
      ],
      "text/plain": [
       "         id     views fwd_from  \\\n",
       "0  189123.0   98413.0      NaN   \n",
       "4  189119.0  118174.0      NaN   \n",
       "6  189117.0  224975.0      NaN   \n",
       "7  189116.0  226171.0      NaN   \n",
       "8  189115.0  256663.0      NaN   \n",
       "\n",
       "                                             message   type  duration  \\\n",
       "0  ФТС России ожидает роста товарооборота с Китае...   text       NaN   \n",
       "4                Буэнос-Айрес наутро после праздника  video      10.0   \n",
       "6  В СК сообщили, что жизни рабочих, пострадавших...  photo       NaN   \n",
       "7  Самолет с пострадавшим при покушении главой Ру...  video      30.0   \n",
       "8  Норвежский король Харальд V (85 лет) госпитали...   text       NaN   \n",
       "\n",
       "   channel frw_from_title frw_from_name                  datetime  \\\n",
       "0  rian_ru            NaN           NaN 2022-12-19 09:56:04+00:00   \n",
       "4  rian_ru            NaN           NaN 2022-12-19 09:51:57+00:00   \n",
       "6  rian_ru            NaN           NaN 2022-12-19 09:10:44+00:00   \n",
       "7  rian_ru            NaN           NaN 2022-12-19 09:09:39+00:00   \n",
       "8  rian_ru            NaN           NaN 2022-12-19 08:50:57+00:00   \n",
       "\n",
       "   message_len reactions_dict  reactions_num  _from_id      _to_id  \\\n",
       "0          205             []              0       NaN  1101170442   \n",
       "4           35             []              0       NaN  1101170442   \n",
       "6          141             []              0       NaN  1101170442   \n",
       "7          116             []              0       NaN  1101170442   \n",
       "8          116             []              0       NaN  1101170442   \n",
       "\n",
       "          sensitive-topic toxicity  \n",
       "0                politics  neutral  \n",
       "4                    none  neutral  \n",
       "6           offline_crime  neutral  \n",
       "7  offline_crime,politics  neutral  \n",
       "8          health_shaming  neutral  "
      ]
     },
     "execution_count": 4,
     "metadata": {},
     "output_type": "execute_result"
    }
   ],
   "source": [
    "_data.head()"
   ]
  },
  {
   "cell_type": "code",
   "execution_count": 5,
   "id": "f88a7b43",
   "metadata": {},
   "outputs": [
    {
     "data": {
      "text/plain": [
       "(7016265, 17)"
      ]
     },
     "execution_count": 5,
     "metadata": {},
     "output_type": "execute_result"
    }
   ],
   "source": [
    "_data.shape"
   ]
  },
  {
   "cell_type": "code",
   "execution_count": 6,
   "id": "4749c9df",
   "metadata": {},
   "outputs": [
    {
     "data": {
      "text/html": [
       "<div>\n",
       "<style scoped>\n",
       "    .dataframe tbody tr th:only-of-type {\n",
       "        vertical-align: middle;\n",
       "    }\n",
       "\n",
       "    .dataframe tbody tr th {\n",
       "        vertical-align: top;\n",
       "    }\n",
       "\n",
       "    .dataframe thead th {\n",
       "        text-align: right;\n",
       "    }\n",
       "</style>\n",
       "<table border=\"1\" class=\"dataframe\">\n",
       "  <thead>\n",
       "    <tr style=\"text-align: right;\">\n",
       "      <th></th>\n",
       "      <th>datetime</th>\n",
       "      <th>message</th>\n",
       "    </tr>\n",
       "  </thead>\n",
       "  <tbody>\n",
       "    <tr>\n",
       "      <th>0</th>\n",
       "      <td>2022-12-19 09:56:04+00:00</td>\n",
       "      <td>ФТС России ожидает роста товарооборота с Китае...</td>\n",
       "    </tr>\n",
       "    <tr>\n",
       "      <th>4</th>\n",
       "      <td>2022-12-19 09:51:57+00:00</td>\n",
       "      <td>Буэнос-Айрес наутро после праздника</td>\n",
       "    </tr>\n",
       "    <tr>\n",
       "      <th>6</th>\n",
       "      <td>2022-12-19 09:10:44+00:00</td>\n",
       "      <td>В СК сообщили, что жизни рабочих, пострадавших...</td>\n",
       "    </tr>\n",
       "    <tr>\n",
       "      <th>7</th>\n",
       "      <td>2022-12-19 09:09:39+00:00</td>\n",
       "      <td>Самолет с пострадавшим при покушении главой Ру...</td>\n",
       "    </tr>\n",
       "    <tr>\n",
       "      <th>8</th>\n",
       "      <td>2022-12-19 08:50:57+00:00</td>\n",
       "      <td>Норвежский король Харальд V (85 лет) госпитали...</td>\n",
       "    </tr>\n",
       "  </tbody>\n",
       "</table>\n",
       "</div>"
      ],
      "text/plain": [
       "                   datetime                                            message\n",
       "0 2022-12-19 09:56:04+00:00  ФТС России ожидает роста товарооборота с Китае...\n",
       "4 2022-12-19 09:51:57+00:00                Буэнос-Айрес наутро после праздника\n",
       "6 2022-12-19 09:10:44+00:00  В СК сообщили, что жизни рабочих, пострадавших...\n",
       "7 2022-12-19 09:09:39+00:00  Самолет с пострадавшим при покушении главой Ру...\n",
       "8 2022-12-19 08:50:57+00:00  Норвежский король Харальд V (85 лет) госпитали..."
      ]
     },
     "execution_count": 6,
     "metadata": {},
     "output_type": "execute_result"
    }
   ],
   "source": [
    "messages = _data[[\"datetime\", \"message\"]]\n",
    "messages.head()"
   ]
  },
  {
   "cell_type": "code",
   "execution_count": 7,
   "id": "a29703b9",
   "metadata": {},
   "outputs": [],
   "source": [
    "def to_vector_preprocessing(text, stop_words = []):\n",
    "    if not stop_words:\n",
    "        stop_words = stopwords.words(\"english\")\n",
    "#     morph = pymorphy2.MorphAnalyzer()\n",
    "#     morph.parse(word)[0].normal_form\n",
    "#     stemmer = PorterStemmer()\n",
    "#     stemmer.stem(word)\n",
    "    text_array = word_tokenize(re.sub('[\\W\\s\\d]', ' ', text.lower()))\n",
    "    processed_text = ' '.join( \n",
    "            [word for word in text_array\n",
    "            if (len(word) > 2) and (word not in stop_words) \n",
    "            ])\n",
    "    return processed_text"
   ]
  },
  {
   "cell_type": "code",
   "execution_count": 8,
   "id": "4a5ddd41",
   "metadata": {},
   "outputs": [],
   "source": [
    "def tfidf_vectorizer(_corpus):\n",
    "    vectorizer = TfidfVectorizer()\n",
    "    X = vectorizer.fit_transform(_corpus)\n",
    "    sparse_matrix = pd.DataFrame(X.todense(), columns=vectorizer.get_feature_names())\n",
    "    return sparse_matrix"
   ]
  },
  {
   "cell_type": "code",
   "execution_count": 9,
   "id": "c4a7a0f3",
   "metadata": {},
   "outputs": [],
   "source": [
    "stop_words = [\n",
    "    \"и\", \"в\", \"во\", \"не\", \"что\", \"он\", \"на\", \"я\", \"с\", \"со\", \"как\", \"а\", \"то\", \"все\", \"она\", \"так\", \"его\", \n",
    "    \"но\", \"да\", \"ты\", \"к\", \"у\", \"же\", \"вы\", \"за\", \"бы\", \"по\", \"только\", \"ее\", \"мне\", \"было\", \"вот\", \"от\", \n",
    "    \"меня\", \"еще\", \"нет\", \"о\", \"из\", \"ему\", \"теперь\", \"когда\", \"даже\", \"ну\", \"вдруг\", \"ли\", \"если\", \"уже\", \n",
    "    \"или\", \"ни\", \"быть\", \"был\", \"него\", \"до\", \"вас\", \"нибудь\", \"опять\", \"уж\", \"вам\", \"ведь\", \"там\", \"потом\", \n",
    "    \"себя\", \"ничего\", \"ей\", \"может\", \"они\", \"тут\", \"где\", \"есть\", \"надо\", \"ней\", \"для\", \"мы\", \"тебя\", \"их\", \n",
    "    \"чем\", \"была\", \"сам\", \"чтоб\", \"без\", \"будто\", \"чего\", \"раз\", \"тоже\", \"себе\", \"под\", \"жизнь\", \"впрочем\", \n",
    "    \"хорошо\", \"всю\", \"эти\", \"тогда\", \"были\", \"та\", \"бывает\", \"лучше\", \"это\", \"http\"]\n",
    "langs = ['russian']\n",
    "for lang in langs:\n",
    "    stop_words += stopwords.words(lang)\n",
    "stop_words = set(stop_words)"
   ]
  },
  {
   "cell_type": "markdown",
   "id": "91542809",
   "metadata": {},
   "source": [
    "Because we have a large number of text data, we will evaluate the time for preprocessing and also get a sample \n",
    "(`frac=0.1`) due to the limited computation resources."
   ]
  },
  {
   "cell_type": "code",
   "execution_count": 10,
   "id": "61b5dc05",
   "metadata": {},
   "outputs": [
    {
     "name": "stdout",
     "output_type": "stream",
     "text": [
      "Wall time: 204 ms\n"
     ]
    }
   ],
   "source": [
    "%%time\n",
    "n_test = 1000 \n",
    "processed_text = messages[\"message\"][:n_test].map(lambda row: to_vector_preprocessing(row, stop_words))"
   ]
  },
  {
   "cell_type": "code",
   "execution_count": 11,
   "id": "9c44f52c",
   "metadata": {},
   "outputs": [
    {
     "name": "stdout",
     "output_type": "stream",
     "text": [
      "The number of words in first 1000 messages:\t 199967\n"
     ]
    }
   ],
   "source": [
    "print(f\"The number of words in first {n_test} messages:\\t {sum(messages['message'][:n_test].map(len))}\")"
   ]
  },
  {
   "cell_type": "markdown",
   "id": "e0935137",
   "metadata": {},
   "source": [
    "Evaluation of computation for sample:\n",
    "\n",
    "    287559504 x 204 / (199967 * 60000) ≈ 4.88 min"
   ]
  },
  {
   "cell_type": "code",
   "execution_count": 12,
   "id": "6969924d",
   "metadata": {},
   "outputs": [
    {
     "data": {
      "text/html": [
       "<div>\n",
       "<style scoped>\n",
       "    .dataframe tbody tr th:only-of-type {\n",
       "        vertical-align: middle;\n",
       "    }\n",
       "\n",
       "    .dataframe tbody tr th {\n",
       "        vertical-align: top;\n",
       "    }\n",
       "\n",
       "    .dataframe thead th {\n",
       "        text-align: right;\n",
       "    }\n",
       "</style>\n",
       "<table border=\"1\" class=\"dataframe\">\n",
       "  <thead>\n",
       "    <tr style=\"text-align: right;\">\n",
       "      <th></th>\n",
       "      <th>datetime</th>\n",
       "      <th>message</th>\n",
       "    </tr>\n",
       "  </thead>\n",
       "  <tbody>\n",
       "    <tr>\n",
       "      <th>1449181</th>\n",
       "      <td>2022-07-26 16:47:16+00:00</td>\n",
       "      <td>Польский центр языка прокомментировал многочис...</td>\n",
       "    </tr>\n",
       "    <tr>\n",
       "      <th>6691776</th>\n",
       "      <td>2022-09-22 14:54:28+00:00</td>\n",
       "      <td>Честно говоря, не ожидал такого разворота собы...</td>\n",
       "    </tr>\n",
       "    <tr>\n",
       "      <th>2519768</th>\n",
       "      <td>2018-07-16 15:24:45+00:00</td>\n",
       "      <td>Трамп: \"Я продолжаю традиции дипломатического ...</td>\n",
       "    </tr>\n",
       "    <tr>\n",
       "      <th>4316816</th>\n",
       "      <td>2021-02-16 09:03:52+00:00</td>\n",
       "      <td>🔫 Подростки решили пострелять из пистолета сре...</td>\n",
       "    </tr>\n",
       "    <tr>\n",
       "      <th>7203281</th>\n",
       "      <td>2020-03-05 05:41:47+00:00</td>\n",
       "      <td>Безотносительно самого сайта, весьма поучитель...</td>\n",
       "    </tr>\n",
       "  </tbody>\n",
       "</table>\n",
       "</div>"
      ],
      "text/plain": [
       "                         datetime  \\\n",
       "1449181 2022-07-26 16:47:16+00:00   \n",
       "6691776 2022-09-22 14:54:28+00:00   \n",
       "2519768 2018-07-16 15:24:45+00:00   \n",
       "4316816 2021-02-16 09:03:52+00:00   \n",
       "7203281 2020-03-05 05:41:47+00:00   \n",
       "\n",
       "                                                   message  \n",
       "1449181  Польский центр языка прокомментировал многочис...  \n",
       "6691776  Честно говоря, не ожидал такого разворота собы...  \n",
       "2519768  Трамп: \"Я продолжаю традиции дипломатического ...  \n",
       "4316816  🔫 Подростки решили пострелять из пистолета сре...  \n",
       "7203281  Безотносительно самого сайта, весьма поучитель...  "
      ]
     },
     "execution_count": 12,
     "metadata": {},
     "output_type": "execute_result"
    }
   ],
   "source": [
    "messages_10_per = messages.sample(frac=0.1)\n",
    "messages_10_per.head()"
   ]
  },
  {
   "cell_type": "code",
   "execution_count": 13,
   "id": "8c20f25a",
   "metadata": {},
   "outputs": [
    {
     "data": {
      "text/plain": [
       "(701626, 2)"
      ]
     },
     "execution_count": 13,
     "metadata": {},
     "output_type": "execute_result"
    }
   ],
   "source": [
    "messages_10_per.shape"
   ]
  },
  {
   "cell_type": "code",
   "execution_count": 14,
   "id": "fb1f337c",
   "metadata": {},
   "outputs": [
    {
     "data": {
      "text/html": [
       "<div>\n",
       "<style scoped>\n",
       "    .dataframe tbody tr th:only-of-type {\n",
       "        vertical-align: middle;\n",
       "    }\n",
       "\n",
       "    .dataframe tbody tr th {\n",
       "        vertical-align: top;\n",
       "    }\n",
       "\n",
       "    .dataframe thead th {\n",
       "        text-align: right;\n",
       "    }\n",
       "</style>\n",
       "<table border=\"1\" class=\"dataframe\">\n",
       "  <thead>\n",
       "    <tr style=\"text-align: right;\">\n",
       "      <th></th>\n",
       "      <th>datetime</th>\n",
       "      <th>message</th>\n",
       "    </tr>\n",
       "  </thead>\n",
       "  <tbody>\n",
       "    <tr>\n",
       "      <th>5282279</th>\n",
       "      <td>2015-09-24 19:35:13+00:00</td>\n",
       "      <td>Мне нужна визуализация вашей любви</td>\n",
       "    </tr>\n",
       "    <tr>\n",
       "      <th>1920194</th>\n",
       "      <td>2015-09-29 05:34:30+00:00</td>\n",
       "      <td>Проблемы Wi-Fi в московском метро стали темой ...</td>\n",
       "    </tr>\n",
       "    <tr>\n",
       "      <th>1920193</th>\n",
       "      <td>2015-09-29 16:09:16+00:00</td>\n",
       "      <td>Первый иск в Мосгорсуд о пожизненной блокировк...</td>\n",
       "    </tr>\n",
       "    <tr>\n",
       "      <th>1920190</th>\n",
       "      <td>2015-09-30 05:33:00+00:00</td>\n",
       "      <td>Рассмотрение дел об экстремизме поднимут на вы...</td>\n",
       "    </tr>\n",
       "    <tr>\n",
       "      <th>1920188</th>\n",
       "      <td>2015-09-30 07:44:23+00:00</td>\n",
       "      <td>Путин попросил Совфед разрешить использование ...</td>\n",
       "    </tr>\n",
       "  </tbody>\n",
       "</table>\n",
       "</div>"
      ],
      "text/plain": [
       "                         datetime  \\\n",
       "5282279 2015-09-24 19:35:13+00:00   \n",
       "1920194 2015-09-29 05:34:30+00:00   \n",
       "1920193 2015-09-29 16:09:16+00:00   \n",
       "1920190 2015-09-30 05:33:00+00:00   \n",
       "1920188 2015-09-30 07:44:23+00:00   \n",
       "\n",
       "                                                   message  \n",
       "5282279                 Мне нужна визуализация вашей любви  \n",
       "1920194  Проблемы Wi-Fi в московском метро стали темой ...  \n",
       "1920193  Первый иск в Мосгорсуд о пожизненной блокировк...  \n",
       "1920190  Рассмотрение дел об экстремизме поднимут на вы...  \n",
       "1920188  Путин попросил Совфед разрешить использование ...  "
      ]
     },
     "execution_count": 14,
     "metadata": {},
     "output_type": "execute_result"
    }
   ],
   "source": [
    "messages_10_per_1 = messages_10_per.sort_values(by=\"datetime\")\n",
    "messages_10_per_1.head()"
   ]
  },
  {
   "cell_type": "code",
   "execution_count": 15,
   "id": "a415757a",
   "metadata": {},
   "outputs": [
    {
     "name": "stdout",
     "output_type": "stream",
     "text": [
      "The number of words in sampled data:\t 287559504\n"
     ]
    }
   ],
   "source": [
    "print(f\"The number of words in sampled data:\\t {sum(messages_10_per_1['message'].map(len))}\")"
   ]
  },
  {
   "cell_type": "code",
   "execution_count": 16,
   "id": "f1570cd8",
   "metadata": {},
   "outputs": [
    {
     "name": "stdout",
     "output_type": "stream",
     "text": [
      "Wall time: 3min 22s\n"
     ]
    }
   ],
   "source": [
    "%%time\n",
    "processed_mes = messages_10_per_1[\"message\"].map(lambda row: to_vector_preprocessing(row, stop_words))"
   ]
  },
  {
   "cell_type": "code",
   "execution_count": 17,
   "id": "430d4aa5",
   "metadata": {},
   "outputs": [
    {
     "data": {
      "text/html": [
       "<div>\n",
       "<style scoped>\n",
       "    .dataframe tbody tr th:only-of-type {\n",
       "        vertical-align: middle;\n",
       "    }\n",
       "\n",
       "    .dataframe tbody tr th {\n",
       "        vertical-align: top;\n",
       "    }\n",
       "\n",
       "    .dataframe thead th {\n",
       "        text-align: right;\n",
       "    }\n",
       "</style>\n",
       "<table border=\"1\" class=\"dataframe\">\n",
       "  <thead>\n",
       "    <tr style=\"text-align: right;\">\n",
       "      <th></th>\n",
       "      <th>message</th>\n",
       "    </tr>\n",
       "    <tr>\n",
       "      <th>datetime</th>\n",
       "      <th></th>\n",
       "    </tr>\n",
       "  </thead>\n",
       "  <tbody>\n",
       "    <tr>\n",
       "      <th>2015-09-24 19:35:13+00:00</th>\n",
       "      <td>нужна визуализация вашей любви</td>\n",
       "    </tr>\n",
       "    <tr>\n",
       "      <th>2015-09-29 05:34:30+00:00</th>\n",
       "      <td>проблемы московском метро стали темой игры izv...</td>\n",
       "    </tr>\n",
       "    <tr>\n",
       "      <th>2015-09-29 16:09:16+00:00</th>\n",
       "      <td>первый иск мосгорсуд пожизненной блокировке по...</td>\n",
       "    </tr>\n",
       "    <tr>\n",
       "      <th>2015-09-30 05:33:00+00:00</th>\n",
       "      <td>рассмотрение дел экстремизме поднимут высший у...</td>\n",
       "    </tr>\n",
       "    <tr>\n",
       "      <th>2015-09-30 07:44:23+00:00</th>\n",
       "      <td>путин попросил совфед разрешить использование ...</td>\n",
       "    </tr>\n",
       "    <tr>\n",
       "      <th>...</th>\n",
       "      <td>...</td>\n",
       "    </tr>\n",
       "    <tr>\n",
       "      <th>2022-12-26 08:06:48+00:00</th>\n",
       "      <td>поздравление деда мороза снегурочки стали доро...</td>\n",
       "    </tr>\n",
       "    <tr>\n",
       "      <th>2022-12-26 08:09:12+00:00</th>\n",
       "      <td>действия командующего группировкой украине сур...</td>\n",
       "    </tr>\n",
       "    <tr>\n",
       "      <th>2022-12-26 09:07:38+00:00</th>\n",
       "      <td>сша будут повышать ставки предела военный эксп...</td>\n",
       "    </tr>\n",
       "    <tr>\n",
       "      <th>2022-12-26 10:26:21+00:00</th>\n",
       "      <td>министерство обороны республики корея сообщает...</td>\n",
       "    </tr>\n",
       "    <tr>\n",
       "      <th>2022-12-26 10:44:22+00:00</th>\n",
       "      <td>южнокорейское минобороны отчиталось сегодняшне...</td>\n",
       "    </tr>\n",
       "  </tbody>\n",
       "</table>\n",
       "<p>701626 rows × 1 columns</p>\n",
       "</div>"
      ],
      "text/plain": [
       "                                                                     message\n",
       "datetime                                                                    \n",
       "2015-09-24 19:35:13+00:00                     нужна визуализация вашей любви\n",
       "2015-09-29 05:34:30+00:00  проблемы московском метро стали темой игры izv...\n",
       "2015-09-29 16:09:16+00:00  первый иск мосгорсуд пожизненной блокировке по...\n",
       "2015-09-30 05:33:00+00:00  рассмотрение дел экстремизме поднимут высший у...\n",
       "2015-09-30 07:44:23+00:00  путин попросил совфед разрешить использование ...\n",
       "...                                                                      ...\n",
       "2022-12-26 08:06:48+00:00  поздравление деда мороза снегурочки стали доро...\n",
       "2022-12-26 08:09:12+00:00  действия командующего группировкой украине сур...\n",
       "2022-12-26 09:07:38+00:00  сша будут повышать ставки предела военный эксп...\n",
       "2022-12-26 10:26:21+00:00  министерство обороны республики корея сообщает...\n",
       "2022-12-26 10:44:22+00:00  южнокорейское минобороны отчиталось сегодняшне...\n",
       "\n",
       "[701626 rows x 1 columns]"
      ]
     },
     "execution_count": 17,
     "metadata": {},
     "output_type": "execute_result"
    }
   ],
   "source": [
    "processed_mes_1 = pd.DataFrame(processed_mes).set_index(messages_10_per_1[\"datetime\"])\n",
    "processed_mes_1"
   ]
  },
  {
   "cell_type": "markdown",
   "id": "acf8db77",
   "metadata": {},
   "source": [
    "We also add some threshhold (`threshhold=50`) preprocessing to omit unvaluable messages with few words."
   ]
  },
  {
   "cell_type": "code",
   "execution_count": 18,
   "id": "0d92c39a",
   "metadata": {},
   "outputs": [
    {
     "data": {
      "text/html": [
       "<div>\n",
       "<style scoped>\n",
       "    .dataframe tbody tr th:only-of-type {\n",
       "        vertical-align: middle;\n",
       "    }\n",
       "\n",
       "    .dataframe tbody tr th {\n",
       "        vertical-align: top;\n",
       "    }\n",
       "\n",
       "    .dataframe thead th {\n",
       "        text-align: right;\n",
       "    }\n",
       "</style>\n",
       "<table border=\"1\" class=\"dataframe\">\n",
       "  <thead>\n",
       "    <tr style=\"text-align: right;\">\n",
       "      <th></th>\n",
       "      <th>message</th>\n",
       "    </tr>\n",
       "    <tr>\n",
       "      <th>datetime</th>\n",
       "      <th></th>\n",
       "    </tr>\n",
       "  </thead>\n",
       "  <tbody>\n",
       "    <tr>\n",
       "      <th>2015-09-29 05:34:30+00:00</th>\n",
       "      <td>проблемы московском метро стали темой игры izv...</td>\n",
       "    </tr>\n",
       "    <tr>\n",
       "      <th>2015-09-29 16:09:16+00:00</th>\n",
       "      <td>первый иск мосгорсуд пожизненной блокировке по...</td>\n",
       "    </tr>\n",
       "    <tr>\n",
       "      <th>2015-09-30 05:33:00+00:00</th>\n",
       "      <td>рассмотрение дел экстремизме поднимут высший у...</td>\n",
       "    </tr>\n",
       "    <tr>\n",
       "      <th>2015-09-30 07:44:23+00:00</th>\n",
       "      <td>путин попросил совфед разрешить использование ...</td>\n",
       "    </tr>\n",
       "    <tr>\n",
       "      <th>2015-09-30 08:42:28+00:00</th>\n",
       "      <td>американском штате джорджия впервые лет казнил...</td>\n",
       "    </tr>\n",
       "    <tr>\n",
       "      <th>...</th>\n",
       "      <td>...</td>\n",
       "    </tr>\n",
       "    <tr>\n",
       "      <th>2022-12-26 08:06:48+00:00</th>\n",
       "      <td>поздравление деда мороза снегурочки стали доро...</td>\n",
       "    </tr>\n",
       "    <tr>\n",
       "      <th>2022-12-26 08:09:12+00:00</th>\n",
       "      <td>действия командующего группировкой украине сур...</td>\n",
       "    </tr>\n",
       "    <tr>\n",
       "      <th>2022-12-26 09:07:38+00:00</th>\n",
       "      <td>сша будут повышать ставки предела военный эксп...</td>\n",
       "    </tr>\n",
       "    <tr>\n",
       "      <th>2022-12-26 10:26:21+00:00</th>\n",
       "      <td>министерство обороны республики корея сообщает...</td>\n",
       "    </tr>\n",
       "    <tr>\n",
       "      <th>2022-12-26 10:44:22+00:00</th>\n",
       "      <td>южнокорейское минобороны отчиталось сегодняшне...</td>\n",
       "    </tr>\n",
       "  </tbody>\n",
       "</table>\n",
       "<p>615878 rows × 1 columns</p>\n",
       "</div>"
      ],
      "text/plain": [
       "                                                                     message\n",
       "datetime                                                                    \n",
       "2015-09-29 05:34:30+00:00  проблемы московском метро стали темой игры izv...\n",
       "2015-09-29 16:09:16+00:00  первый иск мосгорсуд пожизненной блокировке по...\n",
       "2015-09-30 05:33:00+00:00  рассмотрение дел экстремизме поднимут высший у...\n",
       "2015-09-30 07:44:23+00:00  путин попросил совфед разрешить использование ...\n",
       "2015-09-30 08:42:28+00:00  американском штате джорджия впервые лет казнил...\n",
       "...                                                                      ...\n",
       "2022-12-26 08:06:48+00:00  поздравление деда мороза снегурочки стали доро...\n",
       "2022-12-26 08:09:12+00:00  действия командующего группировкой украине сур...\n",
       "2022-12-26 09:07:38+00:00  сша будут повышать ставки предела военный эксп...\n",
       "2022-12-26 10:26:21+00:00  министерство обороны республики корея сообщает...\n",
       "2022-12-26 10:44:22+00:00  южнокорейское минобороны отчиталось сегодняшне...\n",
       "\n",
       "[615878 rows x 1 columns]"
      ]
     },
     "execution_count": 18,
     "metadata": {},
     "output_type": "execute_result"
    }
   ],
   "source": [
    "threshhold = 50\n",
    "processed_mes_2 = processed_mes_1[processed_mes_1[\"message\"].apply(len) > threshhold]\n",
    "processed_mes_2"
   ]
  },
  {
   "cell_type": "code",
   "execution_count": 19,
   "id": "eafd7033",
   "metadata": {
    "scrolled": true
   },
   "outputs": [
    {
     "name": "stdout",
     "output_type": "stream",
     "text": [
      "Wall time: 16min 43s\n"
     ]
    }
   ],
   "source": [
    "%%time\n",
    "\n",
    "top_words_by_message = []\n",
    "for idx in range(processed_mes_2.shape[0]):\n",
    "    sm_idx = tfidf_vectorizer(processed_mes_2.iloc[idx].tolist())\n",
    "    sm_idx.index = [processed_mes_2.index[idx]]\n",
    "    top_words_by_message.append(sm_idx)"
   ]
  },
  {
   "cell_type": "code",
   "execution_count": 20,
   "id": "6ed42d3b",
   "metadata": {},
   "outputs": [
    {
     "data": {
      "text/plain": [
       "615878"
      ]
     },
     "execution_count": 20,
     "metadata": {},
     "output_type": "execute_result"
    }
   ],
   "source": [
    "len(top_words_by_message)"
   ]
  },
  {
   "cell_type": "markdown",
   "id": "a7c6521d",
   "metadata": {},
   "source": [
    "Besides, we will resample data for 3 months period for convenient interpretation of results and RAM limit if the \n",
    "the period will be too high:\n",
    "\n",
    "    slicing_threshhold_3M = the number of messages / data period in months = 615878 / (7 x 4) ≈ 22000  \n",
    "    \n",
    "*Note:* we resample data in the average number of messages for 3 months and thus periods can actually\n",
    "be inequal to define.  "
   ]
  },
  {
   "cell_type": "code",
   "execution_count": 158,
   "id": "11c6ba07",
   "metadata": {},
   "outputs": [
    {
     "name": "stderr",
     "output_type": "stream",
     "text": [
      "100%|████████████████████████████████████████████████████████████████████████████████████████████████████████| 615878/615878 [04:45<00:00, 2155.99it/s]"
     ]
    },
    {
     "name": "stdout",
     "output_type": "stream",
     "text": [
      "Wall time: 4min 45s\n"
     ]
    },
    {
     "name": "stderr",
     "output_type": "stream",
     "text": [
      "\n"
     ]
    }
   ],
   "source": [
    "%%time\n",
    "\n",
    "counter, slicing_threshhold = 0, 22000 # 3M period\n",
    "top_words_by_3M = []\n",
    "df_3M = defaultdict(float)\n",
    "for row_idx in tqdm(range(len(top_words_by_message))):\n",
    "    counter += 1\n",
    "    current_message = top_words_by_message[row_idx].iloc[0].to_dict()\n",
    "    for key, item in current_message.items():\n",
    "        df_3M[key] += item\n",
    "    if counter > slicing_threshhold:\n",
    "        top_words_by_3M.append((top_words_by_message[row_idx - counter + 1].index, df_3M))\n",
    "        df_3M = defaultdict(float)\n",
    "        counter = 0"
   ]
  },
  {
   "cell_type": "code",
   "execution_count": 159,
   "id": "329d525e",
   "metadata": {},
   "outputs": [
    {
     "name": "stderr",
     "output_type": "stream",
     "text": [
      "100%|██████████████████████████████████████████████████████████████████████████████████████████████████████████████████| 27/27 [00:05<00:00,  4.70it/s]"
     ]
    },
    {
     "name": "stdout",
     "output_type": "stream",
     "text": [
      "Wall time: 5.75 s\n"
     ]
    },
    {
     "name": "stderr",
     "output_type": "stream",
     "text": [
      "\n"
     ]
    }
   ],
   "source": [
    "%%time\n",
    "\n",
    "top_30_words_3M = []\n",
    "for row_idx in tqdm(range(len(top_words_by_3M))):\n",
    "    top_30_words_3M.append((top_words_by_3M[row_idx][0], \n",
    "                            sorted(top_words_by_3M[row_idx][1].items(), key=lambda item: item[1], reverse=True)[:30]))"
   ]
  },
  {
   "cell_type": "code",
   "execution_count": 160,
   "id": "fa0e9ed6",
   "metadata": {},
   "outputs": [],
   "source": [
    "def plot_results_idx(top_words_by_period, idx):\n",
    "    words_series = pd.Series(dict(top_words_by_period[idx][1]))\n",
    "    return px.bar(words_series.reset_index().rename(columns={0: \"value\"}),\n",
    "       x=\"index\", \n",
    "       y=\"value\", \n",
    "       color=\"value\",\n",
    "       color_continuous_scale='Agsunset').data"
   ]
  },
  {
   "cell_type": "code",
   "execution_count": 161,
   "id": "5929d9ff",
   "metadata": {},
   "outputs": [],
   "source": [
    "from plotly.subplots import make_subplots\n",
    "\n",
    "titles = []\n",
    "for row_idx in range(len(top_30_words_3M) - 1):\n",
    "    start = top_30_words_3M[row_idx][0].strftime(\"%Y-%m-%d\").values[0]\n",
    "    end = top_30_words_3M[row_idx + 1][0].strftime(\"%Y-%m-%d\").values[0]\n",
    "    titles.append(f\"Top words from {start} to {end}\")\n",
    "    \n",
    "fig = make_subplots(rows=len(top_30_words_3M), cols=1, subplot_titles=titles)"
   ]
  },
  {
   "cell_type": "code",
   "execution_count": 162,
   "id": "5766ef1e",
   "metadata": {
    "scrolled": false
   },
   "outputs": [
    {
     "data": {
      "application/vnd.plotly.v1+json": {
       "config": {
        "plotlyServerURL": "https://plot.ly"
       },
       "data": [
        {
         "alignmentgroup": "True",
         "hovertemplate": "index=%{x}<br>value=%{marker.color}<extra></extra>",
         "legendgroup": "",
         "marker": {
          "color": [
           2584.5819169606248,
           537.2860978634835,
           451.078092522407,
           400.63230032871417,
           328.4777511485469,
           320.78783445496646,
           244.01795776896054,
           228.00245889915723,
           213.95268226477947,
           202.81832851211865,
           188.61031211175822,
           174.5632513224241,
           173.67189188012998,
           168.1673664203734,
           164.69476961049702,
           160.53503942003414,
           155.46518768554066,
           155.3608706603317,
           150.28908782104318,
           146.32434814706968,
           145.38285860198863,
           140.64880301197135,
           139.0308974471589,
           123.5003028184548,
           121.1100679111979,
           121.0647016974189,
           118.1912288249785,
           115.58518323057154,
           112.04589470632997,
           106.25455188439408
          ],
          "coloraxis": "coloraxis",
          "pattern": {
           "shape": ""
          }
         },
         "name": "",
         "offsetgroup": "",
         "orientation": "v",
         "showlegend": false,
         "textposition": "auto",
         "type": "bar",
         "x": [
          "https",
          "www",
          "россии",
          "com",
          "news",
          "html",
          "сша",
          "goo",
          "года",
          "telegram",
          "ria",
          "utm_source",
          "человек",
          "время",
          "очень",
          "сегодня",
          "москве",
          "путин",
          "который",
          "ntv",
          "novosti",
          "которые",
          "лет",
          "просто",
          "против",
          "россия",
          "видео",
          "году",
          "почему",
          "читать"
         ],
         "xaxis": "x",
         "y": [
          2584.5819169606248,
          537.2860978634835,
          451.078092522407,
          400.63230032871417,
          328.4777511485469,
          320.78783445496646,
          244.01795776896054,
          228.00245889915723,
          213.95268226477947,
          202.81832851211865,
          188.61031211175822,
          174.5632513224241,
          173.67189188012998,
          168.1673664203734,
          164.69476961049702,
          160.53503942003414,
          155.46518768554066,
          155.3608706603317,
          150.28908782104318,
          146.32434814706968,
          145.38285860198863,
          140.64880301197135,
          139.0308974471589,
          123.5003028184548,
          121.1100679111979,
          121.0647016974189,
          118.1912288249785,
          115.58518323057154,
          112.04589470632997,
          106.25455188439408
         ],
         "yaxis": "y"
        },
        {
         "alignmentgroup": "True",
         "hovertemplate": "index=%{x}<br>value=%{marker.color}<extra></extra>",
         "legendgroup": "",
         "marker": {
          "color": [
           1416.8513278279902,
           472.5396662087079,
           336.22287129886945,
           301.6429273767038,
           285.7344705187631,
           256.26989551263426,
           245.89167993052916,
           244.70394806992576,
           218.6517813074828,
           210.7962057178854,
           199.22982908851458,
           198.39085035859998,
           193.40757632450476,
           183.91731332405973,
           180.67078744361604,
           177.19618290072975,
           168.669114771386,
           153.4458655649106,
           151.7420573329047,
           146.06128629038488,
           139.44732638867023,
           137.56092329751135,
           132.52799817058843,
           127.22365474836204,
           125.31922946932715,
           124.99586286479587,
           120.18373506706867,
           119.52870628768143,
           119.49849590866137,
           119.19095176991604
          ],
          "coloraxis": "coloraxis",
          "pattern": {
           "shape": ""
          }
         },
         "name": "",
         "offsetgroup": "",
         "orientation": "v",
         "showlegend": false,
         "textposition": "auto",
         "type": "bar",
         "x": [
          "https",
          "россии",
          "news",
          "html",
          "www",
          "года",
          "сша",
          "com",
          "сегодня",
          "путин",
          "который",
          "время",
          "которые",
          "человек",
          "лет",
          "очень",
          "goo",
          "просто",
          "telegram",
          "году",
          "москве",
          "пока",
          "рублей",
          "всё",
          "президента",
          "россия",
          "сми",
          "области",
          "будут",
          "против"
         ],
         "xaxis": "x2",
         "y": [
          1416.8513278279902,
          472.5396662087079,
          336.22287129886945,
          301.6429273767038,
          285.7344705187631,
          256.26989551263426,
          245.89167993052916,
          244.70394806992576,
          218.6517813074828,
          210.7962057178854,
          199.22982908851458,
          198.39085035859998,
          193.40757632450476,
          183.91731332405973,
          180.67078744361604,
          177.19618290072975,
          168.669114771386,
          153.4458655649106,
          151.7420573329047,
          146.06128629038488,
          139.44732638867023,
          137.56092329751135,
          132.52799817058843,
          127.22365474836204,
          125.31922946932715,
          124.99586286479587,
          120.18373506706867,
          119.52870628768143,
          119.49849590866137,
          119.19095176991604
         ],
         "yaxis": "y2"
        },
        {
         "alignmentgroup": "True",
         "hovertemplate": "index=%{x}<br>value=%{marker.color}<extra></extra>",
         "legendgroup": "",
         "marker": {
          "color": [
           1287.998325047389,
           435.37553439105375,
           272.721093811913,
           266.3761787943442,
           253.941688494586,
           250.01747983196842,
           222.1525459117048,
           219.437646162529,
           217.2777226266968,
           213.03169174826854,
           208.18304221795194,
           187.82371732111764,
           186.2055676014924,
           183.96651484384552,
           182.80736274055366,
           165.58099433564564,
           162.27518129819046,
           153.83766949797638,
           150.92911582962628,
           146.79443871268654,
           146.64477405548436,
           138.2640120484448,
           136.82882247395,
           132.4584767778169,
           132.43365017415155,
           127.05625257256645,
           126.72497788426698,
           120.98066953811716,
           119.68238346228974,
           115.97745750885703
          ],
          "coloraxis": "coloraxis",
          "pattern": {
           "shape": ""
          }
         },
         "name": "",
         "offsetgroup": "",
         "orientation": "v",
         "showlegend": false,
         "textposition": "auto",
         "type": "bar",
         "x": [
          "https",
          "россии",
          "года",
          "news",
          "сша",
          "www",
          "com",
          "который",
          "сегодня",
          "которые",
          "время",
          "очень",
          "человек",
          "путин",
          "лет",
          "году",
          "просто",
          "области",
          "goo",
          "рублей",
          "пока",
          "также",
          "против",
          "будут",
          "html",
          "всё",
          "россия",
          "москве",
          "заявил",
          "ещё"
         ],
         "xaxis": "x3",
         "y": [
          1287.998325047389,
          435.37553439105375,
          272.721093811913,
          266.3761787943442,
          253.941688494586,
          250.01747983196842,
          222.1525459117048,
          219.437646162529,
          217.2777226266968,
          213.03169174826854,
          208.18304221795194,
          187.82371732111764,
          186.2055676014924,
          183.96651484384552,
          182.80736274055366,
          165.58099433564564,
          162.27518129819046,
          153.83766949797638,
          150.92911582962628,
          146.79443871268654,
          146.64477405548436,
          138.2640120484448,
          136.82882247395,
          132.4584767778169,
          132.43365017415155,
          127.05625257256645,
          126.72497788426698,
          120.98066953811716,
          119.68238346228974,
          115.97745750885703
         ],
         "yaxis": "y3"
        },
        {
         "alignmentgroup": "True",
         "hovertemplate": "index=%{x}<br>value=%{marker.color}<extra></extra>",
         "legendgroup": "",
         "marker": {
          "color": [
           1138.1409167783825,
           421.67502968154173,
           268.8721906095134,
           246.2998081203327,
           238.9406129076755,
           214.2150788345378,
           213.0778640471747,
           211.57258556708288,
           209.70160647986697,
           191.3989293220434,
           184.46713781654168,
           181.62025588851247,
           181.1741142072622,
           180.91696365896044,
           174.253360515407,
           171.10627941997151,
           161.53546567967734,
           159.81245348176543,
           152.9364055353436,
           144.43565323182864,
           143.75012355404186,
           143.26521540065536,
           143.0873657932168,
           142.43793787306308,
           131.95349395285325,
           130.4179948263605,
           130.2967875986921,
           123.28658117730613,
           122.89677963028235,
           121.09246414701146
          ],
          "coloraxis": "coloraxis",
          "pattern": {
           "shape": ""
          }
         },
         "name": "",
         "offsetgroup": "",
         "orientation": "v",
         "showlegend": false,
         "textposition": "auto",
         "type": "bar",
         "x": [
          "https",
          "россии",
          "сша",
          "года",
          "news",
          "которые",
          "который",
          "сегодня",
          "время",
          "лет",
          "www",
          "очень",
          "человек",
          "com",
          "году",
          "области",
          "рублей",
          "путин",
          "просто",
          "против",
          "заявил",
          "пока",
          "также",
          "президента",
          "new_militarycolumnist",
          "будут",
          "москве",
          "глава",
          "власти",
          "украины"
         ],
         "xaxis": "x4",
         "y": [
          1138.1409167783825,
          421.67502968154173,
          268.8721906095134,
          246.2998081203327,
          238.9406129076755,
          214.2150788345378,
          213.0778640471747,
          211.57258556708288,
          209.70160647986697,
          191.3989293220434,
          184.46713781654168,
          181.62025588851247,
          181.1741142072622,
          180.91696365896044,
          174.253360515407,
          171.10627941997151,
          161.53546567967734,
          159.81245348176543,
          152.9364055353436,
          144.43565323182864,
          143.75012355404186,
          143.26521540065536,
          143.0873657932168,
          142.43793787306308,
          131.95349395285325,
          130.4179948263605,
          130.2967875986921,
          123.28658117730613,
          122.89677963028235,
          121.09246414701146
         ],
         "yaxis": "y4"
        },
        {
         "alignmentgroup": "True",
         "hovertemplate": "index=%{x}<br>value=%{marker.color}<extra></extra>",
         "legendgroup": "",
         "marker": {
          "color": [
           1115.743693431594,
           454.84115652023246,
           274.7491292592327,
           255.8675757812761,
           232.4089454288598,
           224.3389114149061,
           218.44559564746723,
           218.33441223503584,
           214.41998257540408,
           194.7804555492499,
           190.99036258251087,
           189.7912094428365,
           185.49932399173548,
           175.29205179191447,
           174.2153728660966,
           170.12163789076445,
           157.85848301541415,
           154.5186579161901,
           153.76994916750735,
           151.01626901982493,
           149.97144364948383,
           149.0857323677325,
           144.50983371055653,
           141.81229146215222,
           141.05749738612747,
           140.4806881297471,
           134.84761276370335,
           133.98348710502955,
           132.15360534162102,
           129.17510136168644
          ],
          "coloraxis": "coloraxis",
          "pattern": {
           "shape": ""
          }
         },
         "name": "",
         "offsetgroup": "",
         "orientation": "v",
         "showlegend": false,
         "textposition": "auto",
         "type": "bar",
         "x": [
          "https",
          "россии",
          "сша",
          "года",
          "которые",
          "человек",
          "время",
          "который",
          "сегодня",
          "news",
          "путин",
          "очень",
          "лет",
          "просто",
          "москве",
          "com",
          "заявил",
          "году",
          "также",
          "www",
          "пока",
          "области",
          "россия",
          "людей",
          "рублей",
          "против",
          "президента",
          "дело",
          "будут",
          "всё"
         ],
         "xaxis": "x5",
         "y": [
          1115.743693431594,
          454.84115652023246,
          274.7491292592327,
          255.8675757812761,
          232.4089454288598,
          224.3389114149061,
          218.44559564746723,
          218.33441223503584,
          214.41998257540408,
          194.7804555492499,
          190.99036258251087,
          189.7912094428365,
          185.49932399173548,
          175.29205179191447,
          174.2153728660966,
          170.12163789076445,
          157.85848301541415,
          154.5186579161901,
          153.76994916750735,
          151.01626901982493,
          149.97144364948383,
          149.0857323677325,
          144.50983371055653,
          141.81229146215222,
          141.05749738612747,
          140.4806881297471,
          134.84761276370335,
          133.98348710502955,
          132.15360534162102,
          129.17510136168644
         ],
         "yaxis": "y5"
        },
        {
         "alignmentgroup": "True",
         "hovertemplate": "index=%{x}<br>value=%{marker.color}<extra></extra>",
         "legendgroup": "",
         "marker": {
          "color": [
           998.0128398160685,
           489.3147866593604,
           347.38090762336543,
           321.3407633995311,
           282.11180641894924,
           236.47607520811002,
           225.42056682030986,
           218.71557598802423,
           213.34267808866153,
           211.15672211301668,
           200.0319038077201,
           191.45426420831302,
           181.71658913107677,
           176.28741960337993,
           175.56436842624692,
           169.7061947885729,
           163.6238264861885,
           161.3495736604152,
           160.48714561602966,
           159.33558336296934,
           149.76892562160347,
           141.7229065216841,
           141.40712421307947,
           141.03903193363055,
           135.35250367923445,
           132.36985215473322,
           128.26978320859305,
           127.51534886699184,
           126.0659499717323,
           125.51346604921906
          ],
          "coloraxis": "coloraxis",
          "pattern": {
           "shape": ""
          }
         },
         "name": "",
         "offsetgroup": "",
         "orientation": "v",
         "showlegend": false,
         "textposition": "auto",
         "type": "bar",
         "x": [
          "https",
          "россии",
          "года",
          "сша",
          "путин",
          "время",
          "человек",
          "которые",
          "который",
          "сегодня",
          "году",
          "лет",
          "news",
          "очень",
          "россия",
          "также",
          "пока",
          "просто",
          "президента",
          "заявил",
          "будут",
          "рублей",
          "президент",
          "против",
          "области",
          "ещё",
          "всё",
          "год",
          "глава",
          "власти"
         ],
         "xaxis": "x6",
         "y": [
          998.0128398160685,
          489.3147866593604,
          347.38090762336543,
          321.3407633995311,
          282.11180641894924,
          236.47607520811002,
          225.42056682030986,
          218.71557598802423,
          213.34267808866153,
          211.15672211301668,
          200.0319038077201,
          191.45426420831302,
          181.71658913107677,
          176.28741960337993,
          175.56436842624692,
          169.7061947885729,
          163.6238264861885,
          161.3495736604152,
          160.48714561602966,
          159.33558336296934,
          149.76892562160347,
          141.7229065216841,
          141.40712421307947,
          141.03903193363055,
          135.35250367923445,
          132.36985215473322,
          128.26978320859305,
          127.51534886699184,
          126.0659499717323,
          125.51346604921906
         ],
         "yaxis": "y6"
        },
        {
         "alignmentgroup": "True",
         "hovertemplate": "index=%{x}<br>value=%{marker.color}<extra></extra>",
         "legendgroup": "",
         "marker": {
          "color": [
           752.1706508575588,
           566.767103497275,
           558.7085988023792,
           469.0614880639929,
           319.2545647159126,
           283.46437640813434,
           277.8048277558254,
           248.49862876355465,
           238.2872047732572,
           226.88901987825184,
           226.6394376096631,
           226.20566121724966,
           215.32352180373138,
           201.6369779897643,
           194.23287184089364,
           194.1215903171581,
           186.07301183708847,
           182.11391527886605,
           172.89511211411786,
           172.5943157063886,
           171.3936753752468,
           170.72861572428266,
           165.41601114271347,
           163.15150551969657,
           154.58053929511928,
           153.31097089090633,
           149.92173559186884,
           149.04635002210108,
           143.17300610735307,
           142.04086067620017
          ],
          "coloraxis": "coloraxis",
          "pattern": {
           "shape": ""
          }
         },
         "name": "",
         "offsetgroup": "",
         "orientation": "v",
         "showlegend": false,
         "textposition": "auto",
         "type": "bar",
         "x": [
          "https",
          "коронавируса",
          "россии",
          "коронавирусом",
          "человек",
          "москве",
          "коронавирус",
          "путин",
          "сша",
          "которые",
          "года",
          "время",
          "будут",
          "марта",
          "сегодня",
          "власти",
          "апреля",
          "также",
          "области",
          "который",
          "covid",
          "пока",
          "лет",
          "москвы",
          "очень",
          "заявил",
          "людей",
          "число",
          "россия",
          "рублей"
         ],
         "xaxis": "x7",
         "y": [
          752.1706508575588,
          566.767103497275,
          558.7085988023792,
          469.0614880639929,
          319.2545647159126,
          283.46437640813434,
          277.8048277558254,
          248.49862876355465,
          238.2872047732572,
          226.88901987825184,
          226.6394376096631,
          226.20566121724966,
          215.32352180373138,
          201.6369779897643,
          194.23287184089364,
          194.1215903171581,
          186.07301183708847,
          182.11391527886605,
          172.89511211411786,
          172.5943157063886,
          171.3936753752468,
          170.72861572428266,
          165.41601114271347,
          163.15150551969657,
          154.58053929511928,
          153.31097089090633,
          149.92173559186884,
          149.04635002210108,
          143.17300610735307,
          142.04086067620017
         ],
         "yaxis": "y7"
        },
        {
         "alignmentgroup": "True",
         "hovertemplate": "index=%{x}<br>value=%{marker.color}<extra></extra>",
         "legendgroup": "",
         "marker": {
          "color": [
           803.8218917716042,
           581.7657655958753,
           346.4828389367719,
           341.63459337176647,
           322.97621248929664,
           315.4794510257936,
           301.905649460354,
           265.6188975717722,
           249.48006442257736,
           237.61694979580517,
           233.39604910203116,
           217.21587350441516,
           206.165393937355,
           202.0172796442989,
           196.93859178269315,
           196.43217414151343,
           186.73810289573794,
           185.79511282695864,
           181.9220517149952,
           170.74595244010777,
           170.46938592759102,
           162.41949286002898,
           160.39680566638043,
           159.59973234823818,
           158.58090715302222,
           157.97018928791562,
           156.8293483065494,
           154.43736908240624,
           153.9396437456024,
           153.48516911258605
          ],
          "coloraxis": "coloraxis",
          "pattern": {
           "shape": ""
          }
         },
         "name": "",
         "offsetgroup": "",
         "orientation": "v",
         "showlegend": false,
         "textposition": "auto",
         "type": "bar",
         "x": [
          "https",
          "россии",
          "коронавируса",
          "москве",
          "человек",
          "сша",
          "коронавирусом",
          "путин",
          "время",
          "года",
          "мая",
          "которые",
          "июня",
          "сегодня",
          "covid",
          "сутки",
          "который",
          "будут",
          "также",
          "заявил",
          "лет",
          "пока",
          "news",
          "области",
          "очень",
          "рублей",
          "число",
          "глава",
          "день",
          "против"
         ],
         "xaxis": "x8",
         "y": [
          803.8218917716042,
          581.7657655958753,
          346.4828389367719,
          341.63459337176647,
          322.97621248929664,
          315.4794510257936,
          301.905649460354,
          265.6188975717722,
          249.48006442257736,
          237.61694979580517,
          233.39604910203116,
          217.21587350441516,
          206.165393937355,
          202.0172796442989,
          196.93859178269315,
          196.43217414151343,
          186.73810289573794,
          185.79511282695864,
          181.9220517149952,
          170.74595244010777,
          170.46938592759102,
          162.41949286002898,
          160.39680566638043,
          159.59973234823818,
          158.58090715302222,
          157.97018928791562,
          156.8293483065494,
          154.43736908240624,
          153.9396437456024,
          153.48516911258605
         ],
         "yaxis": "y8"
        },
        {
         "alignmentgroup": "True",
         "hovertemplate": "index=%{x}<br>value=%{marker.color}<extra></extra>",
         "legendgroup": "",
         "marker": {
          "color": [
           750.1458695626153,
           517.9521547136842,
           416.3985513949233,
           364.71411728370975,
           269.09702110739937,
           240.26792137483272,
           236.57262281084655,
           236.52971212194706,
           228.90513656861646,
           223.81463426804117,
           216.06000629862226,
           205.2438710247306,
           197.8785053986797,
           189.24722267329645,
           184.04046190357872,
           178.1961370170982,
           176.6597296626849,
           173.95657492718306,
           173.35648161037952,
           163.95513773385298,
           159.17591840947884,
           157.23718517009252,
           150.10764415980773,
           146.78867598369416,
           145.03843285750855,
           144.2417642321025,
           141.8207520878832,
           137.4655859097458,
           137.17890264202404,
           132.86507027744506
          ],
          "coloraxis": "coloraxis",
          "pattern": {
           "shape": ""
          }
         },
         "name": "",
         "offsetgroup": "",
         "orientation": "v",
         "showlegend": false,
         "textposition": "auto",
         "type": "bar",
         "x": [
          "https",
          "россии",
          "лукашенко",
          "белоруссии",
          "человек",
          "заявил",
          "сша",
          "года",
          "время",
          "сегодня",
          "которые",
          "минске",
          "также",
          "коронавируса",
          "москве",
          "который",
          "лет",
          "навального",
          "видео",
          "против",
          "пока",
          "очень",
          "году",
          "люди",
          "будут",
          "глава",
          "власти",
          "путин",
          "людей",
          "рублей"
         ],
         "xaxis": "x9",
         "y": [
          750.1458695626153,
          517.9521547136842,
          416.3985513949233,
          364.71411728370975,
          269.09702110739937,
          240.26792137483272,
          236.57262281084655,
          236.52971212194706,
          228.90513656861646,
          223.81463426804117,
          216.06000629862226,
          205.2438710247306,
          197.8785053986797,
          189.24722267329645,
          184.04046190357872,
          178.1961370170982,
          176.6597296626849,
          173.95657492718306,
          173.35648161037952,
          163.95513773385298,
          159.17591840947884,
          157.23718517009252,
          150.10764415980773,
          146.78867598369416,
          145.03843285750855,
          144.2417642321025,
          141.8207520878832,
          137.4655859097458,
          137.17890264202404,
          132.86507027744506
         ],
         "yaxis": "y9"
        },
        {
         "alignmentgroup": "True",
         "hovertemplate": "index=%{x}<br>value=%{marker.color}<extra></extra>",
         "legendgroup": "",
         "marker": {
          "color": [
           715.1247768345764,
           532.5212477230781,
           308.14632932717797,
           285.4419224152607,
           256.31433870875765,
           243.66191456681278,
           229.24613544726682,
           220.09689914255392,
           216.2281056938212,
           215.95367695330356,
           210.17238957993018,
           209.5928495498297,
           202.45904084568406,
           199.53029086438292,
           199.311366419489,
           196.93964792422972,
           190.67734805567335,
           178.48023518045457,
           176.10485569753217,
           166.7126594058095,
           164.15138771741746,
           163.88750182358757,
           161.24225563215987,
           159.93796939954456,
           159.1381560396704,
           156.4212837186364,
           155.07211788483116,
           152.85191024829373,
           149.42957816963377,
           147.10528498333204
          ],
          "coloraxis": "coloraxis",
          "pattern": {
           "shape": ""
          }
         },
         "name": "",
         "offsetgroup": "",
         "orientation": "v",
         "showlegend": false,
         "textposition": "auto",
         "type": "bar",
         "x": [
          "https",
          "россии",
          "сша",
          "заявил",
          "года",
          "человек",
          "армении",
          "путин",
          "азербайджана",
          "время",
          "карабахе",
          "москве",
          "коронавируса",
          "также",
          "сегодня",
          "которые",
          "коронавирусом",
          "который",
          "лет",
          "президента",
          "россия",
          "будут",
          "области",
          "news",
          "глава",
          "власти",
          "президент",
          "году",
          "против",
          "очень"
         ],
         "xaxis": "x10",
         "y": [
          715.1247768345764,
          532.5212477230781,
          308.14632932717797,
          285.4419224152607,
          256.31433870875765,
          243.66191456681278,
          229.24613544726682,
          220.09689914255392,
          216.2281056938212,
          215.95367695330356,
          210.17238957993018,
          209.5928495498297,
          202.45904084568406,
          199.53029086438292,
          199.311366419489,
          196.93964792422972,
          190.67734805567335,
          178.48023518045457,
          176.10485569753217,
          166.7126594058095,
          164.15138771741746,
          163.88750182358757,
          161.24225563215987,
          159.93796939954456,
          159.1381560396704,
          156.4212837186364,
          155.07211788483116,
          152.85191024829373,
          149.42957816963377,
          147.10528498333204
         ],
         "yaxis": "y10"
        },
        {
         "alignmentgroup": "True",
         "hovertemplate": "index=%{x}<br>value=%{marker.color}<extra></extra>",
         "legendgroup": "",
         "marker": {
          "color": [
           654.4321686388714,
           556.9021749464057,
           363.38475493373363,
           359.33395149108713,
           262.6278952520025,
           252.7148720881285,
           243.34162459177085,
           232.24706953673723,
           230.73922732195024,
           215.91154707604878,
           205.31676615928663,
           200.00347110513204,
           197.7550978822331,
           196.2263513613562,
           191.55441153426224,
           186.9246571835202,
           175.923965496635,
           172.00240562334398,
           171.65303452272423,
           156.28296187315868,
           151.59441991901852,
           151.13382621017573,
           149.42890261506082,
           148.46056338125416,
           146.54936067679694,
           140.87518369023468,
           140.4898897065098,
           140.1982116346682,
           139.58550657278872,
           138.54036962671802
          ],
          "coloraxis": "coloraxis",
          "pattern": {
           "shape": ""
          }
         },
         "name": "",
         "offsetgroup": "",
         "orientation": "v",
         "showlegend": false,
         "textposition": "auto",
         "type": "bar",
         "x": [
          "https",
          "россии",
          "сша",
          "года",
          "человек",
          "коронавируса",
          "путин",
          "году",
          "время",
          "которые",
          "лет",
          "москве",
          "заявил",
          "также",
          "который",
          "будут",
          "навального",
          "сегодня",
          "власти",
          "декабря",
          "год",
          "января",
          "очень",
          "рублей",
          "против",
          "видео",
          "президента",
          "глава",
          "коронавирусом",
          "news"
         ],
         "xaxis": "x11",
         "y": [
          654.4321686388714,
          556.9021749464057,
          363.38475493373363,
          359.33395149108713,
          262.6278952520025,
          252.7148720881285,
          243.34162459177085,
          232.24706953673723,
          230.73922732195024,
          215.91154707604878,
          205.31676615928663,
          200.00347110513204,
          197.7550978822331,
          196.2263513613562,
          191.55441153426224,
          186.9246571835202,
          175.923965496635,
          172.00240562334398,
          171.65303452272423,
          156.28296187315868,
          151.59441991901852,
          151.13382621017573,
          149.42890261506082,
          148.46056338125416,
          146.54936067679694,
          140.87518369023468,
          140.4898897065098,
          140.1982116346682,
          139.58550657278872,
          138.54036962671802
         ],
         "yaxis": "y11"
        },
        {
         "alignmentgroup": "True",
         "hovertemplate": "index=%{x}<br>value=%{marker.color}<extra></extra>",
         "legendgroup": "",
         "marker": {
          "color": [
           604.5471702806942,
           573.4403148968076,
           306.69120841110976,
           302.6645665793874,
           296.51539191222486,
           235.84730930770215,
           228.15008178174378,
           225.40209074659094,
           212.23622194587645,
           205.69140543982863,
           201.33734469025723,
           201.03544210362327,
           194.78547950385996,
           193.41411224544797,
           191.2794589665284,
           188.86039169997758,
           161.8565773676766,
           157.56522089504182,
           152.01751014811214,
           149.8367168724068,
           149.68125731379877,
           149.5129757833124,
           148.64389951333257,
           145.23829612754298,
           144.27529682247453,
           144.0404987775818,
           143.97815477419672,
           141.78879117017092,
           141.3964773760782,
           133.37478195629524
          ],
          "coloraxis": "coloraxis",
          "pattern": {
           "shape": ""
          }
         },
         "name": "",
         "offsetgroup": "",
         "orientation": "v",
         "showlegend": false,
         "textposition": "auto",
         "type": "bar",
         "x": [
          "россии",
          "https",
          "сша",
          "навального",
          "года",
          "человек",
          "которые",
          "время",
          "также",
          "году",
          "москве",
          "который",
          "заявил",
          "лет",
          "против",
          "сегодня",
          "путин",
          "навальный",
          "очень",
          "пока",
          "будут",
          "россия",
          "коронавируса",
          "видео",
          "рублей",
          "марта",
          "власти",
          "области",
          "суд",
          "просто"
         ],
         "xaxis": "x12",
         "y": [
          604.5471702806942,
          573.4403148968076,
          306.69120841110976,
          302.6645665793874,
          296.51539191222486,
          235.84730930770215,
          228.15008178174378,
          225.40209074659094,
          212.23622194587645,
          205.69140543982863,
          201.33734469025723,
          201.03544210362327,
          194.78547950385996,
          193.41411224544797,
          191.2794589665284,
          188.86039169997758,
          161.8565773676766,
          157.56522089504182,
          152.01751014811214,
          149.8367168724068,
          149.68125731379877,
          149.5129757833124,
          148.64389951333257,
          145.23829612754298,
          144.27529682247453,
          144.0404987775818,
          143.97815477419672,
          141.78879117017092,
          141.3964773760782,
          133.37478195629524
         ],
         "yaxis": "y12"
        },
        {
         "alignmentgroup": "True",
         "hovertemplate": "index=%{x}<br>value=%{marker.color}<extra></extra>",
         "legendgroup": "",
         "marker": {
          "color": [
           658.773733105335,
           542.7747153023274,
           338.09524570209015,
           279.1896439515655,
           260.7601351651109,
           232.6809738388138,
           230.23612318292592,
           222.1718968758111,
           214.7866882828781,
           208.64635352992764,
           203.22214476301596,
           197.73147111291388,
           195.09508828067084,
           192.53739693933719,
           187.20560333944928,
           181.97371993827142,
           170.1450435620475,
           162.79170547166908,
           158.2405205158663,
           150.01208472644436,
           149.48516740360466,
           149.47423377923124,
           148.36824119045883,
           148.03790146087462,
           144.95393435430202,
           137.0743564532713,
           136.99864638750998,
           136.11995131897294,
           133.42429118237087,
           126.7887529858243
          ],
          "coloraxis": "coloraxis",
          "pattern": {
           "shape": ""
          }
         },
         "name": "",
         "offsetgroup": "",
         "orientation": "v",
         "showlegend": false,
         "textposition": "auto",
         "type": "bar",
         "x": [
          "россии",
          "https",
          "сша",
          "года",
          "заявил",
          "время",
          "также",
          "человек",
          "которые",
          "который",
          "сегодня",
          "путин",
          "мая",
          "лет",
          "году",
          "россия",
          "москве",
          "глава",
          "будут",
          "очень",
          "против",
          "рублей",
          "пока",
          "апреля",
          "области",
          "видео",
          "власти",
          "страны",
          "мид",
          "навального"
         ],
         "xaxis": "x13",
         "y": [
          658.773733105335,
          542.7747153023274,
          338.09524570209015,
          279.1896439515655,
          260.7601351651109,
          232.6809738388138,
          230.23612318292592,
          222.1718968758111,
          214.7866882828781,
          208.64635352992764,
          203.22214476301596,
          197.73147111291388,
          195.09508828067084,
          192.53739693933719,
          187.20560333944928,
          181.97371993827142,
          170.1450435620475,
          162.79170547166908,
          158.2405205158663,
          150.01208472644436,
          149.48516740360466,
          149.47423377923124,
          148.36824119045883,
          148.03790146087462,
          144.95393435430202,
          137.0743564532713,
          136.99864638750998,
          136.11995131897294,
          133.42429118237087,
          126.7887529858243
         ],
         "yaxis": "y13"
        },
        {
         "alignmentgroup": "True",
         "hovertemplate": "index=%{x}<br>value=%{marker.color}<extra></extra>",
         "legendgroup": "",
         "marker": {
          "color": [
           666.8019340841508,
           518.967483293977,
           323.9211058135389,
           323.62659157938407,
           289.7687029998316,
           246.077270750137,
           245.1107878952115,
           235.61299952268197,
           228.4281791306651,
           220.7423961908908,
           217.84177886412235,
           208.18188463660684,
           198.24359863707252,
           194.44079214834497,
           191.2684048091506,
           181.76919812428937,
           170.7153343944847,
           168.32328309705488,
           167.05035904522265,
           164.01619939793846,
           159.6217970687071,
           158.90812959966595,
           158.53221974378158,
           153.04840069800366,
           149.60479539239353,
           144.7497563067173,
           144.48309422200344,
           142.07494832820265,
           138.07709325506755,
           132.2593992175664
          ],
          "coloraxis": "coloraxis",
          "pattern": {
           "shape": ""
          }
         },
         "name": "",
         "offsetgroup": "",
         "orientation": "v",
         "showlegend": false,
         "textposition": "auto",
         "type": "bar",
         "x": [
          "россии",
          "https",
          "сша",
          "путин",
          "года",
          "москве",
          "заявил",
          "человек",
          "которые",
          "также",
          "время",
          "который",
          "коронавируса",
          "лет",
          "россия",
          "сегодня",
          "власти",
          "июня",
          "будут",
          "области",
          "вакцинации",
          "году",
          "против",
          "июля",
          "рублей",
          "глава",
          "пока",
          "сообщил",
          "очень",
          "covid"
         ],
         "xaxis": "x14",
         "y": [
          666.8019340841508,
          518.967483293977,
          323.9211058135389,
          323.62659157938407,
          289.7687029998316,
          246.077270750137,
          245.1107878952115,
          235.61299952268197,
          228.4281791306651,
          220.7423961908908,
          217.84177886412235,
          208.18188463660684,
          198.24359863707252,
          194.44079214834497,
          191.2684048091506,
          181.76919812428937,
          170.7153343944847,
          168.32328309705488,
          167.05035904522265,
          164.01619939793846,
          159.6217970687071,
          158.90812959966595,
          158.53221974378158,
          153.04840069800366,
          149.60479539239353,
          144.7497563067173,
          144.48309422200344,
          142.07494832820265,
          138.07709325506755,
          132.2593992175664
         ],
         "yaxis": "y14"
        },
        {
         "alignmentgroup": "True",
         "hovertemplate": "index=%{x}<br>value=%{marker.color}<extra></extra>",
         "legendgroup": "",
         "marker": {
          "color": [
           665.801280064309,
           508.93315219132006,
           307.4567353055928,
           284.0236680849163,
           270.53785417957715,
           234.70633519606784,
           227.13307830433178,
           221.80914285811932,
           215.15944471458766,
           214.78649920729475,
           214.4954318531146,
           200.3466858961131,
           183.4419653359776,
           183.09051589852294,
           182.4335553262743,
           167.1613617650581,
           166.83393708375073,
           166.74990787621107,
           163.21033275953948,
           152.37689914940708,
           151.7391488648142,
           150.0139466833293,
           148.5232099865592,
           145.31088191207238,
           143.34873242350162,
           143.07978048780205,
           137.5175387906455,
           137.10090734073572,
           136.25966649169771,
           135.063945094915
          ],
          "coloraxis": "coloraxis",
          "pattern": {
           "shape": ""
          }
         },
         "name": "",
         "offsetgroup": "",
         "orientation": "v",
         "showlegend": false,
         "textposition": "auto",
         "type": "bar",
         "x": [
          "россии",
          "https",
          "сша",
          "года",
          "человек",
          "заявил",
          "которые",
          "также",
          "время",
          "путин",
          "лет",
          "который",
          "москве",
          "сегодня",
          "россия",
          "области",
          "году",
          "власти",
          "глава",
          "афганистана",
          "рублей",
          "страны",
          "будут",
          "сентября",
          "сообщил",
          "августа",
          "видео",
          "очень",
          "пока",
          "людей"
         ],
         "xaxis": "x15",
         "y": [
          665.801280064309,
          508.93315219132006,
          307.4567353055928,
          284.0236680849163,
          270.53785417957715,
          234.70633519606784,
          227.13307830433178,
          221.80914285811932,
          215.15944471458766,
          214.78649920729475,
          214.4954318531146,
          200.3466858961131,
          183.4419653359776,
          183.09051589852294,
          182.4335553262743,
          167.1613617650581,
          166.83393708375073,
          166.74990787621107,
          163.21033275953948,
          152.37689914940708,
          151.7391488648142,
          150.0139466833293,
          148.5232099865592,
          145.31088191207238,
          143.34873242350162,
          143.07978048780205,
          137.5175387906455,
          137.10090734073572,
          136.25966649169771,
          135.063945094915
         ],
         "yaxis": "y15"
        },
        {
         "alignmentgroup": "True",
         "hovertemplate": "index=%{x}<br>value=%{marker.color}<extra></extra>",
         "legendgroup": "",
         "marker": {
          "color": [
           632.1977362907878,
           483.96323679686645,
           320.3214862674725,
           274.1982028077395,
           249.9815089861619,
           243.41544013438124,
           239.69419680663952,
           231.67447170888758,
           231.05405287241078,
           222.29199990843142,
           213.6639872061592,
           213.26156556195863,
           207.20571085682425,
           191.57582008867772,
           186.82599794314217,
           183.71125875522193,
           181.74083159163314,
           177.1810231223861,
           172.4104349150743,
           161.94635958809948,
           161.13958371448453,
           156.32361363230146,
           150.64556012847038,
           148.94064883975423,
           145.16825554083232,
           143.9177417502508,
           143.71503339239734,
           140.43186193026358,
           135.41043908703787,
           127.32367815704987
          ],
          "coloraxis": "coloraxis",
          "pattern": {
           "shape": ""
          }
         },
         "name": "",
         "offsetgroup": "",
         "orientation": "v",
         "showlegend": false,
         "textposition": "auto",
         "type": "bar",
         "x": [
          "россии",
          "https",
          "года",
          "сша",
          "также",
          "заявил",
          "человек",
          "время",
          "которые",
          "путин",
          "который",
          "лет",
          "москве",
          "области",
          "октября",
          "сегодня",
          "будут",
          "власти",
          "ноября",
          "против",
          "году",
          "рублей",
          "россия",
          "пока",
          "коронавируса",
          "сообщил",
          "очень",
          "глава",
          "видео",
          "людей"
         ],
         "xaxis": "x16",
         "y": [
          632.1977362907878,
          483.96323679686645,
          320.3214862674725,
          274.1982028077395,
          249.9815089861619,
          243.41544013438124,
          239.69419680663952,
          231.67447170888758,
          231.05405287241078,
          222.29199990843142,
          213.6639872061592,
          213.26156556195863,
          207.20571085682425,
          191.57582008867772,
          186.82599794314217,
          183.71125875522193,
          181.74083159163314,
          177.1810231223861,
          172.4104349150743,
          161.94635958809948,
          161.13958371448453,
          156.32361363230146,
          150.64556012847038,
          148.94064883975423,
          145.16825554083232,
          143.9177417502508,
          143.71503339239734,
          140.43186193026358,
          135.41043908703787,
          127.32367815704987
         ],
         "yaxis": "y16"
        },
        {
         "alignmentgroup": "True",
         "hovertemplate": "index=%{x}<br>value=%{marker.color}<extra></extra>",
         "legendgroup": "",
         "marker": {
          "color": [
           664.464024578379,
           469.5855310732883,
           378.29987277087383,
           326.08860278366774,
           290.2396783193459,
           281.62032559287394,
           244.12406089350208,
           238.78021940548874,
           237.28588943708672,
           221.92576558883033,
           219.06074553938947,
           218.87339294882548,
           200.66908944879404,
           187.93025412552439,
           177.80928436374492,
           176.14126037908866,
           163.39457432045154,
           162.56654500035896,
           162.31788723558427,
           160.46164502191868,
           159.7583008900089,
           158.71787675999502,
           154.88105959441916,
           148.20390166102183,
           148.02163945608444,
           146.92327308067328,
           146.1277470318408,
           140.56320063426756,
           140.4032967892721,
           139.8214054692008
          ],
          "coloraxis": "coloraxis",
          "pattern": {
           "shape": ""
          }
         },
         "name": "",
         "offsetgroup": "",
         "orientation": "v",
         "showlegend": false,
         "textposition": "auto",
         "type": "bar",
         "x": [
          "россии",
          "https",
          "года",
          "сша",
          "путин",
          "заявил",
          "также",
          "человек",
          "году",
          "которые",
          "время",
          "лет",
          "который",
          "россия",
          "против",
          "сегодня",
          "декабря",
          "рублей",
          "москве",
          "будут",
          "власти",
          "очень",
          "казахстане",
          "глава",
          "сообщил",
          "области",
          "пока",
          "год",
          "коронавируса",
          "страны"
         ],
         "xaxis": "x17",
         "y": [
          664.464024578379,
          469.5855310732883,
          378.29987277087383,
          326.08860278366774,
          290.2396783193459,
          281.62032559287394,
          244.12406089350208,
          238.78021940548874,
          237.28588943708672,
          221.92576558883033,
          219.06074553938947,
          218.87339294882548,
          200.66908944879404,
          187.93025412552439,
          177.80928436374492,
          176.14126037908866,
          163.39457432045154,
          162.56654500035896,
          162.31788723558427,
          160.46164502191868,
          159.7583008900089,
          158.71787675999502,
          154.88105959441916,
          148.20390166102183,
          148.02163945608444,
          146.92327308067328,
          146.1277470318408,
          140.56320063426756,
          140.4032967892721,
          139.8214054692008
         ],
         "yaxis": "y17"
        },
        {
         "alignmentgroup": "True",
         "hovertemplate": "index=%{x}<br>value=%{marker.color}<extra></extra>",
         "legendgroup": "",
         "marker": {
          "color": [
           823.8711013396958,
           480.4735546438759,
           440.37521041561007,
           380.7688116892973,
           377.6840792901044,
           367.8396026973191,
           304.8928489998853,
           290.4757432514641,
           290.2049573778001,
           271.36581694552336,
           240.83464252896812,
           238.86991714328423,
           220.8743628419529,
           220.1985181095346,
           218.3110681563351,
           214.51753423637155,
           213.5728999408134,
           199.43001742975255,
           190.65099525080117,
           188.6272325470076,
           185.27780170457987,
           182.1162935496939,
           178.76294439206285,
           171.4273553216132,
           168.72995568501634,
           159.49504455108644,
           159.3688561286115,
           151.15082484966732,
           150.38735536397274,
           149.04752285591846
          ],
          "coloraxis": "coloraxis",
          "pattern": {
           "shape": ""
          }
         },
         "name": "",
         "offsetgroup": "",
         "orientation": "v",
         "showlegend": false,
         "textposition": "auto",
         "type": "bar",
         "x": [
          "россии",
          "сша",
          "украины",
          "https",
          "днр",
          "заявил",
          "путин",
          "лнр",
          "россия",
          "года",
          "нато",
          "также",
          "которые",
          "украину",
          "время",
          "глава",
          "против",
          "сегодня",
          "украине",
          "февраля",
          "безопасности",
          "будут",
          "мид",
          "лет",
          "области",
          "году",
          "который",
          "президент",
          "страны",
          "человек"
         ],
         "xaxis": "x18",
         "y": [
          823.8711013396958,
          480.4735546438759,
          440.37521041561007,
          380.7688116892973,
          377.6840792901044,
          367.8396026973191,
          304.8928489998853,
          290.4757432514641,
          290.2049573778001,
          271.36581694552336,
          240.83464252896812,
          238.86991714328423,
          220.8743628419529,
          220.1985181095346,
          218.3110681563351,
          214.51753423637155,
          213.5728999408134,
          199.43001742975255,
          190.65099525080117,
          188.6272325470076,
          185.27780170457987,
          182.1162935496939,
          178.76294439206285,
          171.4273553216132,
          168.72995568501634,
          159.49504455108644,
          159.3688561286115,
          151.15082484966732,
          150.38735536397274,
          149.04752285591846
         ],
         "yaxis": "y18"
        },
        {
         "alignmentgroup": "True",
         "hovertemplate": "index=%{x}<br>value=%{marker.color}<extra></extra>",
         "legendgroup": "",
         "marker": {
          "color": [
           1097.1014923282476,
           637.2949530553018,
           534.2539937857863,
           337.0046539939298,
           327.25620992512813,
           322.12382656750214,
           288.56149303867915,
           286.150870995179,
           277.9331662208999,
           277.4151847457481,
           246.3819458280188,
           244.56283002736453,
           227.3443412850306,
           216.97733313864248,
           202.4197395426264,
           189.37560370205637,
           188.46701659472456,
           186.02506109650162,
           185.19255044205678,
           180.46934036433822,
           175.7388849691356,
           175.12709538637375,
           173.65331914967607,
           172.5396817076458,
           165.70805338033722,
           162.55360102587977,
           160.69162528919216,
           159.70806728809026,
           157.454524512364,
           155.46537386503869
          ],
          "coloraxis": "coloraxis",
          "pattern": {
           "shape": ""
          }
         },
         "name": "",
         "offsetgroup": "",
         "orientation": "v",
         "showlegend": false,
         "textposition": "auto",
         "type": "bar",
         "x": [
          "россии",
          "украины",
          "украине",
          "заявил",
          "всу",
          "сша",
          "https",
          "российских",
          "днр",
          "против",
          "россия",
          "минобороны",
          "также",
          "которые",
          "путин",
          "видео",
          "марта",
          "украина",
          "будут",
          "санкции",
          "сегодня",
          "украинских",
          "время",
          "операции",
          "глава",
          "области",
          "российские",
          "военной",
          "зеленский",
          "страны"
         ],
         "xaxis": "x19",
         "y": [
          1097.1014923282476,
          637.2949530553018,
          534.2539937857863,
          337.0046539939298,
          327.25620992512813,
          322.12382656750214,
          288.56149303867915,
          286.150870995179,
          277.9331662208999,
          277.4151847457481,
          246.3819458280188,
          244.56283002736453,
          227.3443412850306,
          216.97733313864248,
          202.4197395426264,
          189.37560370205637,
          188.46701659472456,
          186.02506109650162,
          185.19255044205678,
          180.46934036433822,
          175.7388849691356,
          175.12709538637375,
          173.65331914967607,
          172.5396817076458,
          165.70805338033722,
          162.55360102587977,
          160.69162528919216,
          159.70806728809026,
          157.454524512364,
          155.46537386503869
         ],
         "yaxis": "y19"
        },
        {
         "alignmentgroup": "True",
         "hovertemplate": "index=%{x}<br>value=%{marker.color}<extra></extra>",
         "legendgroup": "",
         "marker": {
          "color": [
           936.1090722747491,
           498.26068105498115,
           460.57512165163007,
           350.19633496008316,
           313.1355196859537,
           305.1326545178677,
           297.9917234862163,
           264.8358954432193,
           264.302317647249,
           258.8430391732664,
           242.69145873464694,
           221.15697583388408,
           220.6754802366493,
           218.5273263638289,
           218.48661492209442,
           212.34638528758828,
           206.85072746034777,
           198.1465688135822,
           192.70281383511954,
           182.92861806948537,
           181.81597690988656,
           176.1801091921697,
           170.07973424833628,
           165.9246006539356,
           163.19960373490574,
           163.01787005389323,
           161.66487298242103,
           153.6727832557127,
           151.7953551789551,
           149.36503635955503
          ],
          "coloraxis": "coloraxis",
          "pattern": {
           "shape": ""
          }
         },
         "name": "",
         "offsetgroup": "",
         "orientation": "v",
         "showlegend": false,
         "textposition": "auto",
         "type": "bar",
         "x": [
          "россии",
          "украины",
          "украине",
          "сша",
          "всу",
          "заявил",
          "https",
          "россия",
          "которые",
          "также",
          "российских",
          "против",
          "видео",
          "минобороны",
          "днр",
          "марта",
          "украинских",
          "время",
          "области",
          "страны",
          "сегодня",
          "года",
          "глава",
          "украина",
          "путин",
          "будут",
          "который",
          "российские",
          "украинские",
          "мариуполя"
         ],
         "xaxis": "x20",
         "y": [
          936.1090722747491,
          498.26068105498115,
          460.57512165163007,
          350.19633496008316,
          313.1355196859537,
          305.1326545178677,
          297.9917234862163,
          264.8358954432193,
          264.302317647249,
          258.8430391732664,
          242.69145873464694,
          221.15697583388408,
          220.6754802366493,
          218.5273263638289,
          218.48661492209442,
          212.34638528758828,
          206.85072746034777,
          198.1465688135822,
          192.70281383511954,
          182.92861806948537,
          181.81597690988656,
          176.1801091921697,
          170.07973424833628,
          165.9246006539356,
          163.19960373490574,
          163.01787005389323,
          161.66487298242103,
          153.6727832557127,
          151.7953551789551,
          149.36503635955503
         ],
         "yaxis": "y20"
        },
        {
         "alignmentgroup": "True",
         "hovertemplate": "index=%{x}<br>value=%{marker.color}<extra></extra>",
         "legendgroup": "",
         "marker": {
          "color": [
           791.8465917224983,
           411.2990591325419,
           395.1651663038292,
           328.91674536202265,
           313.69431393516237,
           311.8187565423414,
           295.70225235309334,
           279.13224482515216,
           274.47607939872785,
           251.95871184459804,
           231.49717278030454,
           225.23357425897743,
           211.31894358128542,
           203.92510428933974,
           203.30785256541154,
           202.50217116788582,
           196.33749881145908,
           191.0549776888149,
           189.22682884580917,
           182.80013571887298,
           179.27558051913962,
           178.65606894968272,
           175.99376032508684,
           172.64705838951386,
           168.83238051002357,
           165.1802929788426,
           161.3920614935241,
           160.23423610241989,
           159.53628152161403,
           150.61189053300234
          ],
          "coloraxis": "coloraxis",
          "pattern": {
           "shape": ""
          }
         },
         "name": "",
         "offsetgroup": "",
         "orientation": "v",
         "showlegend": false,
         "textposition": "auto",
         "type": "bar",
         "x": [
          "россии",
          "украины",
          "украине",
          "всу",
          "https",
          "области",
          "сша",
          "заявил",
          "также",
          "которые",
          "россия",
          "днр",
          "время",
          "минобороны",
          "года",
          "украинских",
          "видео",
          "против",
          "сегодня",
          "подписаться",
          "путин",
          "апреля",
          "российских",
          "человек",
          "сообщил",
          "который",
          "страны",
          "будут",
          "территории",
          "мариуполе"
         ],
         "xaxis": "x21",
         "y": [
          791.8465917224983,
          411.2990591325419,
          395.1651663038292,
          328.91674536202265,
          313.69431393516237,
          311.8187565423414,
          295.70225235309334,
          279.13224482515216,
          274.47607939872785,
          251.95871184459804,
          231.49717278030454,
          225.23357425897743,
          211.31894358128542,
          203.92510428933974,
          203.30785256541154,
          202.50217116788582,
          196.33749881145908,
          191.0549776888149,
          189.22682884580917,
          182.80013571887298,
          179.27558051913962,
          178.65606894968272,
          175.99376032508684,
          172.64705838951386,
          168.83238051002357,
          165.1802929788426,
          161.3920614935241,
          160.23423610241989,
          159.53628152161403,
          150.61189053300234
         ],
         "yaxis": "y21"
        },
        {
         "alignmentgroup": "True",
         "hovertemplate": "index=%{x}<br>value=%{marker.color}<extra></extra>",
         "legendgroup": "",
         "marker": {
          "color": [
           804.740952324924,
           382.0807113095291,
           380.96862211196884,
           341.2305008113538,
           327.7979884186664,
           319.17528585445774,
           312.50088161909616,
           308.65620902594947,
           252.47539435286504,
           251.5037384448224,
           243.19049926696997,
           237.51118925720849,
           231.5185145411365,
           223.79740305390172,
           210.14484301443784,
           199.91134789549395,
           193.20931689803115,
           192.22290665634446,
           186.1687326000087,
           185.25904625174414,
           183.862793698053,
           179.1423897000926,
           177.94117215548118,
           175.0675355968961,
           173.05406237876608,
           166.2422921526349,
           161.7213619208575,
           157.19004478825173,
           151.15332059265788,
           151.00624036490396
          ],
          "coloraxis": "coloraxis",
          "pattern": {
           "shape": ""
          }
         },
         "name": "",
         "offsetgroup": "",
         "orientation": "v",
         "showlegend": false,
         "textposition": "auto",
         "type": "bar",
         "x": [
          "россии",
          "украине",
          "украины",
          "всу",
          "области",
          "сша",
          "заявил",
          "https",
          "также",
          "мая",
          "днр",
          "которые",
          "года",
          "россия",
          "время",
          "сегодня",
          "украинских",
          "подписаться",
          "глава",
          "видео",
          "против",
          "человек",
          "нато",
          "который",
          "сообщил",
          "страны",
          "путин",
          "лет",
          "будут",
          "территории"
         ],
         "xaxis": "x22",
         "y": [
          804.740952324924,
          382.0807113095291,
          380.96862211196884,
          341.2305008113538,
          327.7979884186664,
          319.17528585445774,
          312.50088161909616,
          308.65620902594947,
          252.47539435286504,
          251.5037384448224,
          243.19049926696997,
          237.51118925720849,
          231.5185145411365,
          223.79740305390172,
          210.14484301443784,
          199.91134789549395,
          193.20931689803115,
          192.22290665634446,
          186.1687326000087,
          185.25904625174414,
          183.862793698053,
          179.1423897000926,
          177.94117215548118,
          175.0675355968961,
          173.05406237876608,
          166.2422921526349,
          161.7213619208575,
          157.19004478825173,
          151.15332059265788,
          151.00624036490396
         ],
         "yaxis": "y22"
        },
        {
         "alignmentgroup": "True",
         "hovertemplate": "index=%{x}<br>value=%{marker.color}<extra></extra>",
         "legendgroup": "",
         "marker": {
          "color": [
           767.5115734349345,
           362.8979803072067,
           351.04851453200433,
           313.30770269031655,
           308.1903705945425,
           303.6238301048521,
           294.9758684686207,
           293.51458960687086,
           286.7266964685993,
           275.8575407580114,
           242.89200939354689,
           241.9140022003522,
           233.005699435319,
           224.02571184239832,
           211.66303800871458,
           209.95741005574078,
           192.80904642090098,
           181.92652398196924,
           181.3831562083069,
           178.626060823805,
           178.11495172007523,
           171.06709959409346,
           171.0469516558482,
           169.21268323677023,
           166.50828981535156,
           165.1868042531684,
           160.07540077982665,
           158.41489606716428,
           157.09807683612343,
           155.05922397924783
          ],
          "coloraxis": "coloraxis",
          "pattern": {
           "shape": ""
          }
         },
         "name": "",
         "offsetgroup": "",
         "orientation": "v",
         "showlegend": false,
         "textposition": "auto",
         "type": "bar",
         "x": [
          "россии",
          "украины",
          "всу",
          "заявил",
          "https",
          "украине",
          "сша",
          "области",
          "также",
          "подписаться",
          "днр",
          "которые",
          "года",
          "путин",
          "время",
          "россия",
          "сегодня",
          "июня",
          "страны",
          "глава",
          "который",
          "будут",
          "лнр",
          "сообщил",
          "видео",
          "человек",
          "против",
          "лет",
          "украинских",
          "очень"
         ],
         "xaxis": "x23",
         "y": [
          767.5115734349345,
          362.8979803072067,
          351.04851453200433,
          313.30770269031655,
          308.1903705945425,
          303.6238301048521,
          294.9758684686207,
          293.51458960687086,
          286.7266964685993,
          275.8575407580114,
          242.89200939354689,
          241.9140022003522,
          233.005699435319,
          224.02571184239832,
          211.66303800871458,
          209.95741005574078,
          192.80904642090098,
          181.92652398196924,
          181.3831562083069,
          178.626060823805,
          178.11495172007523,
          171.06709959409346,
          171.0469516558482,
          169.21268323677023,
          166.50828981535156,
          165.1868042531684,
          160.07540077982665,
          158.41489606716428,
          157.09807683612343,
          155.05922397924783
         ],
         "yaxis": "y23"
        },
        {
         "alignmentgroup": "True",
         "hovertemplate": "index=%{x}<br>value=%{marker.color}<extra></extra>",
         "legendgroup": "",
         "marker": {
          "color": [
           672.7468384612788,
           376.84159208307955,
           333.08107749731636,
           325.07526286340567,
           296.8171887578762,
           285.14241538471947,
           275.67762107712986,
           272.03940215632764,
           242.5305825674725,
           238.72077915921096,
           233.04185006929401,
           231.71476813428572,
           225.1243714784884,
           205.88911083899043,
           187.4838228783991,
           187.10819107438576,
           184.62674297074676,
           176.59682310157723,
           175.006824367622,
           165.38949729874682,
           164.93857920483643,
           156.0126319920859,
           155.8705606863576,
           155.67540283951593,
           146.37150452698464,
           144.16102821996344,
           140.9952164740381,
           138.69018525042327,
           136.5188513149304,
           132.81509261807457
          ],
          "coloraxis": "coloraxis",
          "pattern": {
           "shape": ""
          }
         },
         "name": "",
         "offsetgroup": "",
         "orientation": "v",
         "showlegend": false,
         "textposition": "auto",
         "type": "bar",
         "x": [
          "россии",
          "подписаться",
          "сша",
          "всу",
          "украины",
          "https",
          "также",
          "области",
          "заявил",
          "года",
          "украине",
          "которые",
          "время",
          "днр",
          "россия",
          "человек",
          "сегодня",
          "который",
          "глава",
          "видео",
          "страны",
          "будут",
          "сообщил",
          "лет",
          "очень",
          "против",
          "путин",
          "пока",
          "сообщает",
          "июля"
         ],
         "xaxis": "x24",
         "y": [
          672.7468384612788,
          376.84159208307955,
          333.08107749731636,
          325.07526286340567,
          296.8171887578762,
          285.14241538471947,
          275.67762107712986,
          272.03940215632764,
          242.5305825674725,
          238.72077915921096,
          233.04185006929401,
          231.71476813428572,
          225.1243714784884,
          205.88911083899043,
          187.4838228783991,
          187.10819107438576,
          184.62674297074676,
          176.59682310157723,
          175.006824367622,
          165.38949729874682,
          164.93857920483643,
          156.0126319920859,
          155.8705606863576,
          155.67540283951593,
          146.37150452698464,
          144.16102821996344,
          140.9952164740381,
          138.69018525042327,
          136.5188513149304,
          132.81509261807457
         ],
         "yaxis": "y24"
        },
        {
         "alignmentgroup": "True",
         "hovertemplate": "index=%{x}<br>value=%{marker.color}<extra></extra>",
         "legendgroup": "",
         "marker": {
          "color": [
           623.8019088954575,
           408.34711213735545,
           401.4920768654267,
           387.0005538352638,
           307.4491649931302,
           294.1772968938624,
           287.8479642807404,
           248.79954956132423,
           248.68668536214489,
           246.99177469425362,
           227.66256943463782,
           226.87076677197197,
           225.37425310389335,
           190.29681616072364,
           188.90683530878158,
           187.6788169180145,
           179.73668470964245,
           176.58514313914685,
           174.47186511613413,
           166.51144815548608,
           166.3872990598946,
           165.94476629704135,
           163.88254895212333,
           163.85880871960654,
           159.07710357269127,
           157.57686741911755,
           153.2551339513715,
           153.03755435647736,
           152.828287452203,
           147.29204354915967
          ],
          "coloraxis": "coloraxis",
          "pattern": {
           "shape": ""
          }
         },
         "name": "",
         "offsetgroup": "",
         "orientation": "v",
         "showlegend": false,
         "textposition": "auto",
         "type": "bar",
         "x": [
          "россии",
          "всу",
          "подписаться",
          "области",
          "https",
          "также",
          "украины",
          "заявил",
          "которые",
          "сша",
          "время",
          "года",
          "украине",
          "видео",
          "сегодня",
          "россия",
          "страны",
          "человек",
          "глава",
          "путин",
          "который",
          "районе",
          "будут",
          "сентября",
          "запорожской",
          "аэс",
          "власти",
          "сообщил",
          "лет",
          "днр"
         ],
         "xaxis": "x25",
         "y": [
          623.8019088954575,
          408.34711213735545,
          401.4920768654267,
          387.0005538352638,
          307.4491649931302,
          294.1772968938624,
          287.8479642807404,
          248.79954956132423,
          248.68668536214489,
          246.99177469425362,
          227.66256943463782,
          226.87076677197197,
          225.37425310389335,
          190.29681616072364,
          188.90683530878158,
          187.6788169180145,
          179.73668470964245,
          176.58514313914685,
          174.47186511613413,
          166.51144815548608,
          166.3872990598946,
          165.94476629704135,
          163.88254895212333,
          163.85880871960654,
          159.07710357269127,
          157.57686741911755,
          153.2551339513715,
          153.03755435647736,
          152.828287452203,
          147.29204354915967
         ],
         "yaxis": "y25"
        },
        {
         "alignmentgroup": "True",
         "hovertemplate": "index=%{x}<br>value=%{marker.color}<extra></extra>",
         "legendgroup": "",
         "marker": {
          "color": [
           751.02981312866,
           394.3197422114437,
           378.6905067054233,
           316.0922591940693,
           298.86190009497676,
           296.75199099150467,
           292.3954403074852,
           286.95887589031423,
           280.5369592391579,
           267.3941843526026,
           256.44179895925726,
           251.6300829332532,
           235.47763473711626,
           228.63618016625622,
           224.4243404921622,
           217.3531912281438,
           216.3168937899013,
           199.60064884882124,
           199.34102105387294,
           198.47020433005653,
           184.16347436701608,
           181.17071498852326,
           180.48096713917448,
           175.46165363649402,
           173.74014504859545,
           163.34198753911605,
           152.1802673790057,
           151.16128745568219,
           149.6933796208207,
           146.80945712350905
          ],
          "coloraxis": "coloraxis",
          "pattern": {
           "shape": ""
          }
         },
         "name": "",
         "offsetgroup": "",
         "orientation": "v",
         "showlegend": false,
         "textposition": "auto",
         "type": "bar",
         "x": [
          "россии",
          "области",
          "подписаться",
          "мобилизации",
          "украины",
          "также",
          "всу",
          "https",
          "заявил",
          "путин",
          "которые",
          "сша",
          "днр",
          "время",
          "сегодня",
          "украине",
          "будут",
          "россия",
          "глава",
          "видео",
          "лнр",
          "человек",
          "года",
          "херсонской",
          "сообщил",
          "страны",
          "запорожской",
          "который",
          "состав",
          "лет"
         ],
         "xaxis": "x26",
         "y": [
          751.02981312866,
          394.3197422114437,
          378.6905067054233,
          316.0922591940693,
          298.86190009497676,
          296.75199099150467,
          292.3954403074852,
          286.95887589031423,
          280.5369592391579,
          267.3941843526026,
          256.44179895925726,
          251.6300829332532,
          235.47763473711626,
          228.63618016625622,
          224.4243404921622,
          217.3531912281438,
          216.3168937899013,
          199.60064884882124,
          199.34102105387294,
          198.47020433005653,
          184.16347436701608,
          181.17071498852326,
          180.48096713917448,
          175.46165363649402,
          173.74014504859545,
          163.34198753911605,
          152.1802673790057,
          151.16128745568219,
          149.6933796208207,
          146.80945712350905
         ],
         "yaxis": "y26"
        },
        {
         "alignmentgroup": "True",
         "hovertemplate": "index=%{x}<br>value=%{marker.color}<extra></extra>",
         "legendgroup": "",
         "marker": {
          "color": [
           594.3108292784143,
           379.41663362780264,
           346.5675065013476,
           310.2260790096959,
           295.85449745569156,
           292.1145317949755,
           286.1249964068731,
           283.60161104599564,
           281.9605659715535,
           266.26097692168145,
           260.8330586135509,
           227.86423080646307,
           220.3644193973487,
           220.15727550641307,
           196.23403607250188,
           190.50139013675584,
           181.73858615081627,
           180.79000726484747,
           165.10477550894277,
           160.2322237446848,
           160.0157715849486,
           158.11691651904215,
           157.91480602229572,
           145.9897538332206,
           144.87777128720657,
           140.0112661620439,
           131.6268973124614,
           130.72570655531644,
           129.67641902103,
           128.37058106715014
          ],
          "coloraxis": "coloraxis",
          "pattern": {
           "shape": ""
          }
         },
         "name": "",
         "offsetgroup": "",
         "orientation": "v",
         "showlegend": false,
         "textposition": "auto",
         "type": "bar",
         "x": [
          "россии",
          "подписаться",
          "области",
          "сша",
          "всу",
          "украины",
          "также",
          "https",
          "путин",
          "заявил",
          "украине",
          "которые",
          "время",
          "года",
          "россия",
          "сообщил",
          "сегодня",
          "человек",
          "страны",
          "видео",
          "который",
          "власти",
          "будут",
          "глава",
          "очень",
          "пока",
          "против",
          "минобороны",
          "году",
          "лет"
         ],
         "xaxis": "x27",
         "y": [
          594.3108292784143,
          379.41663362780264,
          346.5675065013476,
          310.2260790096959,
          295.85449745569156,
          292.1145317949755,
          286.1249964068731,
          283.60161104599564,
          281.9605659715535,
          266.26097692168145,
          260.8330586135509,
          227.86423080646307,
          220.3644193973487,
          220.15727550641307,
          196.23403607250188,
          190.50139013675584,
          181.73858615081627,
          180.79000726484747,
          165.10477550894277,
          160.2322237446848,
          160.0157715849486,
          158.11691651904215,
          157.91480602229572,
          145.9897538332206,
          144.87777128720657,
          140.0112661620439,
          131.6268973124614,
          130.72570655531644,
          129.67641902103,
          128.37058106715014
         ],
         "yaxis": "y27"
        }
       ],
       "layout": {
        "annotations": [
         {
          "font": {
           "size": 16
          },
          "showarrow": false,
          "text": "Top words from 2015-09-29 to 2017-11-07",
          "x": 0.5,
          "xanchor": "center",
          "xref": "paper",
          "y": 1,
          "yanchor": "bottom",
          "yref": "paper"
         },
         {
          "font": {
           "size": 16
          },
          "showarrow": false,
          "text": "Top words from 2017-11-07 to 2018-06-27",
          "x": 0.5,
          "xanchor": "center",
          "xref": "paper",
          "y": 0.9622770919067215,
          "yanchor": "bottom",
          "yref": "paper"
         },
         {
          "font": {
           "size": 16
          },
          "showarrow": false,
          "text": "Top words from 2018-06-27 to 2019-01-09",
          "x": 0.5,
          "xanchor": "center",
          "xref": "paper",
          "y": 0.9245541838134431,
          "yanchor": "bottom",
          "yref": "paper"
         },
         {
          "font": {
           "size": 16
          },
          "showarrow": false,
          "text": "Top words from 2019-01-09 to 2019-06-15",
          "x": 0.5,
          "xanchor": "center",
          "xref": "paper",
          "y": 0.8868312757201646,
          "yanchor": "bottom",
          "yref": "paper"
         },
         {
          "font": {
           "size": 16
          },
          "showarrow": false,
          "text": "Top words from 2019-06-15 to 2019-10-11",
          "x": 0.5,
          "xanchor": "center",
          "xref": "paper",
          "y": 0.8491083676268861,
          "yanchor": "bottom",
          "yref": "paper"
         },
         {
          "font": {
           "size": 16
          },
          "showarrow": false,
          "text": "Top words from 2019-10-11 to 2020-02-01",
          "x": 0.5,
          "xanchor": "center",
          "xref": "paper",
          "y": 0.8113854595336076,
          "yanchor": "bottom",
          "yref": "paper"
         },
         {
          "font": {
           "size": 16
          },
          "showarrow": false,
          "text": "Top words from 2020-02-01 to 2020-04-20",
          "x": 0.5,
          "xanchor": "center",
          "xref": "paper",
          "y": 0.7736625514403291,
          "yanchor": "bottom",
          "yref": "paper"
         },
         {
          "font": {
           "size": 16
          },
          "showarrow": false,
          "text": "Top words from 2020-04-20 to 2020-07-03",
          "x": 0.5,
          "xanchor": "center",
          "xref": "paper",
          "y": 0.7359396433470508,
          "yanchor": "bottom",
          "yref": "paper"
         },
         {
          "font": {
           "size": 16
          },
          "showarrow": false,
          "text": "Top words from 2020-07-03 to 2020-09-12",
          "x": 0.5,
          "xanchor": "center",
          "xref": "paper",
          "y": 0.6982167352537723,
          "yanchor": "bottom",
          "yref": "paper"
         },
         {
          "font": {
           "size": 16
          },
          "showarrow": false,
          "text": "Top words from 2020-09-12 to 2020-11-16",
          "x": 0.5,
          "xanchor": "center",
          "xref": "paper",
          "y": 0.6604938271604938,
          "yanchor": "bottom",
          "yref": "paper"
         },
         {
          "font": {
           "size": 16
          },
          "showarrow": false,
          "text": "Top words from 2020-11-16 to 2021-01-25",
          "x": 0.5,
          "xanchor": "center",
          "xref": "paper",
          "y": 0.6227709190672154,
          "yanchor": "bottom",
          "yref": "paper"
         },
         {
          "font": {
           "size": 16
          },
          "showarrow": false,
          "text": "Top words from 2021-01-25 to 2021-04-01",
          "x": 0.5,
          "xanchor": "center",
          "xref": "paper",
          "y": 0.5850480109739369,
          "yanchor": "bottom",
          "yref": "paper"
         },
         {
          "font": {
           "size": 16
          },
          "showarrow": false,
          "text": "Top words from 2021-04-01 to 2021-06-01",
          "x": 0.5,
          "xanchor": "center",
          "xref": "paper",
          "y": 0.5473251028806584,
          "yanchor": "bottom",
          "yref": "paper"
         },
         {
          "font": {
           "size": 16
          },
          "showarrow": false,
          "text": "Top words from 2021-06-01 to 2021-07-29",
          "x": 0.5,
          "xanchor": "center",
          "xref": "paper",
          "y": 0.50960219478738,
          "yanchor": "bottom",
          "yref": "paper"
         },
         {
          "font": {
           "size": 16
          },
          "showarrow": false,
          "text": "Top words from 2021-07-29 to 2021-09-24",
          "x": 0.5,
          "xanchor": "center",
          "xref": "paper",
          "y": 0.47187928669410156,
          "yanchor": "bottom",
          "yref": "paper"
         },
         {
          "font": {
           "size": 16
          },
          "showarrow": false,
          "text": "Top words from 2021-09-24 to 2021-11-18",
          "x": 0.5,
          "xanchor": "center",
          "xref": "paper",
          "y": 0.43415637860082307,
          "yanchor": "bottom",
          "yref": "paper"
         },
         {
          "font": {
           "size": 16
          },
          "showarrow": false,
          "text": "Top words from 2021-11-18 to 2022-01-12",
          "x": 0.5,
          "xanchor": "center",
          "xref": "paper",
          "y": 0.39643347050754457,
          "yanchor": "bottom",
          "yref": "paper"
         },
         {
          "font": {
           "size": 16
          },
          "showarrow": false,
          "text": "Top words from 2022-01-12 to 2022-02-24",
          "x": 0.5,
          "xanchor": "center",
          "xref": "paper",
          "y": 0.35871056241426613,
          "yanchor": "bottom",
          "yref": "paper"
         },
         {
          "font": {
           "size": 16
          },
          "showarrow": false,
          "text": "Top words from 2022-02-24 to 2022-03-14",
          "x": 0.5,
          "xanchor": "center",
          "xref": "paper",
          "y": 0.3209876543209877,
          "yanchor": "bottom",
          "yref": "paper"
         },
         {
          "font": {
           "size": 16
          },
          "showarrow": false,
          "text": "Top words from 2022-03-14 to 2022-04-07",
          "x": 0.5,
          "xanchor": "center",
          "xref": "paper",
          "y": 0.2832647462277092,
          "yanchor": "bottom",
          "yref": "paper"
         },
         {
          "font": {
           "size": 16
          },
          "showarrow": false,
          "text": "Top words from 2022-04-07 to 2022-05-05",
          "x": 0.5,
          "xanchor": "center",
          "xref": "paper",
          "y": 0.24554183813443076,
          "yanchor": "bottom",
          "yref": "paper"
         },
         {
          "font": {
           "size": 16
          },
          "showarrow": false,
          "text": "Top words from 2022-05-05 to 2022-06-04",
          "x": 0.5,
          "xanchor": "center",
          "xref": "paper",
          "y": 0.20781893004115226,
          "yanchor": "bottom",
          "yref": "paper"
         },
         {
          "font": {
           "size": 16
          },
          "showarrow": false,
          "text": "Top words from 2022-06-04 to 2022-07-08",
          "x": 0.5,
          "xanchor": "center",
          "xref": "paper",
          "y": 0.17009602194787382,
          "yanchor": "bottom",
          "yref": "paper"
         },
         {
          "font": {
           "size": 16
          },
          "showarrow": false,
          "text": "Top words from 2022-07-08 to 2022-08-13",
          "x": 0.5,
          "xanchor": "center",
          "xref": "paper",
          "y": 0.13237311385459533,
          "yanchor": "bottom",
          "yref": "paper"
         },
         {
          "font": {
           "size": 16
          },
          "showarrow": false,
          "text": "Top words from 2022-08-13 to 2022-09-18",
          "x": 0.5,
          "xanchor": "center",
          "xref": "paper",
          "y": 0.09465020576131689,
          "yanchor": "bottom",
          "yref": "paper"
         },
         {
          "font": {
           "size": 16
          },
          "showarrow": false,
          "text": "Top words from 2022-09-18 to 2022-10-16",
          "x": 0.5,
          "xanchor": "center",
          "xref": "paper",
          "y": 0.05692729766803842,
          "yanchor": "bottom",
          "yref": "paper"
         }
        ],
        "height": 8000,
        "showlegend": false,
        "template": {
         "data": {
          "bar": [
           {
            "error_x": {
             "color": "#2a3f5f"
            },
            "error_y": {
             "color": "#2a3f5f"
            },
            "marker": {
             "line": {
              "color": "#E5ECF6",
              "width": 0.5
             },
             "pattern": {
              "fillmode": "overlay",
              "size": 10,
              "solidity": 0.2
             }
            },
            "type": "bar"
           }
          ],
          "barpolar": [
           {
            "marker": {
             "line": {
              "color": "#E5ECF6",
              "width": 0.5
             },
             "pattern": {
              "fillmode": "overlay",
              "size": 10,
              "solidity": 0.2
             }
            },
            "type": "barpolar"
           }
          ],
          "carpet": [
           {
            "aaxis": {
             "endlinecolor": "#2a3f5f",
             "gridcolor": "white",
             "linecolor": "white",
             "minorgridcolor": "white",
             "startlinecolor": "#2a3f5f"
            },
            "baxis": {
             "endlinecolor": "#2a3f5f",
             "gridcolor": "white",
             "linecolor": "white",
             "minorgridcolor": "white",
             "startlinecolor": "#2a3f5f"
            },
            "type": "carpet"
           }
          ],
          "choropleth": [
           {
            "colorbar": {
             "outlinewidth": 0,
             "ticks": ""
            },
            "type": "choropleth"
           }
          ],
          "contour": [
           {
            "colorbar": {
             "outlinewidth": 0,
             "ticks": ""
            },
            "colorscale": [
             [
              0,
              "#0d0887"
             ],
             [
              0.1111111111111111,
              "#46039f"
             ],
             [
              0.2222222222222222,
              "#7201a8"
             ],
             [
              0.3333333333333333,
              "#9c179e"
             ],
             [
              0.4444444444444444,
              "#bd3786"
             ],
             [
              0.5555555555555556,
              "#d8576b"
             ],
             [
              0.6666666666666666,
              "#ed7953"
             ],
             [
              0.7777777777777778,
              "#fb9f3a"
             ],
             [
              0.8888888888888888,
              "#fdca26"
             ],
             [
              1,
              "#f0f921"
             ]
            ],
            "type": "contour"
           }
          ],
          "contourcarpet": [
           {
            "colorbar": {
             "outlinewidth": 0,
             "ticks": ""
            },
            "type": "contourcarpet"
           }
          ],
          "heatmap": [
           {
            "colorbar": {
             "outlinewidth": 0,
             "ticks": ""
            },
            "colorscale": [
             [
              0,
              "#0d0887"
             ],
             [
              0.1111111111111111,
              "#46039f"
             ],
             [
              0.2222222222222222,
              "#7201a8"
             ],
             [
              0.3333333333333333,
              "#9c179e"
             ],
             [
              0.4444444444444444,
              "#bd3786"
             ],
             [
              0.5555555555555556,
              "#d8576b"
             ],
             [
              0.6666666666666666,
              "#ed7953"
             ],
             [
              0.7777777777777778,
              "#fb9f3a"
             ],
             [
              0.8888888888888888,
              "#fdca26"
             ],
             [
              1,
              "#f0f921"
             ]
            ],
            "type": "heatmap"
           }
          ],
          "heatmapgl": [
           {
            "colorbar": {
             "outlinewidth": 0,
             "ticks": ""
            },
            "colorscale": [
             [
              0,
              "#0d0887"
             ],
             [
              0.1111111111111111,
              "#46039f"
             ],
             [
              0.2222222222222222,
              "#7201a8"
             ],
             [
              0.3333333333333333,
              "#9c179e"
             ],
             [
              0.4444444444444444,
              "#bd3786"
             ],
             [
              0.5555555555555556,
              "#d8576b"
             ],
             [
              0.6666666666666666,
              "#ed7953"
             ],
             [
              0.7777777777777778,
              "#fb9f3a"
             ],
             [
              0.8888888888888888,
              "#fdca26"
             ],
             [
              1,
              "#f0f921"
             ]
            ],
            "type": "heatmapgl"
           }
          ],
          "histogram": [
           {
            "marker": {
             "pattern": {
              "fillmode": "overlay",
              "size": 10,
              "solidity": 0.2
             }
            },
            "type": "histogram"
           }
          ],
          "histogram2d": [
           {
            "colorbar": {
             "outlinewidth": 0,
             "ticks": ""
            },
            "colorscale": [
             [
              0,
              "#0d0887"
             ],
             [
              0.1111111111111111,
              "#46039f"
             ],
             [
              0.2222222222222222,
              "#7201a8"
             ],
             [
              0.3333333333333333,
              "#9c179e"
             ],
             [
              0.4444444444444444,
              "#bd3786"
             ],
             [
              0.5555555555555556,
              "#d8576b"
             ],
             [
              0.6666666666666666,
              "#ed7953"
             ],
             [
              0.7777777777777778,
              "#fb9f3a"
             ],
             [
              0.8888888888888888,
              "#fdca26"
             ],
             [
              1,
              "#f0f921"
             ]
            ],
            "type": "histogram2d"
           }
          ],
          "histogram2dcontour": [
           {
            "colorbar": {
             "outlinewidth": 0,
             "ticks": ""
            },
            "colorscale": [
             [
              0,
              "#0d0887"
             ],
             [
              0.1111111111111111,
              "#46039f"
             ],
             [
              0.2222222222222222,
              "#7201a8"
             ],
             [
              0.3333333333333333,
              "#9c179e"
             ],
             [
              0.4444444444444444,
              "#bd3786"
             ],
             [
              0.5555555555555556,
              "#d8576b"
             ],
             [
              0.6666666666666666,
              "#ed7953"
             ],
             [
              0.7777777777777778,
              "#fb9f3a"
             ],
             [
              0.8888888888888888,
              "#fdca26"
             ],
             [
              1,
              "#f0f921"
             ]
            ],
            "type": "histogram2dcontour"
           }
          ],
          "mesh3d": [
           {
            "colorbar": {
             "outlinewidth": 0,
             "ticks": ""
            },
            "type": "mesh3d"
           }
          ],
          "parcoords": [
           {
            "line": {
             "colorbar": {
              "outlinewidth": 0,
              "ticks": ""
             }
            },
            "type": "parcoords"
           }
          ],
          "pie": [
           {
            "automargin": true,
            "type": "pie"
           }
          ],
          "scatter": [
           {
            "fillpattern": {
             "fillmode": "overlay",
             "size": 10,
             "solidity": 0.2
            },
            "type": "scatter"
           }
          ],
          "scatter3d": [
           {
            "line": {
             "colorbar": {
              "outlinewidth": 0,
              "ticks": ""
             }
            },
            "marker": {
             "colorbar": {
              "outlinewidth": 0,
              "ticks": ""
             }
            },
            "type": "scatter3d"
           }
          ],
          "scattercarpet": [
           {
            "marker": {
             "colorbar": {
              "outlinewidth": 0,
              "ticks": ""
             }
            },
            "type": "scattercarpet"
           }
          ],
          "scattergeo": [
           {
            "marker": {
             "colorbar": {
              "outlinewidth": 0,
              "ticks": ""
             }
            },
            "type": "scattergeo"
           }
          ],
          "scattergl": [
           {
            "marker": {
             "colorbar": {
              "outlinewidth": 0,
              "ticks": ""
             }
            },
            "type": "scattergl"
           }
          ],
          "scattermapbox": [
           {
            "marker": {
             "colorbar": {
              "outlinewidth": 0,
              "ticks": ""
             }
            },
            "type": "scattermapbox"
           }
          ],
          "scatterpolar": [
           {
            "marker": {
             "colorbar": {
              "outlinewidth": 0,
              "ticks": ""
             }
            },
            "type": "scatterpolar"
           }
          ],
          "scatterpolargl": [
           {
            "marker": {
             "colorbar": {
              "outlinewidth": 0,
              "ticks": ""
             }
            },
            "type": "scatterpolargl"
           }
          ],
          "scatterternary": [
           {
            "marker": {
             "colorbar": {
              "outlinewidth": 0,
              "ticks": ""
             }
            },
            "type": "scatterternary"
           }
          ],
          "surface": [
           {
            "colorbar": {
             "outlinewidth": 0,
             "ticks": ""
            },
            "colorscale": [
             [
              0,
              "#0d0887"
             ],
             [
              0.1111111111111111,
              "#46039f"
             ],
             [
              0.2222222222222222,
              "#7201a8"
             ],
             [
              0.3333333333333333,
              "#9c179e"
             ],
             [
              0.4444444444444444,
              "#bd3786"
             ],
             [
              0.5555555555555556,
              "#d8576b"
             ],
             [
              0.6666666666666666,
              "#ed7953"
             ],
             [
              0.7777777777777778,
              "#fb9f3a"
             ],
             [
              0.8888888888888888,
              "#fdca26"
             ],
             [
              1,
              "#f0f921"
             ]
            ],
            "type": "surface"
           }
          ],
          "table": [
           {
            "cells": {
             "fill": {
              "color": "#EBF0F8"
             },
             "line": {
              "color": "white"
             }
            },
            "header": {
             "fill": {
              "color": "#C8D4E3"
             },
             "line": {
              "color": "white"
             }
            },
            "type": "table"
           }
          ]
         },
         "layout": {
          "annotationdefaults": {
           "arrowcolor": "#2a3f5f",
           "arrowhead": 0,
           "arrowwidth": 1
          },
          "autotypenumbers": "strict",
          "coloraxis": {
           "colorbar": {
            "outlinewidth": 0,
            "ticks": ""
           }
          },
          "colorscale": {
           "diverging": [
            [
             0,
             "#8e0152"
            ],
            [
             0.1,
             "#c51b7d"
            ],
            [
             0.2,
             "#de77ae"
            ],
            [
             0.3,
             "#f1b6da"
            ],
            [
             0.4,
             "#fde0ef"
            ],
            [
             0.5,
             "#f7f7f7"
            ],
            [
             0.6,
             "#e6f5d0"
            ],
            [
             0.7,
             "#b8e186"
            ],
            [
             0.8,
             "#7fbc41"
            ],
            [
             0.9,
             "#4d9221"
            ],
            [
             1,
             "#276419"
            ]
           ],
           "sequential": [
            [
             0,
             "#0d0887"
            ],
            [
             0.1111111111111111,
             "#46039f"
            ],
            [
             0.2222222222222222,
             "#7201a8"
            ],
            [
             0.3333333333333333,
             "#9c179e"
            ],
            [
             0.4444444444444444,
             "#bd3786"
            ],
            [
             0.5555555555555556,
             "#d8576b"
            ],
            [
             0.6666666666666666,
             "#ed7953"
            ],
            [
             0.7777777777777778,
             "#fb9f3a"
            ],
            [
             0.8888888888888888,
             "#fdca26"
            ],
            [
             1,
             "#f0f921"
            ]
           ],
           "sequentialminus": [
            [
             0,
             "#0d0887"
            ],
            [
             0.1111111111111111,
             "#46039f"
            ],
            [
             0.2222222222222222,
             "#7201a8"
            ],
            [
             0.3333333333333333,
             "#9c179e"
            ],
            [
             0.4444444444444444,
             "#bd3786"
            ],
            [
             0.5555555555555556,
             "#d8576b"
            ],
            [
             0.6666666666666666,
             "#ed7953"
            ],
            [
             0.7777777777777778,
             "#fb9f3a"
            ],
            [
             0.8888888888888888,
             "#fdca26"
            ],
            [
             1,
             "#f0f921"
            ]
           ]
          },
          "colorway": [
           "#636efa",
           "#EF553B",
           "#00cc96",
           "#ab63fa",
           "#FFA15A",
           "#19d3f3",
           "#FF6692",
           "#B6E880",
           "#FF97FF",
           "#FECB52"
          ],
          "font": {
           "color": "#2a3f5f"
          },
          "geo": {
           "bgcolor": "white",
           "lakecolor": "white",
           "landcolor": "#E5ECF6",
           "showlakes": true,
           "showland": true,
           "subunitcolor": "white"
          },
          "hoverlabel": {
           "align": "left"
          },
          "hovermode": "closest",
          "mapbox": {
           "style": "light"
          },
          "paper_bgcolor": "white",
          "plot_bgcolor": "#E5ECF6",
          "polar": {
           "angularaxis": {
            "gridcolor": "white",
            "linecolor": "white",
            "ticks": ""
           },
           "bgcolor": "#E5ECF6",
           "radialaxis": {
            "gridcolor": "white",
            "linecolor": "white",
            "ticks": ""
           }
          },
          "scene": {
           "xaxis": {
            "backgroundcolor": "#E5ECF6",
            "gridcolor": "white",
            "gridwidth": 2,
            "linecolor": "white",
            "showbackground": true,
            "ticks": "",
            "zerolinecolor": "white"
           },
           "yaxis": {
            "backgroundcolor": "#E5ECF6",
            "gridcolor": "white",
            "gridwidth": 2,
            "linecolor": "white",
            "showbackground": true,
            "ticks": "",
            "zerolinecolor": "white"
           },
           "zaxis": {
            "backgroundcolor": "#E5ECF6",
            "gridcolor": "white",
            "gridwidth": 2,
            "linecolor": "white",
            "showbackground": true,
            "ticks": "",
            "zerolinecolor": "white"
           }
          },
          "shapedefaults": {
           "line": {
            "color": "#2a3f5f"
           }
          },
          "ternary": {
           "aaxis": {
            "gridcolor": "white",
            "linecolor": "white",
            "ticks": ""
           },
           "baxis": {
            "gridcolor": "white",
            "linecolor": "white",
            "ticks": ""
           },
           "bgcolor": "#E5ECF6",
           "caxis": {
            "gridcolor": "white",
            "linecolor": "white",
            "ticks": ""
           }
          },
          "title": {
           "x": 0.05
          },
          "xaxis": {
           "automargin": true,
           "gridcolor": "white",
           "linecolor": "white",
           "ticks": "",
           "title": {
            "standoff": 15
           },
           "zerolinecolor": "white",
           "zerolinewidth": 2
          },
          "yaxis": {
           "automargin": true,
           "gridcolor": "white",
           "linecolor": "white",
           "ticks": "",
           "title": {
            "standoff": 15
           },
           "zerolinecolor": "white",
           "zerolinewidth": 2
          }
         }
        },
        "width": 1000,
        "xaxis": {
         "anchor": "y",
         "domain": [
          0,
          1
         ]
        },
        "xaxis10": {
         "anchor": "y10",
         "domain": [
          0,
          1
         ]
        },
        "xaxis11": {
         "anchor": "y11",
         "domain": [
          0,
          1
         ]
        },
        "xaxis12": {
         "anchor": "y12",
         "domain": [
          0,
          1
         ]
        },
        "xaxis13": {
         "anchor": "y13",
         "domain": [
          0,
          1
         ]
        },
        "xaxis14": {
         "anchor": "y14",
         "domain": [
          0,
          1
         ]
        },
        "xaxis15": {
         "anchor": "y15",
         "domain": [
          0,
          1
         ]
        },
        "xaxis16": {
         "anchor": "y16",
         "domain": [
          0,
          1
         ]
        },
        "xaxis17": {
         "anchor": "y17",
         "domain": [
          0,
          1
         ]
        },
        "xaxis18": {
         "anchor": "y18",
         "domain": [
          0,
          1
         ]
        },
        "xaxis19": {
         "anchor": "y19",
         "domain": [
          0,
          1
         ]
        },
        "xaxis2": {
         "anchor": "y2",
         "domain": [
          0,
          1
         ]
        },
        "xaxis20": {
         "anchor": "y20",
         "domain": [
          0,
          1
         ]
        },
        "xaxis21": {
         "anchor": "y21",
         "domain": [
          0,
          1
         ]
        },
        "xaxis22": {
         "anchor": "y22",
         "domain": [
          0,
          1
         ]
        },
        "xaxis23": {
         "anchor": "y23",
         "domain": [
          0,
          1
         ]
        },
        "xaxis24": {
         "anchor": "y24",
         "domain": [
          0,
          1
         ]
        },
        "xaxis25": {
         "anchor": "y25",
         "domain": [
          0,
          1
         ]
        },
        "xaxis26": {
         "anchor": "y26",
         "domain": [
          0,
          1
         ]
        },
        "xaxis27": {
         "anchor": "y27",
         "domain": [
          0,
          1
         ]
        },
        "xaxis3": {
         "anchor": "y3",
         "domain": [
          0,
          1
         ]
        },
        "xaxis4": {
         "anchor": "y4",
         "domain": [
          0,
          1
         ]
        },
        "xaxis5": {
         "anchor": "y5",
         "domain": [
          0,
          1
         ]
        },
        "xaxis6": {
         "anchor": "y6",
         "domain": [
          0,
          1
         ]
        },
        "xaxis7": {
         "anchor": "y7",
         "domain": [
          0,
          1
         ]
        },
        "xaxis8": {
         "anchor": "y8",
         "domain": [
          0,
          1
         ]
        },
        "xaxis9": {
         "anchor": "y9",
         "domain": [
          0,
          1
         ]
        },
        "yaxis": {
         "anchor": "x",
         "domain": [
          0.9807956104252401,
          1
         ]
        },
        "yaxis10": {
         "anchor": "x10",
         "domain": [
          0.6412894375857339,
          0.6604938271604938
         ]
        },
        "yaxis11": {
         "anchor": "x11",
         "domain": [
          0.6035665294924555,
          0.6227709190672154
         ]
        },
        "yaxis12": {
         "anchor": "x12",
         "domain": [
          0.565843621399177,
          0.5850480109739369
         ]
        },
        "yaxis13": {
         "anchor": "x13",
         "domain": [
          0.5281207133058985,
          0.5473251028806584
         ]
        },
        "yaxis14": {
         "anchor": "x14",
         "domain": [
          0.49039780521262005,
          0.50960219478738
         ]
        },
        "yaxis15": {
         "anchor": "x15",
         "domain": [
          0.4526748971193416,
          0.47187928669410156
         ]
        },
        "yaxis16": {
         "anchor": "x16",
         "domain": [
          0.4149519890260631,
          0.43415637860082307
         ]
        },
        "yaxis17": {
         "anchor": "x17",
         "domain": [
          0.3772290809327846,
          0.39643347050754457
         ]
        },
        "yaxis18": {
         "anchor": "x18",
         "domain": [
          0.3395061728395062,
          0.35871056241426613
         ]
        },
        "yaxis19": {
         "anchor": "x19",
         "domain": [
          0.30178326474622774,
          0.3209876543209877
         ]
        },
        "yaxis2": {
         "anchor": "x2",
         "domain": [
          0.9430727023319616,
          0.9622770919067215
         ]
        },
        "yaxis20": {
         "anchor": "x20",
         "domain": [
          0.26406035665294925,
          0.2832647462277092
         ]
        },
        "yaxis21": {
         "anchor": "x21",
         "domain": [
          0.2263374485596708,
          0.24554183813443076
         ]
        },
        "yaxis22": {
         "anchor": "x22",
         "domain": [
          0.1886145404663923,
          0.20781893004115226
         ]
        },
        "yaxis23": {
         "anchor": "x23",
         "domain": [
          0.15089163237311387,
          0.17009602194787382
         ]
        },
        "yaxis24": {
         "anchor": "x24",
         "domain": [
          0.11316872427983539,
          0.13237311385459533
         ]
        },
        "yaxis25": {
         "anchor": "x25",
         "domain": [
          0.07544581618655694,
          0.09465020576131689
         ]
        },
        "yaxis26": {
         "anchor": "x26",
         "domain": [
          0.03772290809327847,
          0.05692729766803842
         ]
        },
        "yaxis27": {
         "anchor": "x27",
         "domain": [
          0,
          0.019204389574759947
         ]
        },
        "yaxis3": {
         "anchor": "x3",
         "domain": [
          0.9053497942386832,
          0.9245541838134431
         ]
        },
        "yaxis4": {
         "anchor": "x4",
         "domain": [
          0.8676268861454047,
          0.8868312757201646
         ]
        },
        "yaxis5": {
         "anchor": "x5",
         "domain": [
          0.8299039780521262,
          0.8491083676268861
         ]
        },
        "yaxis6": {
         "anchor": "x6",
         "domain": [
          0.7921810699588477,
          0.8113854595336076
         ]
        },
        "yaxis7": {
         "anchor": "x7",
         "domain": [
          0.7544581618655692,
          0.7736625514403291
         ]
        },
        "yaxis8": {
         "anchor": "x8",
         "domain": [
          0.7167352537722909,
          0.7359396433470508
         ]
        },
        "yaxis9": {
         "anchor": "x9",
         "domain": [
          0.6790123456790124,
          0.6982167352537723
         ]
        }
       }
      },
      "text/html": [
       "<div>                            <div id=\"d15a723a-a05a-4e96-a717-ae1cb9c83ad9\" class=\"plotly-graph-div\" style=\"height:8000px; width:1000px;\"></div>            <script type=\"text/javascript\">                require([\"plotly\"], function(Plotly) {                    window.PLOTLYENV=window.PLOTLYENV || {};                                    if (document.getElementById(\"d15a723a-a05a-4e96-a717-ae1cb9c83ad9\")) {                    Plotly.newPlot(                        \"d15a723a-a05a-4e96-a717-ae1cb9c83ad9\",                        [{\"alignmentgroup\":\"True\",\"hovertemplate\":\"index=%{x}\\u003cbr\\u003evalue=%{marker.color}\\u003cextra\\u003e\\u003c\\u002fextra\\u003e\",\"legendgroup\":\"\",\"marker\":{\"color\":[2584.5819169606248,537.2860978634835,451.078092522407,400.63230032871417,328.4777511485469,320.78783445496646,244.01795776896054,228.00245889915723,213.95268226477947,202.81832851211865,188.61031211175822,174.5632513224241,173.67189188012998,168.1673664203734,164.69476961049702,160.53503942003414,155.46518768554066,155.3608706603317,150.28908782104318,146.32434814706968,145.38285860198863,140.64880301197135,139.0308974471589,123.5003028184548,121.1100679111979,121.0647016974189,118.1912288249785,115.58518323057154,112.04589470632997,106.25455188439408],\"coloraxis\":\"coloraxis\",\"pattern\":{\"shape\":\"\"}},\"name\":\"\",\"offsetgroup\":\"\",\"orientation\":\"v\",\"showlegend\":false,\"textposition\":\"auto\",\"x\":[\"https\",\"www\",\"\\u0440\\u043e\\u0441\\u0441\\u0438\\u0438\",\"com\",\"news\",\"html\",\"\\u0441\\u0448\\u0430\",\"goo\",\"\\u0433\\u043e\\u0434\\u0430\",\"telegram\",\"ria\",\"utm_source\",\"\\u0447\\u0435\\u043b\\u043e\\u0432\\u0435\\u043a\",\"\\u0432\\u0440\\u0435\\u043c\\u044f\",\"\\u043e\\u0447\\u0435\\u043d\\u044c\",\"\\u0441\\u0435\\u0433\\u043e\\u0434\\u043d\\u044f\",\"\\u043c\\u043e\\u0441\\u043a\\u0432\\u0435\",\"\\u043f\\u0443\\u0442\\u0438\\u043d\",\"\\u043a\\u043e\\u0442\\u043e\\u0440\\u044b\\u0439\",\"ntv\",\"novosti\",\"\\u043a\\u043e\\u0442\\u043e\\u0440\\u044b\\u0435\",\"\\u043b\\u0435\\u0442\",\"\\u043f\\u0440\\u043e\\u0441\\u0442\\u043e\",\"\\u043f\\u0440\\u043e\\u0442\\u0438\\u0432\",\"\\u0440\\u043e\\u0441\\u0441\\u0438\\u044f\",\"\\u0432\\u0438\\u0434\\u0435\\u043e\",\"\\u0433\\u043e\\u0434\\u0443\",\"\\u043f\\u043e\\u0447\\u0435\\u043c\\u0443\",\"\\u0447\\u0438\\u0442\\u0430\\u0442\\u044c\"],\"xaxis\":\"x\",\"y\":[2584.5819169606248,537.2860978634835,451.078092522407,400.63230032871417,328.4777511485469,320.78783445496646,244.01795776896054,228.00245889915723,213.95268226477947,202.81832851211865,188.61031211175822,174.5632513224241,173.67189188012998,168.1673664203734,164.69476961049702,160.53503942003414,155.46518768554066,155.3608706603317,150.28908782104318,146.32434814706968,145.38285860198863,140.64880301197135,139.0308974471589,123.5003028184548,121.1100679111979,121.0647016974189,118.1912288249785,115.58518323057154,112.04589470632997,106.25455188439408],\"yaxis\":\"y\",\"type\":\"bar\"},{\"alignmentgroup\":\"True\",\"hovertemplate\":\"index=%{x}\\u003cbr\\u003evalue=%{marker.color}\\u003cextra\\u003e\\u003c\\u002fextra\\u003e\",\"legendgroup\":\"\",\"marker\":{\"color\":[1416.8513278279902,472.5396662087079,336.22287129886945,301.6429273767038,285.7344705187631,256.26989551263426,245.89167993052916,244.70394806992576,218.6517813074828,210.7962057178854,199.22982908851458,198.39085035859998,193.40757632450476,183.91731332405973,180.67078744361604,177.19618290072975,168.669114771386,153.4458655649106,151.7420573329047,146.06128629038488,139.44732638867023,137.56092329751135,132.52799817058843,127.22365474836204,125.31922946932715,124.99586286479587,120.18373506706867,119.52870628768143,119.49849590866137,119.19095176991604],\"coloraxis\":\"coloraxis\",\"pattern\":{\"shape\":\"\"}},\"name\":\"\",\"offsetgroup\":\"\",\"orientation\":\"v\",\"showlegend\":false,\"textposition\":\"auto\",\"x\":[\"https\",\"\\u0440\\u043e\\u0441\\u0441\\u0438\\u0438\",\"news\",\"html\",\"www\",\"\\u0433\\u043e\\u0434\\u0430\",\"\\u0441\\u0448\\u0430\",\"com\",\"\\u0441\\u0435\\u0433\\u043e\\u0434\\u043d\\u044f\",\"\\u043f\\u0443\\u0442\\u0438\\u043d\",\"\\u043a\\u043e\\u0442\\u043e\\u0440\\u044b\\u0439\",\"\\u0432\\u0440\\u0435\\u043c\\u044f\",\"\\u043a\\u043e\\u0442\\u043e\\u0440\\u044b\\u0435\",\"\\u0447\\u0435\\u043b\\u043e\\u0432\\u0435\\u043a\",\"\\u043b\\u0435\\u0442\",\"\\u043e\\u0447\\u0435\\u043d\\u044c\",\"goo\",\"\\u043f\\u0440\\u043e\\u0441\\u0442\\u043e\",\"telegram\",\"\\u0433\\u043e\\u0434\\u0443\",\"\\u043c\\u043e\\u0441\\u043a\\u0432\\u0435\",\"\\u043f\\u043e\\u043a\\u0430\",\"\\u0440\\u0443\\u0431\\u043b\\u0435\\u0439\",\"\\u0432\\u0441\\u0451\",\"\\u043f\\u0440\\u0435\\u0437\\u0438\\u0434\\u0435\\u043d\\u0442\\u0430\",\"\\u0440\\u043e\\u0441\\u0441\\u0438\\u044f\",\"\\u0441\\u043c\\u0438\",\"\\u043e\\u0431\\u043b\\u0430\\u0441\\u0442\\u0438\",\"\\u0431\\u0443\\u0434\\u0443\\u0442\",\"\\u043f\\u0440\\u043e\\u0442\\u0438\\u0432\"],\"xaxis\":\"x2\",\"y\":[1416.8513278279902,472.5396662087079,336.22287129886945,301.6429273767038,285.7344705187631,256.26989551263426,245.89167993052916,244.70394806992576,218.6517813074828,210.7962057178854,199.22982908851458,198.39085035859998,193.40757632450476,183.91731332405973,180.67078744361604,177.19618290072975,168.669114771386,153.4458655649106,151.7420573329047,146.06128629038488,139.44732638867023,137.56092329751135,132.52799817058843,127.22365474836204,125.31922946932715,124.99586286479587,120.18373506706867,119.52870628768143,119.49849590866137,119.19095176991604],\"yaxis\":\"y2\",\"type\":\"bar\"},{\"alignmentgroup\":\"True\",\"hovertemplate\":\"index=%{x}\\u003cbr\\u003evalue=%{marker.color}\\u003cextra\\u003e\\u003c\\u002fextra\\u003e\",\"legendgroup\":\"\",\"marker\":{\"color\":[1287.998325047389,435.37553439105375,272.721093811913,266.3761787943442,253.941688494586,250.01747983196842,222.1525459117048,219.437646162529,217.2777226266968,213.03169174826854,208.18304221795194,187.82371732111764,186.2055676014924,183.96651484384552,182.80736274055366,165.58099433564564,162.27518129819046,153.83766949797638,150.92911582962628,146.79443871268654,146.64477405548436,138.2640120484448,136.82882247395,132.4584767778169,132.43365017415155,127.05625257256645,126.72497788426698,120.98066953811716,119.68238346228974,115.97745750885703],\"coloraxis\":\"coloraxis\",\"pattern\":{\"shape\":\"\"}},\"name\":\"\",\"offsetgroup\":\"\",\"orientation\":\"v\",\"showlegend\":false,\"textposition\":\"auto\",\"x\":[\"https\",\"\\u0440\\u043e\\u0441\\u0441\\u0438\\u0438\",\"\\u0433\\u043e\\u0434\\u0430\",\"news\",\"\\u0441\\u0448\\u0430\",\"www\",\"com\",\"\\u043a\\u043e\\u0442\\u043e\\u0440\\u044b\\u0439\",\"\\u0441\\u0435\\u0433\\u043e\\u0434\\u043d\\u044f\",\"\\u043a\\u043e\\u0442\\u043e\\u0440\\u044b\\u0435\",\"\\u0432\\u0440\\u0435\\u043c\\u044f\",\"\\u043e\\u0447\\u0435\\u043d\\u044c\",\"\\u0447\\u0435\\u043b\\u043e\\u0432\\u0435\\u043a\",\"\\u043f\\u0443\\u0442\\u0438\\u043d\",\"\\u043b\\u0435\\u0442\",\"\\u0433\\u043e\\u0434\\u0443\",\"\\u043f\\u0440\\u043e\\u0441\\u0442\\u043e\",\"\\u043e\\u0431\\u043b\\u0430\\u0441\\u0442\\u0438\",\"goo\",\"\\u0440\\u0443\\u0431\\u043b\\u0435\\u0439\",\"\\u043f\\u043e\\u043a\\u0430\",\"\\u0442\\u0430\\u043a\\u0436\\u0435\",\"\\u043f\\u0440\\u043e\\u0442\\u0438\\u0432\",\"\\u0431\\u0443\\u0434\\u0443\\u0442\",\"html\",\"\\u0432\\u0441\\u0451\",\"\\u0440\\u043e\\u0441\\u0441\\u0438\\u044f\",\"\\u043c\\u043e\\u0441\\u043a\\u0432\\u0435\",\"\\u0437\\u0430\\u044f\\u0432\\u0438\\u043b\",\"\\u0435\\u0449\\u0451\"],\"xaxis\":\"x3\",\"y\":[1287.998325047389,435.37553439105375,272.721093811913,266.3761787943442,253.941688494586,250.01747983196842,222.1525459117048,219.437646162529,217.2777226266968,213.03169174826854,208.18304221795194,187.82371732111764,186.2055676014924,183.96651484384552,182.80736274055366,165.58099433564564,162.27518129819046,153.83766949797638,150.92911582962628,146.79443871268654,146.64477405548436,138.2640120484448,136.82882247395,132.4584767778169,132.43365017415155,127.05625257256645,126.72497788426698,120.98066953811716,119.68238346228974,115.97745750885703],\"yaxis\":\"y3\",\"type\":\"bar\"},{\"alignmentgroup\":\"True\",\"hovertemplate\":\"index=%{x}\\u003cbr\\u003evalue=%{marker.color}\\u003cextra\\u003e\\u003c\\u002fextra\\u003e\",\"legendgroup\":\"\",\"marker\":{\"color\":[1138.1409167783825,421.67502968154173,268.8721906095134,246.2998081203327,238.9406129076755,214.2150788345378,213.0778640471747,211.57258556708288,209.70160647986697,191.3989293220434,184.46713781654168,181.62025588851247,181.1741142072622,180.91696365896044,174.253360515407,171.10627941997151,161.53546567967734,159.81245348176543,152.9364055353436,144.43565323182864,143.75012355404186,143.26521540065536,143.0873657932168,142.43793787306308,131.95349395285325,130.4179948263605,130.2967875986921,123.28658117730613,122.89677963028235,121.09246414701146],\"coloraxis\":\"coloraxis\",\"pattern\":{\"shape\":\"\"}},\"name\":\"\",\"offsetgroup\":\"\",\"orientation\":\"v\",\"showlegend\":false,\"textposition\":\"auto\",\"x\":[\"https\",\"\\u0440\\u043e\\u0441\\u0441\\u0438\\u0438\",\"\\u0441\\u0448\\u0430\",\"\\u0433\\u043e\\u0434\\u0430\",\"news\",\"\\u043a\\u043e\\u0442\\u043e\\u0440\\u044b\\u0435\",\"\\u043a\\u043e\\u0442\\u043e\\u0440\\u044b\\u0439\",\"\\u0441\\u0435\\u0433\\u043e\\u0434\\u043d\\u044f\",\"\\u0432\\u0440\\u0435\\u043c\\u044f\",\"\\u043b\\u0435\\u0442\",\"www\",\"\\u043e\\u0447\\u0435\\u043d\\u044c\",\"\\u0447\\u0435\\u043b\\u043e\\u0432\\u0435\\u043a\",\"com\",\"\\u0433\\u043e\\u0434\\u0443\",\"\\u043e\\u0431\\u043b\\u0430\\u0441\\u0442\\u0438\",\"\\u0440\\u0443\\u0431\\u043b\\u0435\\u0439\",\"\\u043f\\u0443\\u0442\\u0438\\u043d\",\"\\u043f\\u0440\\u043e\\u0441\\u0442\\u043e\",\"\\u043f\\u0440\\u043e\\u0442\\u0438\\u0432\",\"\\u0437\\u0430\\u044f\\u0432\\u0438\\u043b\",\"\\u043f\\u043e\\u043a\\u0430\",\"\\u0442\\u0430\\u043a\\u0436\\u0435\",\"\\u043f\\u0440\\u0435\\u0437\\u0438\\u0434\\u0435\\u043d\\u0442\\u0430\",\"new_militarycolumnist\",\"\\u0431\\u0443\\u0434\\u0443\\u0442\",\"\\u043c\\u043e\\u0441\\u043a\\u0432\\u0435\",\"\\u0433\\u043b\\u0430\\u0432\\u0430\",\"\\u0432\\u043b\\u0430\\u0441\\u0442\\u0438\",\"\\u0443\\u043a\\u0440\\u0430\\u0438\\u043d\\u044b\"],\"xaxis\":\"x4\",\"y\":[1138.1409167783825,421.67502968154173,268.8721906095134,246.2998081203327,238.9406129076755,214.2150788345378,213.0778640471747,211.57258556708288,209.70160647986697,191.3989293220434,184.46713781654168,181.62025588851247,181.1741142072622,180.91696365896044,174.253360515407,171.10627941997151,161.53546567967734,159.81245348176543,152.9364055353436,144.43565323182864,143.75012355404186,143.26521540065536,143.0873657932168,142.43793787306308,131.95349395285325,130.4179948263605,130.2967875986921,123.28658117730613,122.89677963028235,121.09246414701146],\"yaxis\":\"y4\",\"type\":\"bar\"},{\"alignmentgroup\":\"True\",\"hovertemplate\":\"index=%{x}\\u003cbr\\u003evalue=%{marker.color}\\u003cextra\\u003e\\u003c\\u002fextra\\u003e\",\"legendgroup\":\"\",\"marker\":{\"color\":[1115.743693431594,454.84115652023246,274.7491292592327,255.8675757812761,232.4089454288598,224.3389114149061,218.44559564746723,218.33441223503584,214.41998257540408,194.7804555492499,190.99036258251087,189.7912094428365,185.49932399173548,175.29205179191447,174.2153728660966,170.12163789076445,157.85848301541415,154.5186579161901,153.76994916750735,151.01626901982493,149.97144364948383,149.0857323677325,144.50983371055653,141.81229146215222,141.05749738612747,140.4806881297471,134.84761276370335,133.98348710502955,132.15360534162102,129.17510136168644],\"coloraxis\":\"coloraxis\",\"pattern\":{\"shape\":\"\"}},\"name\":\"\",\"offsetgroup\":\"\",\"orientation\":\"v\",\"showlegend\":false,\"textposition\":\"auto\",\"x\":[\"https\",\"\\u0440\\u043e\\u0441\\u0441\\u0438\\u0438\",\"\\u0441\\u0448\\u0430\",\"\\u0433\\u043e\\u0434\\u0430\",\"\\u043a\\u043e\\u0442\\u043e\\u0440\\u044b\\u0435\",\"\\u0447\\u0435\\u043b\\u043e\\u0432\\u0435\\u043a\",\"\\u0432\\u0440\\u0435\\u043c\\u044f\",\"\\u043a\\u043e\\u0442\\u043e\\u0440\\u044b\\u0439\",\"\\u0441\\u0435\\u0433\\u043e\\u0434\\u043d\\u044f\",\"news\",\"\\u043f\\u0443\\u0442\\u0438\\u043d\",\"\\u043e\\u0447\\u0435\\u043d\\u044c\",\"\\u043b\\u0435\\u0442\",\"\\u043f\\u0440\\u043e\\u0441\\u0442\\u043e\",\"\\u043c\\u043e\\u0441\\u043a\\u0432\\u0435\",\"com\",\"\\u0437\\u0430\\u044f\\u0432\\u0438\\u043b\",\"\\u0433\\u043e\\u0434\\u0443\",\"\\u0442\\u0430\\u043a\\u0436\\u0435\",\"www\",\"\\u043f\\u043e\\u043a\\u0430\",\"\\u043e\\u0431\\u043b\\u0430\\u0441\\u0442\\u0438\",\"\\u0440\\u043e\\u0441\\u0441\\u0438\\u044f\",\"\\u043b\\u044e\\u0434\\u0435\\u0439\",\"\\u0440\\u0443\\u0431\\u043b\\u0435\\u0439\",\"\\u043f\\u0440\\u043e\\u0442\\u0438\\u0432\",\"\\u043f\\u0440\\u0435\\u0437\\u0438\\u0434\\u0435\\u043d\\u0442\\u0430\",\"\\u0434\\u0435\\u043b\\u043e\",\"\\u0431\\u0443\\u0434\\u0443\\u0442\",\"\\u0432\\u0441\\u0451\"],\"xaxis\":\"x5\",\"y\":[1115.743693431594,454.84115652023246,274.7491292592327,255.8675757812761,232.4089454288598,224.3389114149061,218.44559564746723,218.33441223503584,214.41998257540408,194.7804555492499,190.99036258251087,189.7912094428365,185.49932399173548,175.29205179191447,174.2153728660966,170.12163789076445,157.85848301541415,154.5186579161901,153.76994916750735,151.01626901982493,149.97144364948383,149.0857323677325,144.50983371055653,141.81229146215222,141.05749738612747,140.4806881297471,134.84761276370335,133.98348710502955,132.15360534162102,129.17510136168644],\"yaxis\":\"y5\",\"type\":\"bar\"},{\"alignmentgroup\":\"True\",\"hovertemplate\":\"index=%{x}\\u003cbr\\u003evalue=%{marker.color}\\u003cextra\\u003e\\u003c\\u002fextra\\u003e\",\"legendgroup\":\"\",\"marker\":{\"color\":[998.0128398160685,489.3147866593604,347.38090762336543,321.3407633995311,282.11180641894924,236.47607520811002,225.42056682030986,218.71557598802423,213.34267808866153,211.15672211301668,200.0319038077201,191.45426420831302,181.71658913107677,176.28741960337993,175.56436842624692,169.7061947885729,163.6238264861885,161.3495736604152,160.48714561602966,159.33558336296934,149.76892562160347,141.7229065216841,141.40712421307947,141.03903193363055,135.35250367923445,132.36985215473322,128.26978320859305,127.51534886699184,126.0659499717323,125.51346604921906],\"coloraxis\":\"coloraxis\",\"pattern\":{\"shape\":\"\"}},\"name\":\"\",\"offsetgroup\":\"\",\"orientation\":\"v\",\"showlegend\":false,\"textposition\":\"auto\",\"x\":[\"https\",\"\\u0440\\u043e\\u0441\\u0441\\u0438\\u0438\",\"\\u0433\\u043e\\u0434\\u0430\",\"\\u0441\\u0448\\u0430\",\"\\u043f\\u0443\\u0442\\u0438\\u043d\",\"\\u0432\\u0440\\u0435\\u043c\\u044f\",\"\\u0447\\u0435\\u043b\\u043e\\u0432\\u0435\\u043a\",\"\\u043a\\u043e\\u0442\\u043e\\u0440\\u044b\\u0435\",\"\\u043a\\u043e\\u0442\\u043e\\u0440\\u044b\\u0439\",\"\\u0441\\u0435\\u0433\\u043e\\u0434\\u043d\\u044f\",\"\\u0433\\u043e\\u0434\\u0443\",\"\\u043b\\u0435\\u0442\",\"news\",\"\\u043e\\u0447\\u0435\\u043d\\u044c\",\"\\u0440\\u043e\\u0441\\u0441\\u0438\\u044f\",\"\\u0442\\u0430\\u043a\\u0436\\u0435\",\"\\u043f\\u043e\\u043a\\u0430\",\"\\u043f\\u0440\\u043e\\u0441\\u0442\\u043e\",\"\\u043f\\u0440\\u0435\\u0437\\u0438\\u0434\\u0435\\u043d\\u0442\\u0430\",\"\\u0437\\u0430\\u044f\\u0432\\u0438\\u043b\",\"\\u0431\\u0443\\u0434\\u0443\\u0442\",\"\\u0440\\u0443\\u0431\\u043b\\u0435\\u0439\",\"\\u043f\\u0440\\u0435\\u0437\\u0438\\u0434\\u0435\\u043d\\u0442\",\"\\u043f\\u0440\\u043e\\u0442\\u0438\\u0432\",\"\\u043e\\u0431\\u043b\\u0430\\u0441\\u0442\\u0438\",\"\\u0435\\u0449\\u0451\",\"\\u0432\\u0441\\u0451\",\"\\u0433\\u043e\\u0434\",\"\\u0433\\u043b\\u0430\\u0432\\u0430\",\"\\u0432\\u043b\\u0430\\u0441\\u0442\\u0438\"],\"xaxis\":\"x6\",\"y\":[998.0128398160685,489.3147866593604,347.38090762336543,321.3407633995311,282.11180641894924,236.47607520811002,225.42056682030986,218.71557598802423,213.34267808866153,211.15672211301668,200.0319038077201,191.45426420831302,181.71658913107677,176.28741960337993,175.56436842624692,169.7061947885729,163.6238264861885,161.3495736604152,160.48714561602966,159.33558336296934,149.76892562160347,141.7229065216841,141.40712421307947,141.03903193363055,135.35250367923445,132.36985215473322,128.26978320859305,127.51534886699184,126.0659499717323,125.51346604921906],\"yaxis\":\"y6\",\"type\":\"bar\"},{\"alignmentgroup\":\"True\",\"hovertemplate\":\"index=%{x}\\u003cbr\\u003evalue=%{marker.color}\\u003cextra\\u003e\\u003c\\u002fextra\\u003e\",\"legendgroup\":\"\",\"marker\":{\"color\":[752.1706508575588,566.767103497275,558.7085988023792,469.0614880639929,319.2545647159126,283.46437640813434,277.8048277558254,248.49862876355465,238.2872047732572,226.88901987825184,226.6394376096631,226.20566121724966,215.32352180373138,201.6369779897643,194.23287184089364,194.1215903171581,186.07301183708847,182.11391527886605,172.89511211411786,172.5943157063886,171.3936753752468,170.72861572428266,165.41601114271347,163.15150551969657,154.58053929511928,153.31097089090633,149.92173559186884,149.04635002210108,143.17300610735307,142.04086067620017],\"coloraxis\":\"coloraxis\",\"pattern\":{\"shape\":\"\"}},\"name\":\"\",\"offsetgroup\":\"\",\"orientation\":\"v\",\"showlegend\":false,\"textposition\":\"auto\",\"x\":[\"https\",\"\\u043a\\u043e\\u0440\\u043e\\u043d\\u0430\\u0432\\u0438\\u0440\\u0443\\u0441\\u0430\",\"\\u0440\\u043e\\u0441\\u0441\\u0438\\u0438\",\"\\u043a\\u043e\\u0440\\u043e\\u043d\\u0430\\u0432\\u0438\\u0440\\u0443\\u0441\\u043e\\u043c\",\"\\u0447\\u0435\\u043b\\u043e\\u0432\\u0435\\u043a\",\"\\u043c\\u043e\\u0441\\u043a\\u0432\\u0435\",\"\\u043a\\u043e\\u0440\\u043e\\u043d\\u0430\\u0432\\u0438\\u0440\\u0443\\u0441\",\"\\u043f\\u0443\\u0442\\u0438\\u043d\",\"\\u0441\\u0448\\u0430\",\"\\u043a\\u043e\\u0442\\u043e\\u0440\\u044b\\u0435\",\"\\u0433\\u043e\\u0434\\u0430\",\"\\u0432\\u0440\\u0435\\u043c\\u044f\",\"\\u0431\\u0443\\u0434\\u0443\\u0442\",\"\\u043c\\u0430\\u0440\\u0442\\u0430\",\"\\u0441\\u0435\\u0433\\u043e\\u0434\\u043d\\u044f\",\"\\u0432\\u043b\\u0430\\u0441\\u0442\\u0438\",\"\\u0430\\u043f\\u0440\\u0435\\u043b\\u044f\",\"\\u0442\\u0430\\u043a\\u0436\\u0435\",\"\\u043e\\u0431\\u043b\\u0430\\u0441\\u0442\\u0438\",\"\\u043a\\u043e\\u0442\\u043e\\u0440\\u044b\\u0439\",\"covid\",\"\\u043f\\u043e\\u043a\\u0430\",\"\\u043b\\u0435\\u0442\",\"\\u043c\\u043e\\u0441\\u043a\\u0432\\u044b\",\"\\u043e\\u0447\\u0435\\u043d\\u044c\",\"\\u0437\\u0430\\u044f\\u0432\\u0438\\u043b\",\"\\u043b\\u044e\\u0434\\u0435\\u0439\",\"\\u0447\\u0438\\u0441\\u043b\\u043e\",\"\\u0440\\u043e\\u0441\\u0441\\u0438\\u044f\",\"\\u0440\\u0443\\u0431\\u043b\\u0435\\u0439\"],\"xaxis\":\"x7\",\"y\":[752.1706508575588,566.767103497275,558.7085988023792,469.0614880639929,319.2545647159126,283.46437640813434,277.8048277558254,248.49862876355465,238.2872047732572,226.88901987825184,226.6394376096631,226.20566121724966,215.32352180373138,201.6369779897643,194.23287184089364,194.1215903171581,186.07301183708847,182.11391527886605,172.89511211411786,172.5943157063886,171.3936753752468,170.72861572428266,165.41601114271347,163.15150551969657,154.58053929511928,153.31097089090633,149.92173559186884,149.04635002210108,143.17300610735307,142.04086067620017],\"yaxis\":\"y7\",\"type\":\"bar\"},{\"alignmentgroup\":\"True\",\"hovertemplate\":\"index=%{x}\\u003cbr\\u003evalue=%{marker.color}\\u003cextra\\u003e\\u003c\\u002fextra\\u003e\",\"legendgroup\":\"\",\"marker\":{\"color\":[803.8218917716042,581.7657655958753,346.4828389367719,341.63459337176647,322.97621248929664,315.4794510257936,301.905649460354,265.6188975717722,249.48006442257736,237.61694979580517,233.39604910203116,217.21587350441516,206.165393937355,202.0172796442989,196.93859178269315,196.43217414151343,186.73810289573794,185.79511282695864,181.9220517149952,170.74595244010777,170.46938592759102,162.41949286002898,160.39680566638043,159.59973234823818,158.58090715302222,157.97018928791562,156.8293483065494,154.43736908240624,153.9396437456024,153.48516911258605],\"coloraxis\":\"coloraxis\",\"pattern\":{\"shape\":\"\"}},\"name\":\"\",\"offsetgroup\":\"\",\"orientation\":\"v\",\"showlegend\":false,\"textposition\":\"auto\",\"x\":[\"https\",\"\\u0440\\u043e\\u0441\\u0441\\u0438\\u0438\",\"\\u043a\\u043e\\u0440\\u043e\\u043d\\u0430\\u0432\\u0438\\u0440\\u0443\\u0441\\u0430\",\"\\u043c\\u043e\\u0441\\u043a\\u0432\\u0435\",\"\\u0447\\u0435\\u043b\\u043e\\u0432\\u0435\\u043a\",\"\\u0441\\u0448\\u0430\",\"\\u043a\\u043e\\u0440\\u043e\\u043d\\u0430\\u0432\\u0438\\u0440\\u0443\\u0441\\u043e\\u043c\",\"\\u043f\\u0443\\u0442\\u0438\\u043d\",\"\\u0432\\u0440\\u0435\\u043c\\u044f\",\"\\u0433\\u043e\\u0434\\u0430\",\"\\u043c\\u0430\\u044f\",\"\\u043a\\u043e\\u0442\\u043e\\u0440\\u044b\\u0435\",\"\\u0438\\u044e\\u043d\\u044f\",\"\\u0441\\u0435\\u0433\\u043e\\u0434\\u043d\\u044f\",\"covid\",\"\\u0441\\u0443\\u0442\\u043a\\u0438\",\"\\u043a\\u043e\\u0442\\u043e\\u0440\\u044b\\u0439\",\"\\u0431\\u0443\\u0434\\u0443\\u0442\",\"\\u0442\\u0430\\u043a\\u0436\\u0435\",\"\\u0437\\u0430\\u044f\\u0432\\u0438\\u043b\",\"\\u043b\\u0435\\u0442\",\"\\u043f\\u043e\\u043a\\u0430\",\"news\",\"\\u043e\\u0431\\u043b\\u0430\\u0441\\u0442\\u0438\",\"\\u043e\\u0447\\u0435\\u043d\\u044c\",\"\\u0440\\u0443\\u0431\\u043b\\u0435\\u0439\",\"\\u0447\\u0438\\u0441\\u043b\\u043e\",\"\\u0433\\u043b\\u0430\\u0432\\u0430\",\"\\u0434\\u0435\\u043d\\u044c\",\"\\u043f\\u0440\\u043e\\u0442\\u0438\\u0432\"],\"xaxis\":\"x8\",\"y\":[803.8218917716042,581.7657655958753,346.4828389367719,341.63459337176647,322.97621248929664,315.4794510257936,301.905649460354,265.6188975717722,249.48006442257736,237.61694979580517,233.39604910203116,217.21587350441516,206.165393937355,202.0172796442989,196.93859178269315,196.43217414151343,186.73810289573794,185.79511282695864,181.9220517149952,170.74595244010777,170.46938592759102,162.41949286002898,160.39680566638043,159.59973234823818,158.58090715302222,157.97018928791562,156.8293483065494,154.43736908240624,153.9396437456024,153.48516911258605],\"yaxis\":\"y8\",\"type\":\"bar\"},{\"alignmentgroup\":\"True\",\"hovertemplate\":\"index=%{x}\\u003cbr\\u003evalue=%{marker.color}\\u003cextra\\u003e\\u003c\\u002fextra\\u003e\",\"legendgroup\":\"\",\"marker\":{\"color\":[750.1458695626153,517.9521547136842,416.3985513949233,364.71411728370975,269.09702110739937,240.26792137483272,236.57262281084655,236.52971212194706,228.90513656861646,223.81463426804117,216.06000629862226,205.2438710247306,197.8785053986797,189.24722267329645,184.04046190357872,178.1961370170982,176.6597296626849,173.95657492718306,173.35648161037952,163.95513773385298,159.17591840947884,157.23718517009252,150.10764415980773,146.78867598369416,145.03843285750855,144.2417642321025,141.8207520878832,137.4655859097458,137.17890264202404,132.86507027744506],\"coloraxis\":\"coloraxis\",\"pattern\":{\"shape\":\"\"}},\"name\":\"\",\"offsetgroup\":\"\",\"orientation\":\"v\",\"showlegend\":false,\"textposition\":\"auto\",\"x\":[\"https\",\"\\u0440\\u043e\\u0441\\u0441\\u0438\\u0438\",\"\\u043b\\u0443\\u043a\\u0430\\u0448\\u0435\\u043d\\u043a\\u043e\",\"\\u0431\\u0435\\u043b\\u043e\\u0440\\u0443\\u0441\\u0441\\u0438\\u0438\",\"\\u0447\\u0435\\u043b\\u043e\\u0432\\u0435\\u043a\",\"\\u0437\\u0430\\u044f\\u0432\\u0438\\u043b\",\"\\u0441\\u0448\\u0430\",\"\\u0433\\u043e\\u0434\\u0430\",\"\\u0432\\u0440\\u0435\\u043c\\u044f\",\"\\u0441\\u0435\\u0433\\u043e\\u0434\\u043d\\u044f\",\"\\u043a\\u043e\\u0442\\u043e\\u0440\\u044b\\u0435\",\"\\u043c\\u0438\\u043d\\u0441\\u043a\\u0435\",\"\\u0442\\u0430\\u043a\\u0436\\u0435\",\"\\u043a\\u043e\\u0440\\u043e\\u043d\\u0430\\u0432\\u0438\\u0440\\u0443\\u0441\\u0430\",\"\\u043c\\u043e\\u0441\\u043a\\u0432\\u0435\",\"\\u043a\\u043e\\u0442\\u043e\\u0440\\u044b\\u0439\",\"\\u043b\\u0435\\u0442\",\"\\u043d\\u0430\\u0432\\u0430\\u043b\\u044c\\u043d\\u043e\\u0433\\u043e\",\"\\u0432\\u0438\\u0434\\u0435\\u043e\",\"\\u043f\\u0440\\u043e\\u0442\\u0438\\u0432\",\"\\u043f\\u043e\\u043a\\u0430\",\"\\u043e\\u0447\\u0435\\u043d\\u044c\",\"\\u0433\\u043e\\u0434\\u0443\",\"\\u043b\\u044e\\u0434\\u0438\",\"\\u0431\\u0443\\u0434\\u0443\\u0442\",\"\\u0433\\u043b\\u0430\\u0432\\u0430\",\"\\u0432\\u043b\\u0430\\u0441\\u0442\\u0438\",\"\\u043f\\u0443\\u0442\\u0438\\u043d\",\"\\u043b\\u044e\\u0434\\u0435\\u0439\",\"\\u0440\\u0443\\u0431\\u043b\\u0435\\u0439\"],\"xaxis\":\"x9\",\"y\":[750.1458695626153,517.9521547136842,416.3985513949233,364.71411728370975,269.09702110739937,240.26792137483272,236.57262281084655,236.52971212194706,228.90513656861646,223.81463426804117,216.06000629862226,205.2438710247306,197.8785053986797,189.24722267329645,184.04046190357872,178.1961370170982,176.6597296626849,173.95657492718306,173.35648161037952,163.95513773385298,159.17591840947884,157.23718517009252,150.10764415980773,146.78867598369416,145.03843285750855,144.2417642321025,141.8207520878832,137.4655859097458,137.17890264202404,132.86507027744506],\"yaxis\":\"y9\",\"type\":\"bar\"},{\"alignmentgroup\":\"True\",\"hovertemplate\":\"index=%{x}\\u003cbr\\u003evalue=%{marker.color}\\u003cextra\\u003e\\u003c\\u002fextra\\u003e\",\"legendgroup\":\"\",\"marker\":{\"color\":[715.1247768345764,532.5212477230781,308.14632932717797,285.4419224152607,256.31433870875765,243.66191456681278,229.24613544726682,220.09689914255392,216.2281056938212,215.95367695330356,210.17238957993018,209.5928495498297,202.45904084568406,199.53029086438292,199.311366419489,196.93964792422972,190.67734805567335,178.48023518045457,176.10485569753217,166.7126594058095,164.15138771741746,163.88750182358757,161.24225563215987,159.93796939954456,159.1381560396704,156.4212837186364,155.07211788483116,152.85191024829373,149.42957816963377,147.10528498333204],\"coloraxis\":\"coloraxis\",\"pattern\":{\"shape\":\"\"}},\"name\":\"\",\"offsetgroup\":\"\",\"orientation\":\"v\",\"showlegend\":false,\"textposition\":\"auto\",\"x\":[\"https\",\"\\u0440\\u043e\\u0441\\u0441\\u0438\\u0438\",\"\\u0441\\u0448\\u0430\",\"\\u0437\\u0430\\u044f\\u0432\\u0438\\u043b\",\"\\u0433\\u043e\\u0434\\u0430\",\"\\u0447\\u0435\\u043b\\u043e\\u0432\\u0435\\u043a\",\"\\u0430\\u0440\\u043c\\u0435\\u043d\\u0438\\u0438\",\"\\u043f\\u0443\\u0442\\u0438\\u043d\",\"\\u0430\\u0437\\u0435\\u0440\\u0431\\u0430\\u0439\\u0434\\u0436\\u0430\\u043d\\u0430\",\"\\u0432\\u0440\\u0435\\u043c\\u044f\",\"\\u043a\\u0430\\u0440\\u0430\\u0431\\u0430\\u0445\\u0435\",\"\\u043c\\u043e\\u0441\\u043a\\u0432\\u0435\",\"\\u043a\\u043e\\u0440\\u043e\\u043d\\u0430\\u0432\\u0438\\u0440\\u0443\\u0441\\u0430\",\"\\u0442\\u0430\\u043a\\u0436\\u0435\",\"\\u0441\\u0435\\u0433\\u043e\\u0434\\u043d\\u044f\",\"\\u043a\\u043e\\u0442\\u043e\\u0440\\u044b\\u0435\",\"\\u043a\\u043e\\u0440\\u043e\\u043d\\u0430\\u0432\\u0438\\u0440\\u0443\\u0441\\u043e\\u043c\",\"\\u043a\\u043e\\u0442\\u043e\\u0440\\u044b\\u0439\",\"\\u043b\\u0435\\u0442\",\"\\u043f\\u0440\\u0435\\u0437\\u0438\\u0434\\u0435\\u043d\\u0442\\u0430\",\"\\u0440\\u043e\\u0441\\u0441\\u0438\\u044f\",\"\\u0431\\u0443\\u0434\\u0443\\u0442\",\"\\u043e\\u0431\\u043b\\u0430\\u0441\\u0442\\u0438\",\"news\",\"\\u0433\\u043b\\u0430\\u0432\\u0430\",\"\\u0432\\u043b\\u0430\\u0441\\u0442\\u0438\",\"\\u043f\\u0440\\u0435\\u0437\\u0438\\u0434\\u0435\\u043d\\u0442\",\"\\u0433\\u043e\\u0434\\u0443\",\"\\u043f\\u0440\\u043e\\u0442\\u0438\\u0432\",\"\\u043e\\u0447\\u0435\\u043d\\u044c\"],\"xaxis\":\"x10\",\"y\":[715.1247768345764,532.5212477230781,308.14632932717797,285.4419224152607,256.31433870875765,243.66191456681278,229.24613544726682,220.09689914255392,216.2281056938212,215.95367695330356,210.17238957993018,209.5928495498297,202.45904084568406,199.53029086438292,199.311366419489,196.93964792422972,190.67734805567335,178.48023518045457,176.10485569753217,166.7126594058095,164.15138771741746,163.88750182358757,161.24225563215987,159.93796939954456,159.1381560396704,156.4212837186364,155.07211788483116,152.85191024829373,149.42957816963377,147.10528498333204],\"yaxis\":\"y10\",\"type\":\"bar\"},{\"alignmentgroup\":\"True\",\"hovertemplate\":\"index=%{x}\\u003cbr\\u003evalue=%{marker.color}\\u003cextra\\u003e\\u003c\\u002fextra\\u003e\",\"legendgroup\":\"\",\"marker\":{\"color\":[654.4321686388714,556.9021749464057,363.38475493373363,359.33395149108713,262.6278952520025,252.7148720881285,243.34162459177085,232.24706953673723,230.73922732195024,215.91154707604878,205.31676615928663,200.00347110513204,197.7550978822331,196.2263513613562,191.55441153426224,186.9246571835202,175.923965496635,172.00240562334398,171.65303452272423,156.28296187315868,151.59441991901852,151.13382621017573,149.42890261506082,148.46056338125416,146.54936067679694,140.87518369023468,140.4898897065098,140.1982116346682,139.58550657278872,138.54036962671802],\"coloraxis\":\"coloraxis\",\"pattern\":{\"shape\":\"\"}},\"name\":\"\",\"offsetgroup\":\"\",\"orientation\":\"v\",\"showlegend\":false,\"textposition\":\"auto\",\"x\":[\"https\",\"\\u0440\\u043e\\u0441\\u0441\\u0438\\u0438\",\"\\u0441\\u0448\\u0430\",\"\\u0433\\u043e\\u0434\\u0430\",\"\\u0447\\u0435\\u043b\\u043e\\u0432\\u0435\\u043a\",\"\\u043a\\u043e\\u0440\\u043e\\u043d\\u0430\\u0432\\u0438\\u0440\\u0443\\u0441\\u0430\",\"\\u043f\\u0443\\u0442\\u0438\\u043d\",\"\\u0433\\u043e\\u0434\\u0443\",\"\\u0432\\u0440\\u0435\\u043c\\u044f\",\"\\u043a\\u043e\\u0442\\u043e\\u0440\\u044b\\u0435\",\"\\u043b\\u0435\\u0442\",\"\\u043c\\u043e\\u0441\\u043a\\u0432\\u0435\",\"\\u0437\\u0430\\u044f\\u0432\\u0438\\u043b\",\"\\u0442\\u0430\\u043a\\u0436\\u0435\",\"\\u043a\\u043e\\u0442\\u043e\\u0440\\u044b\\u0439\",\"\\u0431\\u0443\\u0434\\u0443\\u0442\",\"\\u043d\\u0430\\u0432\\u0430\\u043b\\u044c\\u043d\\u043e\\u0433\\u043e\",\"\\u0441\\u0435\\u0433\\u043e\\u0434\\u043d\\u044f\",\"\\u0432\\u043b\\u0430\\u0441\\u0442\\u0438\",\"\\u0434\\u0435\\u043a\\u0430\\u0431\\u0440\\u044f\",\"\\u0433\\u043e\\u0434\",\"\\u044f\\u043d\\u0432\\u0430\\u0440\\u044f\",\"\\u043e\\u0447\\u0435\\u043d\\u044c\",\"\\u0440\\u0443\\u0431\\u043b\\u0435\\u0439\",\"\\u043f\\u0440\\u043e\\u0442\\u0438\\u0432\",\"\\u0432\\u0438\\u0434\\u0435\\u043e\",\"\\u043f\\u0440\\u0435\\u0437\\u0438\\u0434\\u0435\\u043d\\u0442\\u0430\",\"\\u0433\\u043b\\u0430\\u0432\\u0430\",\"\\u043a\\u043e\\u0440\\u043e\\u043d\\u0430\\u0432\\u0438\\u0440\\u0443\\u0441\\u043e\\u043c\",\"news\"],\"xaxis\":\"x11\",\"y\":[654.4321686388714,556.9021749464057,363.38475493373363,359.33395149108713,262.6278952520025,252.7148720881285,243.34162459177085,232.24706953673723,230.73922732195024,215.91154707604878,205.31676615928663,200.00347110513204,197.7550978822331,196.2263513613562,191.55441153426224,186.9246571835202,175.923965496635,172.00240562334398,171.65303452272423,156.28296187315868,151.59441991901852,151.13382621017573,149.42890261506082,148.46056338125416,146.54936067679694,140.87518369023468,140.4898897065098,140.1982116346682,139.58550657278872,138.54036962671802],\"yaxis\":\"y11\",\"type\":\"bar\"},{\"alignmentgroup\":\"True\",\"hovertemplate\":\"index=%{x}\\u003cbr\\u003evalue=%{marker.color}\\u003cextra\\u003e\\u003c\\u002fextra\\u003e\",\"legendgroup\":\"\",\"marker\":{\"color\":[604.5471702806942,573.4403148968076,306.69120841110976,302.6645665793874,296.51539191222486,235.84730930770215,228.15008178174378,225.40209074659094,212.23622194587645,205.69140543982863,201.33734469025723,201.03544210362327,194.78547950385996,193.41411224544797,191.2794589665284,188.86039169997758,161.8565773676766,157.56522089504182,152.01751014811214,149.8367168724068,149.68125731379877,149.5129757833124,148.64389951333257,145.23829612754298,144.27529682247453,144.0404987775818,143.97815477419672,141.78879117017092,141.3964773760782,133.37478195629524],\"coloraxis\":\"coloraxis\",\"pattern\":{\"shape\":\"\"}},\"name\":\"\",\"offsetgroup\":\"\",\"orientation\":\"v\",\"showlegend\":false,\"textposition\":\"auto\",\"x\":[\"\\u0440\\u043e\\u0441\\u0441\\u0438\\u0438\",\"https\",\"\\u0441\\u0448\\u0430\",\"\\u043d\\u0430\\u0432\\u0430\\u043b\\u044c\\u043d\\u043e\\u0433\\u043e\",\"\\u0433\\u043e\\u0434\\u0430\",\"\\u0447\\u0435\\u043b\\u043e\\u0432\\u0435\\u043a\",\"\\u043a\\u043e\\u0442\\u043e\\u0440\\u044b\\u0435\",\"\\u0432\\u0440\\u0435\\u043c\\u044f\",\"\\u0442\\u0430\\u043a\\u0436\\u0435\",\"\\u0433\\u043e\\u0434\\u0443\",\"\\u043c\\u043e\\u0441\\u043a\\u0432\\u0435\",\"\\u043a\\u043e\\u0442\\u043e\\u0440\\u044b\\u0439\",\"\\u0437\\u0430\\u044f\\u0432\\u0438\\u043b\",\"\\u043b\\u0435\\u0442\",\"\\u043f\\u0440\\u043e\\u0442\\u0438\\u0432\",\"\\u0441\\u0435\\u0433\\u043e\\u0434\\u043d\\u044f\",\"\\u043f\\u0443\\u0442\\u0438\\u043d\",\"\\u043d\\u0430\\u0432\\u0430\\u043b\\u044c\\u043d\\u044b\\u0439\",\"\\u043e\\u0447\\u0435\\u043d\\u044c\",\"\\u043f\\u043e\\u043a\\u0430\",\"\\u0431\\u0443\\u0434\\u0443\\u0442\",\"\\u0440\\u043e\\u0441\\u0441\\u0438\\u044f\",\"\\u043a\\u043e\\u0440\\u043e\\u043d\\u0430\\u0432\\u0438\\u0440\\u0443\\u0441\\u0430\",\"\\u0432\\u0438\\u0434\\u0435\\u043e\",\"\\u0440\\u0443\\u0431\\u043b\\u0435\\u0439\",\"\\u043c\\u0430\\u0440\\u0442\\u0430\",\"\\u0432\\u043b\\u0430\\u0441\\u0442\\u0438\",\"\\u043e\\u0431\\u043b\\u0430\\u0441\\u0442\\u0438\",\"\\u0441\\u0443\\u0434\",\"\\u043f\\u0440\\u043e\\u0441\\u0442\\u043e\"],\"xaxis\":\"x12\",\"y\":[604.5471702806942,573.4403148968076,306.69120841110976,302.6645665793874,296.51539191222486,235.84730930770215,228.15008178174378,225.40209074659094,212.23622194587645,205.69140543982863,201.33734469025723,201.03544210362327,194.78547950385996,193.41411224544797,191.2794589665284,188.86039169997758,161.8565773676766,157.56522089504182,152.01751014811214,149.8367168724068,149.68125731379877,149.5129757833124,148.64389951333257,145.23829612754298,144.27529682247453,144.0404987775818,143.97815477419672,141.78879117017092,141.3964773760782,133.37478195629524],\"yaxis\":\"y12\",\"type\":\"bar\"},{\"alignmentgroup\":\"True\",\"hovertemplate\":\"index=%{x}\\u003cbr\\u003evalue=%{marker.color}\\u003cextra\\u003e\\u003c\\u002fextra\\u003e\",\"legendgroup\":\"\",\"marker\":{\"color\":[658.773733105335,542.7747153023274,338.09524570209015,279.1896439515655,260.7601351651109,232.6809738388138,230.23612318292592,222.1718968758111,214.7866882828781,208.64635352992764,203.22214476301596,197.73147111291388,195.09508828067084,192.53739693933719,187.20560333944928,181.97371993827142,170.1450435620475,162.79170547166908,158.2405205158663,150.01208472644436,149.48516740360466,149.47423377923124,148.36824119045883,148.03790146087462,144.95393435430202,137.0743564532713,136.99864638750998,136.11995131897294,133.42429118237087,126.7887529858243],\"coloraxis\":\"coloraxis\",\"pattern\":{\"shape\":\"\"}},\"name\":\"\",\"offsetgroup\":\"\",\"orientation\":\"v\",\"showlegend\":false,\"textposition\":\"auto\",\"x\":[\"\\u0440\\u043e\\u0441\\u0441\\u0438\\u0438\",\"https\",\"\\u0441\\u0448\\u0430\",\"\\u0433\\u043e\\u0434\\u0430\",\"\\u0437\\u0430\\u044f\\u0432\\u0438\\u043b\",\"\\u0432\\u0440\\u0435\\u043c\\u044f\",\"\\u0442\\u0430\\u043a\\u0436\\u0435\",\"\\u0447\\u0435\\u043b\\u043e\\u0432\\u0435\\u043a\",\"\\u043a\\u043e\\u0442\\u043e\\u0440\\u044b\\u0435\",\"\\u043a\\u043e\\u0442\\u043e\\u0440\\u044b\\u0439\",\"\\u0441\\u0435\\u0433\\u043e\\u0434\\u043d\\u044f\",\"\\u043f\\u0443\\u0442\\u0438\\u043d\",\"\\u043c\\u0430\\u044f\",\"\\u043b\\u0435\\u0442\",\"\\u0433\\u043e\\u0434\\u0443\",\"\\u0440\\u043e\\u0441\\u0441\\u0438\\u044f\",\"\\u043c\\u043e\\u0441\\u043a\\u0432\\u0435\",\"\\u0433\\u043b\\u0430\\u0432\\u0430\",\"\\u0431\\u0443\\u0434\\u0443\\u0442\",\"\\u043e\\u0447\\u0435\\u043d\\u044c\",\"\\u043f\\u0440\\u043e\\u0442\\u0438\\u0432\",\"\\u0440\\u0443\\u0431\\u043b\\u0435\\u0439\",\"\\u043f\\u043e\\u043a\\u0430\",\"\\u0430\\u043f\\u0440\\u0435\\u043b\\u044f\",\"\\u043e\\u0431\\u043b\\u0430\\u0441\\u0442\\u0438\",\"\\u0432\\u0438\\u0434\\u0435\\u043e\",\"\\u0432\\u043b\\u0430\\u0441\\u0442\\u0438\",\"\\u0441\\u0442\\u0440\\u0430\\u043d\\u044b\",\"\\u043c\\u0438\\u0434\",\"\\u043d\\u0430\\u0432\\u0430\\u043b\\u044c\\u043d\\u043e\\u0433\\u043e\"],\"xaxis\":\"x13\",\"y\":[658.773733105335,542.7747153023274,338.09524570209015,279.1896439515655,260.7601351651109,232.6809738388138,230.23612318292592,222.1718968758111,214.7866882828781,208.64635352992764,203.22214476301596,197.73147111291388,195.09508828067084,192.53739693933719,187.20560333944928,181.97371993827142,170.1450435620475,162.79170547166908,158.2405205158663,150.01208472644436,149.48516740360466,149.47423377923124,148.36824119045883,148.03790146087462,144.95393435430202,137.0743564532713,136.99864638750998,136.11995131897294,133.42429118237087,126.7887529858243],\"yaxis\":\"y13\",\"type\":\"bar\"},{\"alignmentgroup\":\"True\",\"hovertemplate\":\"index=%{x}\\u003cbr\\u003evalue=%{marker.color}\\u003cextra\\u003e\\u003c\\u002fextra\\u003e\",\"legendgroup\":\"\",\"marker\":{\"color\":[666.8019340841508,518.967483293977,323.9211058135389,323.62659157938407,289.7687029998316,246.077270750137,245.1107878952115,235.61299952268197,228.4281791306651,220.7423961908908,217.84177886412235,208.18188463660684,198.24359863707252,194.44079214834497,191.2684048091506,181.76919812428937,170.7153343944847,168.32328309705488,167.05035904522265,164.01619939793846,159.6217970687071,158.90812959966595,158.53221974378158,153.04840069800366,149.60479539239353,144.7497563067173,144.48309422200344,142.07494832820265,138.07709325506755,132.2593992175664],\"coloraxis\":\"coloraxis\",\"pattern\":{\"shape\":\"\"}},\"name\":\"\",\"offsetgroup\":\"\",\"orientation\":\"v\",\"showlegend\":false,\"textposition\":\"auto\",\"x\":[\"\\u0440\\u043e\\u0441\\u0441\\u0438\\u0438\",\"https\",\"\\u0441\\u0448\\u0430\",\"\\u043f\\u0443\\u0442\\u0438\\u043d\",\"\\u0433\\u043e\\u0434\\u0430\",\"\\u043c\\u043e\\u0441\\u043a\\u0432\\u0435\",\"\\u0437\\u0430\\u044f\\u0432\\u0438\\u043b\",\"\\u0447\\u0435\\u043b\\u043e\\u0432\\u0435\\u043a\",\"\\u043a\\u043e\\u0442\\u043e\\u0440\\u044b\\u0435\",\"\\u0442\\u0430\\u043a\\u0436\\u0435\",\"\\u0432\\u0440\\u0435\\u043c\\u044f\",\"\\u043a\\u043e\\u0442\\u043e\\u0440\\u044b\\u0439\",\"\\u043a\\u043e\\u0440\\u043e\\u043d\\u0430\\u0432\\u0438\\u0440\\u0443\\u0441\\u0430\",\"\\u043b\\u0435\\u0442\",\"\\u0440\\u043e\\u0441\\u0441\\u0438\\u044f\",\"\\u0441\\u0435\\u0433\\u043e\\u0434\\u043d\\u044f\",\"\\u0432\\u043b\\u0430\\u0441\\u0442\\u0438\",\"\\u0438\\u044e\\u043d\\u044f\",\"\\u0431\\u0443\\u0434\\u0443\\u0442\",\"\\u043e\\u0431\\u043b\\u0430\\u0441\\u0442\\u0438\",\"\\u0432\\u0430\\u043a\\u0446\\u0438\\u043d\\u0430\\u0446\\u0438\\u0438\",\"\\u0433\\u043e\\u0434\\u0443\",\"\\u043f\\u0440\\u043e\\u0442\\u0438\\u0432\",\"\\u0438\\u044e\\u043b\\u044f\",\"\\u0440\\u0443\\u0431\\u043b\\u0435\\u0439\",\"\\u0433\\u043b\\u0430\\u0432\\u0430\",\"\\u043f\\u043e\\u043a\\u0430\",\"\\u0441\\u043e\\u043e\\u0431\\u0449\\u0438\\u043b\",\"\\u043e\\u0447\\u0435\\u043d\\u044c\",\"covid\"],\"xaxis\":\"x14\",\"y\":[666.8019340841508,518.967483293977,323.9211058135389,323.62659157938407,289.7687029998316,246.077270750137,245.1107878952115,235.61299952268197,228.4281791306651,220.7423961908908,217.84177886412235,208.18188463660684,198.24359863707252,194.44079214834497,191.2684048091506,181.76919812428937,170.7153343944847,168.32328309705488,167.05035904522265,164.01619939793846,159.6217970687071,158.90812959966595,158.53221974378158,153.04840069800366,149.60479539239353,144.7497563067173,144.48309422200344,142.07494832820265,138.07709325506755,132.2593992175664],\"yaxis\":\"y14\",\"type\":\"bar\"},{\"alignmentgroup\":\"True\",\"hovertemplate\":\"index=%{x}\\u003cbr\\u003evalue=%{marker.color}\\u003cextra\\u003e\\u003c\\u002fextra\\u003e\",\"legendgroup\":\"\",\"marker\":{\"color\":[665.801280064309,508.93315219132006,307.4567353055928,284.0236680849163,270.53785417957715,234.70633519606784,227.13307830433178,221.80914285811932,215.15944471458766,214.78649920729475,214.4954318531146,200.3466858961131,183.4419653359776,183.09051589852294,182.4335553262743,167.1613617650581,166.83393708375073,166.74990787621107,163.21033275953948,152.37689914940708,151.7391488648142,150.0139466833293,148.5232099865592,145.31088191207238,143.34873242350162,143.07978048780205,137.5175387906455,137.10090734073572,136.25966649169771,135.063945094915],\"coloraxis\":\"coloraxis\",\"pattern\":{\"shape\":\"\"}},\"name\":\"\",\"offsetgroup\":\"\",\"orientation\":\"v\",\"showlegend\":false,\"textposition\":\"auto\",\"x\":[\"\\u0440\\u043e\\u0441\\u0441\\u0438\\u0438\",\"https\",\"\\u0441\\u0448\\u0430\",\"\\u0433\\u043e\\u0434\\u0430\",\"\\u0447\\u0435\\u043b\\u043e\\u0432\\u0435\\u043a\",\"\\u0437\\u0430\\u044f\\u0432\\u0438\\u043b\",\"\\u043a\\u043e\\u0442\\u043e\\u0440\\u044b\\u0435\",\"\\u0442\\u0430\\u043a\\u0436\\u0435\",\"\\u0432\\u0440\\u0435\\u043c\\u044f\",\"\\u043f\\u0443\\u0442\\u0438\\u043d\",\"\\u043b\\u0435\\u0442\",\"\\u043a\\u043e\\u0442\\u043e\\u0440\\u044b\\u0439\",\"\\u043c\\u043e\\u0441\\u043a\\u0432\\u0435\",\"\\u0441\\u0435\\u0433\\u043e\\u0434\\u043d\\u044f\",\"\\u0440\\u043e\\u0441\\u0441\\u0438\\u044f\",\"\\u043e\\u0431\\u043b\\u0430\\u0441\\u0442\\u0438\",\"\\u0433\\u043e\\u0434\\u0443\",\"\\u0432\\u043b\\u0430\\u0441\\u0442\\u0438\",\"\\u0433\\u043b\\u0430\\u0432\\u0430\",\"\\u0430\\u0444\\u0433\\u0430\\u043d\\u0438\\u0441\\u0442\\u0430\\u043d\\u0430\",\"\\u0440\\u0443\\u0431\\u043b\\u0435\\u0439\",\"\\u0441\\u0442\\u0440\\u0430\\u043d\\u044b\",\"\\u0431\\u0443\\u0434\\u0443\\u0442\",\"\\u0441\\u0435\\u043d\\u0442\\u044f\\u0431\\u0440\\u044f\",\"\\u0441\\u043e\\u043e\\u0431\\u0449\\u0438\\u043b\",\"\\u0430\\u0432\\u0433\\u0443\\u0441\\u0442\\u0430\",\"\\u0432\\u0438\\u0434\\u0435\\u043e\",\"\\u043e\\u0447\\u0435\\u043d\\u044c\",\"\\u043f\\u043e\\u043a\\u0430\",\"\\u043b\\u044e\\u0434\\u0435\\u0439\"],\"xaxis\":\"x15\",\"y\":[665.801280064309,508.93315219132006,307.4567353055928,284.0236680849163,270.53785417957715,234.70633519606784,227.13307830433178,221.80914285811932,215.15944471458766,214.78649920729475,214.4954318531146,200.3466858961131,183.4419653359776,183.09051589852294,182.4335553262743,167.1613617650581,166.83393708375073,166.74990787621107,163.21033275953948,152.37689914940708,151.7391488648142,150.0139466833293,148.5232099865592,145.31088191207238,143.34873242350162,143.07978048780205,137.5175387906455,137.10090734073572,136.25966649169771,135.063945094915],\"yaxis\":\"y15\",\"type\":\"bar\"},{\"alignmentgroup\":\"True\",\"hovertemplate\":\"index=%{x}\\u003cbr\\u003evalue=%{marker.color}\\u003cextra\\u003e\\u003c\\u002fextra\\u003e\",\"legendgroup\":\"\",\"marker\":{\"color\":[632.1977362907878,483.96323679686645,320.3214862674725,274.1982028077395,249.9815089861619,243.41544013438124,239.69419680663952,231.67447170888758,231.05405287241078,222.29199990843142,213.6639872061592,213.26156556195863,207.20571085682425,191.57582008867772,186.82599794314217,183.71125875522193,181.74083159163314,177.1810231223861,172.4104349150743,161.94635958809948,161.13958371448453,156.32361363230146,150.64556012847038,148.94064883975423,145.16825554083232,143.9177417502508,143.71503339239734,140.43186193026358,135.41043908703787,127.32367815704987],\"coloraxis\":\"coloraxis\",\"pattern\":{\"shape\":\"\"}},\"name\":\"\",\"offsetgroup\":\"\",\"orientation\":\"v\",\"showlegend\":false,\"textposition\":\"auto\",\"x\":[\"\\u0440\\u043e\\u0441\\u0441\\u0438\\u0438\",\"https\",\"\\u0433\\u043e\\u0434\\u0430\",\"\\u0441\\u0448\\u0430\",\"\\u0442\\u0430\\u043a\\u0436\\u0435\",\"\\u0437\\u0430\\u044f\\u0432\\u0438\\u043b\",\"\\u0447\\u0435\\u043b\\u043e\\u0432\\u0435\\u043a\",\"\\u0432\\u0440\\u0435\\u043c\\u044f\",\"\\u043a\\u043e\\u0442\\u043e\\u0440\\u044b\\u0435\",\"\\u043f\\u0443\\u0442\\u0438\\u043d\",\"\\u043a\\u043e\\u0442\\u043e\\u0440\\u044b\\u0439\",\"\\u043b\\u0435\\u0442\",\"\\u043c\\u043e\\u0441\\u043a\\u0432\\u0435\",\"\\u043e\\u0431\\u043b\\u0430\\u0441\\u0442\\u0438\",\"\\u043e\\u043a\\u0442\\u044f\\u0431\\u0440\\u044f\",\"\\u0441\\u0435\\u0433\\u043e\\u0434\\u043d\\u044f\",\"\\u0431\\u0443\\u0434\\u0443\\u0442\",\"\\u0432\\u043b\\u0430\\u0441\\u0442\\u0438\",\"\\u043d\\u043e\\u044f\\u0431\\u0440\\u044f\",\"\\u043f\\u0440\\u043e\\u0442\\u0438\\u0432\",\"\\u0433\\u043e\\u0434\\u0443\",\"\\u0440\\u0443\\u0431\\u043b\\u0435\\u0439\",\"\\u0440\\u043e\\u0441\\u0441\\u0438\\u044f\",\"\\u043f\\u043e\\u043a\\u0430\",\"\\u043a\\u043e\\u0440\\u043e\\u043d\\u0430\\u0432\\u0438\\u0440\\u0443\\u0441\\u0430\",\"\\u0441\\u043e\\u043e\\u0431\\u0449\\u0438\\u043b\",\"\\u043e\\u0447\\u0435\\u043d\\u044c\",\"\\u0433\\u043b\\u0430\\u0432\\u0430\",\"\\u0432\\u0438\\u0434\\u0435\\u043e\",\"\\u043b\\u044e\\u0434\\u0435\\u0439\"],\"xaxis\":\"x16\",\"y\":[632.1977362907878,483.96323679686645,320.3214862674725,274.1982028077395,249.9815089861619,243.41544013438124,239.69419680663952,231.67447170888758,231.05405287241078,222.29199990843142,213.6639872061592,213.26156556195863,207.20571085682425,191.57582008867772,186.82599794314217,183.71125875522193,181.74083159163314,177.1810231223861,172.4104349150743,161.94635958809948,161.13958371448453,156.32361363230146,150.64556012847038,148.94064883975423,145.16825554083232,143.9177417502508,143.71503339239734,140.43186193026358,135.41043908703787,127.32367815704987],\"yaxis\":\"y16\",\"type\":\"bar\"},{\"alignmentgroup\":\"True\",\"hovertemplate\":\"index=%{x}\\u003cbr\\u003evalue=%{marker.color}\\u003cextra\\u003e\\u003c\\u002fextra\\u003e\",\"legendgroup\":\"\",\"marker\":{\"color\":[664.464024578379,469.5855310732883,378.29987277087383,326.08860278366774,290.2396783193459,281.62032559287394,244.12406089350208,238.78021940548874,237.28588943708672,221.92576558883033,219.06074553938947,218.87339294882548,200.66908944879404,187.93025412552439,177.80928436374492,176.14126037908866,163.39457432045154,162.56654500035896,162.31788723558427,160.46164502191868,159.7583008900089,158.71787675999502,154.88105959441916,148.20390166102183,148.02163945608444,146.92327308067328,146.1277470318408,140.56320063426756,140.4032967892721,139.8214054692008],\"coloraxis\":\"coloraxis\",\"pattern\":{\"shape\":\"\"}},\"name\":\"\",\"offsetgroup\":\"\",\"orientation\":\"v\",\"showlegend\":false,\"textposition\":\"auto\",\"x\":[\"\\u0440\\u043e\\u0441\\u0441\\u0438\\u0438\",\"https\",\"\\u0433\\u043e\\u0434\\u0430\",\"\\u0441\\u0448\\u0430\",\"\\u043f\\u0443\\u0442\\u0438\\u043d\",\"\\u0437\\u0430\\u044f\\u0432\\u0438\\u043b\",\"\\u0442\\u0430\\u043a\\u0436\\u0435\",\"\\u0447\\u0435\\u043b\\u043e\\u0432\\u0435\\u043a\",\"\\u0433\\u043e\\u0434\\u0443\",\"\\u043a\\u043e\\u0442\\u043e\\u0440\\u044b\\u0435\",\"\\u0432\\u0440\\u0435\\u043c\\u044f\",\"\\u043b\\u0435\\u0442\",\"\\u043a\\u043e\\u0442\\u043e\\u0440\\u044b\\u0439\",\"\\u0440\\u043e\\u0441\\u0441\\u0438\\u044f\",\"\\u043f\\u0440\\u043e\\u0442\\u0438\\u0432\",\"\\u0441\\u0435\\u0433\\u043e\\u0434\\u043d\\u044f\",\"\\u0434\\u0435\\u043a\\u0430\\u0431\\u0440\\u044f\",\"\\u0440\\u0443\\u0431\\u043b\\u0435\\u0439\",\"\\u043c\\u043e\\u0441\\u043a\\u0432\\u0435\",\"\\u0431\\u0443\\u0434\\u0443\\u0442\",\"\\u0432\\u043b\\u0430\\u0441\\u0442\\u0438\",\"\\u043e\\u0447\\u0435\\u043d\\u044c\",\"\\u043a\\u0430\\u0437\\u0430\\u0445\\u0441\\u0442\\u0430\\u043d\\u0435\",\"\\u0433\\u043b\\u0430\\u0432\\u0430\",\"\\u0441\\u043e\\u043e\\u0431\\u0449\\u0438\\u043b\",\"\\u043e\\u0431\\u043b\\u0430\\u0441\\u0442\\u0438\",\"\\u043f\\u043e\\u043a\\u0430\",\"\\u0433\\u043e\\u0434\",\"\\u043a\\u043e\\u0440\\u043e\\u043d\\u0430\\u0432\\u0438\\u0440\\u0443\\u0441\\u0430\",\"\\u0441\\u0442\\u0440\\u0430\\u043d\\u044b\"],\"xaxis\":\"x17\",\"y\":[664.464024578379,469.5855310732883,378.29987277087383,326.08860278366774,290.2396783193459,281.62032559287394,244.12406089350208,238.78021940548874,237.28588943708672,221.92576558883033,219.06074553938947,218.87339294882548,200.66908944879404,187.93025412552439,177.80928436374492,176.14126037908866,163.39457432045154,162.56654500035896,162.31788723558427,160.46164502191868,159.7583008900089,158.71787675999502,154.88105959441916,148.20390166102183,148.02163945608444,146.92327308067328,146.1277470318408,140.56320063426756,140.4032967892721,139.8214054692008],\"yaxis\":\"y17\",\"type\":\"bar\"},{\"alignmentgroup\":\"True\",\"hovertemplate\":\"index=%{x}\\u003cbr\\u003evalue=%{marker.color}\\u003cextra\\u003e\\u003c\\u002fextra\\u003e\",\"legendgroup\":\"\",\"marker\":{\"color\":[823.8711013396958,480.4735546438759,440.37521041561007,380.7688116892973,377.6840792901044,367.8396026973191,304.8928489998853,290.4757432514641,290.2049573778001,271.36581694552336,240.83464252896812,238.86991714328423,220.8743628419529,220.1985181095346,218.3110681563351,214.51753423637155,213.5728999408134,199.43001742975255,190.65099525080117,188.6272325470076,185.27780170457987,182.1162935496939,178.76294439206285,171.4273553216132,168.72995568501634,159.49504455108644,159.3688561286115,151.15082484966732,150.38735536397274,149.04752285591846],\"coloraxis\":\"coloraxis\",\"pattern\":{\"shape\":\"\"}},\"name\":\"\",\"offsetgroup\":\"\",\"orientation\":\"v\",\"showlegend\":false,\"textposition\":\"auto\",\"x\":[\"\\u0440\\u043e\\u0441\\u0441\\u0438\\u0438\",\"\\u0441\\u0448\\u0430\",\"\\u0443\\u043a\\u0440\\u0430\\u0438\\u043d\\u044b\",\"https\",\"\\u0434\\u043d\\u0440\",\"\\u0437\\u0430\\u044f\\u0432\\u0438\\u043b\",\"\\u043f\\u0443\\u0442\\u0438\\u043d\",\"\\u043b\\u043d\\u0440\",\"\\u0440\\u043e\\u0441\\u0441\\u0438\\u044f\",\"\\u0433\\u043e\\u0434\\u0430\",\"\\u043d\\u0430\\u0442\\u043e\",\"\\u0442\\u0430\\u043a\\u0436\\u0435\",\"\\u043a\\u043e\\u0442\\u043e\\u0440\\u044b\\u0435\",\"\\u0443\\u043a\\u0440\\u0430\\u0438\\u043d\\u0443\",\"\\u0432\\u0440\\u0435\\u043c\\u044f\",\"\\u0433\\u043b\\u0430\\u0432\\u0430\",\"\\u043f\\u0440\\u043e\\u0442\\u0438\\u0432\",\"\\u0441\\u0435\\u0433\\u043e\\u0434\\u043d\\u044f\",\"\\u0443\\u043a\\u0440\\u0430\\u0438\\u043d\\u0435\",\"\\u0444\\u0435\\u0432\\u0440\\u0430\\u043b\\u044f\",\"\\u0431\\u0435\\u0437\\u043e\\u043f\\u0430\\u0441\\u043d\\u043e\\u0441\\u0442\\u0438\",\"\\u0431\\u0443\\u0434\\u0443\\u0442\",\"\\u043c\\u0438\\u0434\",\"\\u043b\\u0435\\u0442\",\"\\u043e\\u0431\\u043b\\u0430\\u0441\\u0442\\u0438\",\"\\u0433\\u043e\\u0434\\u0443\",\"\\u043a\\u043e\\u0442\\u043e\\u0440\\u044b\\u0439\",\"\\u043f\\u0440\\u0435\\u0437\\u0438\\u0434\\u0435\\u043d\\u0442\",\"\\u0441\\u0442\\u0440\\u0430\\u043d\\u044b\",\"\\u0447\\u0435\\u043b\\u043e\\u0432\\u0435\\u043a\"],\"xaxis\":\"x18\",\"y\":[823.8711013396958,480.4735546438759,440.37521041561007,380.7688116892973,377.6840792901044,367.8396026973191,304.8928489998853,290.4757432514641,290.2049573778001,271.36581694552336,240.83464252896812,238.86991714328423,220.8743628419529,220.1985181095346,218.3110681563351,214.51753423637155,213.5728999408134,199.43001742975255,190.65099525080117,188.6272325470076,185.27780170457987,182.1162935496939,178.76294439206285,171.4273553216132,168.72995568501634,159.49504455108644,159.3688561286115,151.15082484966732,150.38735536397274,149.04752285591846],\"yaxis\":\"y18\",\"type\":\"bar\"},{\"alignmentgroup\":\"True\",\"hovertemplate\":\"index=%{x}\\u003cbr\\u003evalue=%{marker.color}\\u003cextra\\u003e\\u003c\\u002fextra\\u003e\",\"legendgroup\":\"\",\"marker\":{\"color\":[1097.1014923282476,637.2949530553018,534.2539937857863,337.0046539939298,327.25620992512813,322.12382656750214,288.56149303867915,286.150870995179,277.9331662208999,277.4151847457481,246.3819458280188,244.56283002736453,227.3443412850306,216.97733313864248,202.4197395426264,189.37560370205637,188.46701659472456,186.02506109650162,185.19255044205678,180.46934036433822,175.7388849691356,175.12709538637375,173.65331914967607,172.5396817076458,165.70805338033722,162.55360102587977,160.69162528919216,159.70806728809026,157.454524512364,155.46537386503869],\"coloraxis\":\"coloraxis\",\"pattern\":{\"shape\":\"\"}},\"name\":\"\",\"offsetgroup\":\"\",\"orientation\":\"v\",\"showlegend\":false,\"textposition\":\"auto\",\"x\":[\"\\u0440\\u043e\\u0441\\u0441\\u0438\\u0438\",\"\\u0443\\u043a\\u0440\\u0430\\u0438\\u043d\\u044b\",\"\\u0443\\u043a\\u0440\\u0430\\u0438\\u043d\\u0435\",\"\\u0437\\u0430\\u044f\\u0432\\u0438\\u043b\",\"\\u0432\\u0441\\u0443\",\"\\u0441\\u0448\\u0430\",\"https\",\"\\u0440\\u043e\\u0441\\u0441\\u0438\\u0439\\u0441\\u043a\\u0438\\u0445\",\"\\u0434\\u043d\\u0440\",\"\\u043f\\u0440\\u043e\\u0442\\u0438\\u0432\",\"\\u0440\\u043e\\u0441\\u0441\\u0438\\u044f\",\"\\u043c\\u0438\\u043d\\u043e\\u0431\\u043e\\u0440\\u043e\\u043d\\u044b\",\"\\u0442\\u0430\\u043a\\u0436\\u0435\",\"\\u043a\\u043e\\u0442\\u043e\\u0440\\u044b\\u0435\",\"\\u043f\\u0443\\u0442\\u0438\\u043d\",\"\\u0432\\u0438\\u0434\\u0435\\u043e\",\"\\u043c\\u0430\\u0440\\u0442\\u0430\",\"\\u0443\\u043a\\u0440\\u0430\\u0438\\u043d\\u0430\",\"\\u0431\\u0443\\u0434\\u0443\\u0442\",\"\\u0441\\u0430\\u043d\\u043a\\u0446\\u0438\\u0438\",\"\\u0441\\u0435\\u0433\\u043e\\u0434\\u043d\\u044f\",\"\\u0443\\u043a\\u0440\\u0430\\u0438\\u043d\\u0441\\u043a\\u0438\\u0445\",\"\\u0432\\u0440\\u0435\\u043c\\u044f\",\"\\u043e\\u043f\\u0435\\u0440\\u0430\\u0446\\u0438\\u0438\",\"\\u0433\\u043b\\u0430\\u0432\\u0430\",\"\\u043e\\u0431\\u043b\\u0430\\u0441\\u0442\\u0438\",\"\\u0440\\u043e\\u0441\\u0441\\u0438\\u0439\\u0441\\u043a\\u0438\\u0435\",\"\\u0432\\u043e\\u0435\\u043d\\u043d\\u043e\\u0439\",\"\\u0437\\u0435\\u043b\\u0435\\u043d\\u0441\\u043a\\u0438\\u0439\",\"\\u0441\\u0442\\u0440\\u0430\\u043d\\u044b\"],\"xaxis\":\"x19\",\"y\":[1097.1014923282476,637.2949530553018,534.2539937857863,337.0046539939298,327.25620992512813,322.12382656750214,288.56149303867915,286.150870995179,277.9331662208999,277.4151847457481,246.3819458280188,244.56283002736453,227.3443412850306,216.97733313864248,202.4197395426264,189.37560370205637,188.46701659472456,186.02506109650162,185.19255044205678,180.46934036433822,175.7388849691356,175.12709538637375,173.65331914967607,172.5396817076458,165.70805338033722,162.55360102587977,160.69162528919216,159.70806728809026,157.454524512364,155.46537386503869],\"yaxis\":\"y19\",\"type\":\"bar\"},{\"alignmentgroup\":\"True\",\"hovertemplate\":\"index=%{x}\\u003cbr\\u003evalue=%{marker.color}\\u003cextra\\u003e\\u003c\\u002fextra\\u003e\",\"legendgroup\":\"\",\"marker\":{\"color\":[936.1090722747491,498.26068105498115,460.57512165163007,350.19633496008316,313.1355196859537,305.1326545178677,297.9917234862163,264.8358954432193,264.302317647249,258.8430391732664,242.69145873464694,221.15697583388408,220.6754802366493,218.5273263638289,218.48661492209442,212.34638528758828,206.85072746034777,198.1465688135822,192.70281383511954,182.92861806948537,181.81597690988656,176.1801091921697,170.07973424833628,165.9246006539356,163.19960373490574,163.01787005389323,161.66487298242103,153.6727832557127,151.7953551789551,149.36503635955503],\"coloraxis\":\"coloraxis\",\"pattern\":{\"shape\":\"\"}},\"name\":\"\",\"offsetgroup\":\"\",\"orientation\":\"v\",\"showlegend\":false,\"textposition\":\"auto\",\"x\":[\"\\u0440\\u043e\\u0441\\u0441\\u0438\\u0438\",\"\\u0443\\u043a\\u0440\\u0430\\u0438\\u043d\\u044b\",\"\\u0443\\u043a\\u0440\\u0430\\u0438\\u043d\\u0435\",\"\\u0441\\u0448\\u0430\",\"\\u0432\\u0441\\u0443\",\"\\u0437\\u0430\\u044f\\u0432\\u0438\\u043b\",\"https\",\"\\u0440\\u043e\\u0441\\u0441\\u0438\\u044f\",\"\\u043a\\u043e\\u0442\\u043e\\u0440\\u044b\\u0435\",\"\\u0442\\u0430\\u043a\\u0436\\u0435\",\"\\u0440\\u043e\\u0441\\u0441\\u0438\\u0439\\u0441\\u043a\\u0438\\u0445\",\"\\u043f\\u0440\\u043e\\u0442\\u0438\\u0432\",\"\\u0432\\u0438\\u0434\\u0435\\u043e\",\"\\u043c\\u0438\\u043d\\u043e\\u0431\\u043e\\u0440\\u043e\\u043d\\u044b\",\"\\u0434\\u043d\\u0440\",\"\\u043c\\u0430\\u0440\\u0442\\u0430\",\"\\u0443\\u043a\\u0440\\u0430\\u0438\\u043d\\u0441\\u043a\\u0438\\u0445\",\"\\u0432\\u0440\\u0435\\u043c\\u044f\",\"\\u043e\\u0431\\u043b\\u0430\\u0441\\u0442\\u0438\",\"\\u0441\\u0442\\u0440\\u0430\\u043d\\u044b\",\"\\u0441\\u0435\\u0433\\u043e\\u0434\\u043d\\u044f\",\"\\u0433\\u043e\\u0434\\u0430\",\"\\u0433\\u043b\\u0430\\u0432\\u0430\",\"\\u0443\\u043a\\u0440\\u0430\\u0438\\u043d\\u0430\",\"\\u043f\\u0443\\u0442\\u0438\\u043d\",\"\\u0431\\u0443\\u0434\\u0443\\u0442\",\"\\u043a\\u043e\\u0442\\u043e\\u0440\\u044b\\u0439\",\"\\u0440\\u043e\\u0441\\u0441\\u0438\\u0439\\u0441\\u043a\\u0438\\u0435\",\"\\u0443\\u043a\\u0440\\u0430\\u0438\\u043d\\u0441\\u043a\\u0438\\u0435\",\"\\u043c\\u0430\\u0440\\u0438\\u0443\\u043f\\u043e\\u043b\\u044f\"],\"xaxis\":\"x20\",\"y\":[936.1090722747491,498.26068105498115,460.57512165163007,350.19633496008316,313.1355196859537,305.1326545178677,297.9917234862163,264.8358954432193,264.302317647249,258.8430391732664,242.69145873464694,221.15697583388408,220.6754802366493,218.5273263638289,218.48661492209442,212.34638528758828,206.85072746034777,198.1465688135822,192.70281383511954,182.92861806948537,181.81597690988656,176.1801091921697,170.07973424833628,165.9246006539356,163.19960373490574,163.01787005389323,161.66487298242103,153.6727832557127,151.7953551789551,149.36503635955503],\"yaxis\":\"y20\",\"type\":\"bar\"},{\"alignmentgroup\":\"True\",\"hovertemplate\":\"index=%{x}\\u003cbr\\u003evalue=%{marker.color}\\u003cextra\\u003e\\u003c\\u002fextra\\u003e\",\"legendgroup\":\"\",\"marker\":{\"color\":[791.8465917224983,411.2990591325419,395.1651663038292,328.91674536202265,313.69431393516237,311.8187565423414,295.70225235309334,279.13224482515216,274.47607939872785,251.95871184459804,231.49717278030454,225.23357425897743,211.31894358128542,203.92510428933974,203.30785256541154,202.50217116788582,196.33749881145908,191.0549776888149,189.22682884580917,182.80013571887298,179.27558051913962,178.65606894968272,175.99376032508684,172.64705838951386,168.83238051002357,165.1802929788426,161.3920614935241,160.23423610241989,159.53628152161403,150.61189053300234],\"coloraxis\":\"coloraxis\",\"pattern\":{\"shape\":\"\"}},\"name\":\"\",\"offsetgroup\":\"\",\"orientation\":\"v\",\"showlegend\":false,\"textposition\":\"auto\",\"x\":[\"\\u0440\\u043e\\u0441\\u0441\\u0438\\u0438\",\"\\u0443\\u043a\\u0440\\u0430\\u0438\\u043d\\u044b\",\"\\u0443\\u043a\\u0440\\u0430\\u0438\\u043d\\u0435\",\"\\u0432\\u0441\\u0443\",\"https\",\"\\u043e\\u0431\\u043b\\u0430\\u0441\\u0442\\u0438\",\"\\u0441\\u0448\\u0430\",\"\\u0437\\u0430\\u044f\\u0432\\u0438\\u043b\",\"\\u0442\\u0430\\u043a\\u0436\\u0435\",\"\\u043a\\u043e\\u0442\\u043e\\u0440\\u044b\\u0435\",\"\\u0440\\u043e\\u0441\\u0441\\u0438\\u044f\",\"\\u0434\\u043d\\u0440\",\"\\u0432\\u0440\\u0435\\u043c\\u044f\",\"\\u043c\\u0438\\u043d\\u043e\\u0431\\u043e\\u0440\\u043e\\u043d\\u044b\",\"\\u0433\\u043e\\u0434\\u0430\",\"\\u0443\\u043a\\u0440\\u0430\\u0438\\u043d\\u0441\\u043a\\u0438\\u0445\",\"\\u0432\\u0438\\u0434\\u0435\\u043e\",\"\\u043f\\u0440\\u043e\\u0442\\u0438\\u0432\",\"\\u0441\\u0435\\u0433\\u043e\\u0434\\u043d\\u044f\",\"\\u043f\\u043e\\u0434\\u043f\\u0438\\u0441\\u0430\\u0442\\u044c\\u0441\\u044f\",\"\\u043f\\u0443\\u0442\\u0438\\u043d\",\"\\u0430\\u043f\\u0440\\u0435\\u043b\\u044f\",\"\\u0440\\u043e\\u0441\\u0441\\u0438\\u0439\\u0441\\u043a\\u0438\\u0445\",\"\\u0447\\u0435\\u043b\\u043e\\u0432\\u0435\\u043a\",\"\\u0441\\u043e\\u043e\\u0431\\u0449\\u0438\\u043b\",\"\\u043a\\u043e\\u0442\\u043e\\u0440\\u044b\\u0439\",\"\\u0441\\u0442\\u0440\\u0430\\u043d\\u044b\",\"\\u0431\\u0443\\u0434\\u0443\\u0442\",\"\\u0442\\u0435\\u0440\\u0440\\u0438\\u0442\\u043e\\u0440\\u0438\\u0438\",\"\\u043c\\u0430\\u0440\\u0438\\u0443\\u043f\\u043e\\u043b\\u0435\"],\"xaxis\":\"x21\",\"y\":[791.8465917224983,411.2990591325419,395.1651663038292,328.91674536202265,313.69431393516237,311.8187565423414,295.70225235309334,279.13224482515216,274.47607939872785,251.95871184459804,231.49717278030454,225.23357425897743,211.31894358128542,203.92510428933974,203.30785256541154,202.50217116788582,196.33749881145908,191.0549776888149,189.22682884580917,182.80013571887298,179.27558051913962,178.65606894968272,175.99376032508684,172.64705838951386,168.83238051002357,165.1802929788426,161.3920614935241,160.23423610241989,159.53628152161403,150.61189053300234],\"yaxis\":\"y21\",\"type\":\"bar\"},{\"alignmentgroup\":\"True\",\"hovertemplate\":\"index=%{x}\\u003cbr\\u003evalue=%{marker.color}\\u003cextra\\u003e\\u003c\\u002fextra\\u003e\",\"legendgroup\":\"\",\"marker\":{\"color\":[804.740952324924,382.0807113095291,380.96862211196884,341.2305008113538,327.7979884186664,319.17528585445774,312.50088161909616,308.65620902594947,252.47539435286504,251.5037384448224,243.19049926696997,237.51118925720849,231.5185145411365,223.79740305390172,210.14484301443784,199.91134789549395,193.20931689803115,192.22290665634446,186.1687326000087,185.25904625174414,183.862793698053,179.1423897000926,177.94117215548118,175.0675355968961,173.05406237876608,166.2422921526349,161.7213619208575,157.19004478825173,151.15332059265788,151.00624036490396],\"coloraxis\":\"coloraxis\",\"pattern\":{\"shape\":\"\"}},\"name\":\"\",\"offsetgroup\":\"\",\"orientation\":\"v\",\"showlegend\":false,\"textposition\":\"auto\",\"x\":[\"\\u0440\\u043e\\u0441\\u0441\\u0438\\u0438\",\"\\u0443\\u043a\\u0440\\u0430\\u0438\\u043d\\u0435\",\"\\u0443\\u043a\\u0440\\u0430\\u0438\\u043d\\u044b\",\"\\u0432\\u0441\\u0443\",\"\\u043e\\u0431\\u043b\\u0430\\u0441\\u0442\\u0438\",\"\\u0441\\u0448\\u0430\",\"\\u0437\\u0430\\u044f\\u0432\\u0438\\u043b\",\"https\",\"\\u0442\\u0430\\u043a\\u0436\\u0435\",\"\\u043c\\u0430\\u044f\",\"\\u0434\\u043d\\u0440\",\"\\u043a\\u043e\\u0442\\u043e\\u0440\\u044b\\u0435\",\"\\u0433\\u043e\\u0434\\u0430\",\"\\u0440\\u043e\\u0441\\u0441\\u0438\\u044f\",\"\\u0432\\u0440\\u0435\\u043c\\u044f\",\"\\u0441\\u0435\\u0433\\u043e\\u0434\\u043d\\u044f\",\"\\u0443\\u043a\\u0440\\u0430\\u0438\\u043d\\u0441\\u043a\\u0438\\u0445\",\"\\u043f\\u043e\\u0434\\u043f\\u0438\\u0441\\u0430\\u0442\\u044c\\u0441\\u044f\",\"\\u0433\\u043b\\u0430\\u0432\\u0430\",\"\\u0432\\u0438\\u0434\\u0435\\u043e\",\"\\u043f\\u0440\\u043e\\u0442\\u0438\\u0432\",\"\\u0447\\u0435\\u043b\\u043e\\u0432\\u0435\\u043a\",\"\\u043d\\u0430\\u0442\\u043e\",\"\\u043a\\u043e\\u0442\\u043e\\u0440\\u044b\\u0439\",\"\\u0441\\u043e\\u043e\\u0431\\u0449\\u0438\\u043b\",\"\\u0441\\u0442\\u0440\\u0430\\u043d\\u044b\",\"\\u043f\\u0443\\u0442\\u0438\\u043d\",\"\\u043b\\u0435\\u0442\",\"\\u0431\\u0443\\u0434\\u0443\\u0442\",\"\\u0442\\u0435\\u0440\\u0440\\u0438\\u0442\\u043e\\u0440\\u0438\\u0438\"],\"xaxis\":\"x22\",\"y\":[804.740952324924,382.0807113095291,380.96862211196884,341.2305008113538,327.7979884186664,319.17528585445774,312.50088161909616,308.65620902594947,252.47539435286504,251.5037384448224,243.19049926696997,237.51118925720849,231.5185145411365,223.79740305390172,210.14484301443784,199.91134789549395,193.20931689803115,192.22290665634446,186.1687326000087,185.25904625174414,183.862793698053,179.1423897000926,177.94117215548118,175.0675355968961,173.05406237876608,166.2422921526349,161.7213619208575,157.19004478825173,151.15332059265788,151.00624036490396],\"yaxis\":\"y22\",\"type\":\"bar\"},{\"alignmentgroup\":\"True\",\"hovertemplate\":\"index=%{x}\\u003cbr\\u003evalue=%{marker.color}\\u003cextra\\u003e\\u003c\\u002fextra\\u003e\",\"legendgroup\":\"\",\"marker\":{\"color\":[767.5115734349345,362.8979803072067,351.04851453200433,313.30770269031655,308.1903705945425,303.6238301048521,294.9758684686207,293.51458960687086,286.7266964685993,275.8575407580114,242.89200939354689,241.9140022003522,233.005699435319,224.02571184239832,211.66303800871458,209.95741005574078,192.80904642090098,181.92652398196924,181.3831562083069,178.626060823805,178.11495172007523,171.06709959409346,171.0469516558482,169.21268323677023,166.50828981535156,165.1868042531684,160.07540077982665,158.41489606716428,157.09807683612343,155.05922397924783],\"coloraxis\":\"coloraxis\",\"pattern\":{\"shape\":\"\"}},\"name\":\"\",\"offsetgroup\":\"\",\"orientation\":\"v\",\"showlegend\":false,\"textposition\":\"auto\",\"x\":[\"\\u0440\\u043e\\u0441\\u0441\\u0438\\u0438\",\"\\u0443\\u043a\\u0440\\u0430\\u0438\\u043d\\u044b\",\"\\u0432\\u0441\\u0443\",\"\\u0437\\u0430\\u044f\\u0432\\u0438\\u043b\",\"https\",\"\\u0443\\u043a\\u0440\\u0430\\u0438\\u043d\\u0435\",\"\\u0441\\u0448\\u0430\",\"\\u043e\\u0431\\u043b\\u0430\\u0441\\u0442\\u0438\",\"\\u0442\\u0430\\u043a\\u0436\\u0435\",\"\\u043f\\u043e\\u0434\\u043f\\u0438\\u0441\\u0430\\u0442\\u044c\\u0441\\u044f\",\"\\u0434\\u043d\\u0440\",\"\\u043a\\u043e\\u0442\\u043e\\u0440\\u044b\\u0435\",\"\\u0433\\u043e\\u0434\\u0430\",\"\\u043f\\u0443\\u0442\\u0438\\u043d\",\"\\u0432\\u0440\\u0435\\u043c\\u044f\",\"\\u0440\\u043e\\u0441\\u0441\\u0438\\u044f\",\"\\u0441\\u0435\\u0433\\u043e\\u0434\\u043d\\u044f\",\"\\u0438\\u044e\\u043d\\u044f\",\"\\u0441\\u0442\\u0440\\u0430\\u043d\\u044b\",\"\\u0433\\u043b\\u0430\\u0432\\u0430\",\"\\u043a\\u043e\\u0442\\u043e\\u0440\\u044b\\u0439\",\"\\u0431\\u0443\\u0434\\u0443\\u0442\",\"\\u043b\\u043d\\u0440\",\"\\u0441\\u043e\\u043e\\u0431\\u0449\\u0438\\u043b\",\"\\u0432\\u0438\\u0434\\u0435\\u043e\",\"\\u0447\\u0435\\u043b\\u043e\\u0432\\u0435\\u043a\",\"\\u043f\\u0440\\u043e\\u0442\\u0438\\u0432\",\"\\u043b\\u0435\\u0442\",\"\\u0443\\u043a\\u0440\\u0430\\u0438\\u043d\\u0441\\u043a\\u0438\\u0445\",\"\\u043e\\u0447\\u0435\\u043d\\u044c\"],\"xaxis\":\"x23\",\"y\":[767.5115734349345,362.8979803072067,351.04851453200433,313.30770269031655,308.1903705945425,303.6238301048521,294.9758684686207,293.51458960687086,286.7266964685993,275.8575407580114,242.89200939354689,241.9140022003522,233.005699435319,224.02571184239832,211.66303800871458,209.95741005574078,192.80904642090098,181.92652398196924,181.3831562083069,178.626060823805,178.11495172007523,171.06709959409346,171.0469516558482,169.21268323677023,166.50828981535156,165.1868042531684,160.07540077982665,158.41489606716428,157.09807683612343,155.05922397924783],\"yaxis\":\"y23\",\"type\":\"bar\"},{\"alignmentgroup\":\"True\",\"hovertemplate\":\"index=%{x}\\u003cbr\\u003evalue=%{marker.color}\\u003cextra\\u003e\\u003c\\u002fextra\\u003e\",\"legendgroup\":\"\",\"marker\":{\"color\":[672.7468384612788,376.84159208307955,333.08107749731636,325.07526286340567,296.8171887578762,285.14241538471947,275.67762107712986,272.03940215632764,242.5305825674725,238.72077915921096,233.04185006929401,231.71476813428572,225.1243714784884,205.88911083899043,187.4838228783991,187.10819107438576,184.62674297074676,176.59682310157723,175.006824367622,165.38949729874682,164.93857920483643,156.0126319920859,155.8705606863576,155.67540283951593,146.37150452698464,144.16102821996344,140.9952164740381,138.69018525042327,136.5188513149304,132.81509261807457],\"coloraxis\":\"coloraxis\",\"pattern\":{\"shape\":\"\"}},\"name\":\"\",\"offsetgroup\":\"\",\"orientation\":\"v\",\"showlegend\":false,\"textposition\":\"auto\",\"x\":[\"\\u0440\\u043e\\u0441\\u0441\\u0438\\u0438\",\"\\u043f\\u043e\\u0434\\u043f\\u0438\\u0441\\u0430\\u0442\\u044c\\u0441\\u044f\",\"\\u0441\\u0448\\u0430\",\"\\u0432\\u0441\\u0443\",\"\\u0443\\u043a\\u0440\\u0430\\u0438\\u043d\\u044b\",\"https\",\"\\u0442\\u0430\\u043a\\u0436\\u0435\",\"\\u043e\\u0431\\u043b\\u0430\\u0441\\u0442\\u0438\",\"\\u0437\\u0430\\u044f\\u0432\\u0438\\u043b\",\"\\u0433\\u043e\\u0434\\u0430\",\"\\u0443\\u043a\\u0440\\u0430\\u0438\\u043d\\u0435\",\"\\u043a\\u043e\\u0442\\u043e\\u0440\\u044b\\u0435\",\"\\u0432\\u0440\\u0435\\u043c\\u044f\",\"\\u0434\\u043d\\u0440\",\"\\u0440\\u043e\\u0441\\u0441\\u0438\\u044f\",\"\\u0447\\u0435\\u043b\\u043e\\u0432\\u0435\\u043a\",\"\\u0441\\u0435\\u0433\\u043e\\u0434\\u043d\\u044f\",\"\\u043a\\u043e\\u0442\\u043e\\u0440\\u044b\\u0439\",\"\\u0433\\u043b\\u0430\\u0432\\u0430\",\"\\u0432\\u0438\\u0434\\u0435\\u043e\",\"\\u0441\\u0442\\u0440\\u0430\\u043d\\u044b\",\"\\u0431\\u0443\\u0434\\u0443\\u0442\",\"\\u0441\\u043e\\u043e\\u0431\\u0449\\u0438\\u043b\",\"\\u043b\\u0435\\u0442\",\"\\u043e\\u0447\\u0435\\u043d\\u044c\",\"\\u043f\\u0440\\u043e\\u0442\\u0438\\u0432\",\"\\u043f\\u0443\\u0442\\u0438\\u043d\",\"\\u043f\\u043e\\u043a\\u0430\",\"\\u0441\\u043e\\u043e\\u0431\\u0449\\u0430\\u0435\\u0442\",\"\\u0438\\u044e\\u043b\\u044f\"],\"xaxis\":\"x24\",\"y\":[672.7468384612788,376.84159208307955,333.08107749731636,325.07526286340567,296.8171887578762,285.14241538471947,275.67762107712986,272.03940215632764,242.5305825674725,238.72077915921096,233.04185006929401,231.71476813428572,225.1243714784884,205.88911083899043,187.4838228783991,187.10819107438576,184.62674297074676,176.59682310157723,175.006824367622,165.38949729874682,164.93857920483643,156.0126319920859,155.8705606863576,155.67540283951593,146.37150452698464,144.16102821996344,140.9952164740381,138.69018525042327,136.5188513149304,132.81509261807457],\"yaxis\":\"y24\",\"type\":\"bar\"},{\"alignmentgroup\":\"True\",\"hovertemplate\":\"index=%{x}\\u003cbr\\u003evalue=%{marker.color}\\u003cextra\\u003e\\u003c\\u002fextra\\u003e\",\"legendgroup\":\"\",\"marker\":{\"color\":[623.8019088954575,408.34711213735545,401.4920768654267,387.0005538352638,307.4491649931302,294.1772968938624,287.8479642807404,248.79954956132423,248.68668536214489,246.99177469425362,227.66256943463782,226.87076677197197,225.37425310389335,190.29681616072364,188.90683530878158,187.6788169180145,179.73668470964245,176.58514313914685,174.47186511613413,166.51144815548608,166.3872990598946,165.94476629704135,163.88254895212333,163.85880871960654,159.07710357269127,157.57686741911755,153.2551339513715,153.03755435647736,152.828287452203,147.29204354915967],\"coloraxis\":\"coloraxis\",\"pattern\":{\"shape\":\"\"}},\"name\":\"\",\"offsetgroup\":\"\",\"orientation\":\"v\",\"showlegend\":false,\"textposition\":\"auto\",\"x\":[\"\\u0440\\u043e\\u0441\\u0441\\u0438\\u0438\",\"\\u0432\\u0441\\u0443\",\"\\u043f\\u043e\\u0434\\u043f\\u0438\\u0441\\u0430\\u0442\\u044c\\u0441\\u044f\",\"\\u043e\\u0431\\u043b\\u0430\\u0441\\u0442\\u0438\",\"https\",\"\\u0442\\u0430\\u043a\\u0436\\u0435\",\"\\u0443\\u043a\\u0440\\u0430\\u0438\\u043d\\u044b\",\"\\u0437\\u0430\\u044f\\u0432\\u0438\\u043b\",\"\\u043a\\u043e\\u0442\\u043e\\u0440\\u044b\\u0435\",\"\\u0441\\u0448\\u0430\",\"\\u0432\\u0440\\u0435\\u043c\\u044f\",\"\\u0433\\u043e\\u0434\\u0430\",\"\\u0443\\u043a\\u0440\\u0430\\u0438\\u043d\\u0435\",\"\\u0432\\u0438\\u0434\\u0435\\u043e\",\"\\u0441\\u0435\\u0433\\u043e\\u0434\\u043d\\u044f\",\"\\u0440\\u043e\\u0441\\u0441\\u0438\\u044f\",\"\\u0441\\u0442\\u0440\\u0430\\u043d\\u044b\",\"\\u0447\\u0435\\u043b\\u043e\\u0432\\u0435\\u043a\",\"\\u0433\\u043b\\u0430\\u0432\\u0430\",\"\\u043f\\u0443\\u0442\\u0438\\u043d\",\"\\u043a\\u043e\\u0442\\u043e\\u0440\\u044b\\u0439\",\"\\u0440\\u0430\\u0439\\u043e\\u043d\\u0435\",\"\\u0431\\u0443\\u0434\\u0443\\u0442\",\"\\u0441\\u0435\\u043d\\u0442\\u044f\\u0431\\u0440\\u044f\",\"\\u0437\\u0430\\u043f\\u043e\\u0440\\u043e\\u0436\\u0441\\u043a\\u043e\\u0439\",\"\\u0430\\u044d\\u0441\",\"\\u0432\\u043b\\u0430\\u0441\\u0442\\u0438\",\"\\u0441\\u043e\\u043e\\u0431\\u0449\\u0438\\u043b\",\"\\u043b\\u0435\\u0442\",\"\\u0434\\u043d\\u0440\"],\"xaxis\":\"x25\",\"y\":[623.8019088954575,408.34711213735545,401.4920768654267,387.0005538352638,307.4491649931302,294.1772968938624,287.8479642807404,248.79954956132423,248.68668536214489,246.99177469425362,227.66256943463782,226.87076677197197,225.37425310389335,190.29681616072364,188.90683530878158,187.6788169180145,179.73668470964245,176.58514313914685,174.47186511613413,166.51144815548608,166.3872990598946,165.94476629704135,163.88254895212333,163.85880871960654,159.07710357269127,157.57686741911755,153.2551339513715,153.03755435647736,152.828287452203,147.29204354915967],\"yaxis\":\"y25\",\"type\":\"bar\"},{\"alignmentgroup\":\"True\",\"hovertemplate\":\"index=%{x}\\u003cbr\\u003evalue=%{marker.color}\\u003cextra\\u003e\\u003c\\u002fextra\\u003e\",\"legendgroup\":\"\",\"marker\":{\"color\":[751.02981312866,394.3197422114437,378.6905067054233,316.0922591940693,298.86190009497676,296.75199099150467,292.3954403074852,286.95887589031423,280.5369592391579,267.3941843526026,256.44179895925726,251.6300829332532,235.47763473711626,228.63618016625622,224.4243404921622,217.3531912281438,216.3168937899013,199.60064884882124,199.34102105387294,198.47020433005653,184.16347436701608,181.17071498852326,180.48096713917448,175.46165363649402,173.74014504859545,163.34198753911605,152.1802673790057,151.16128745568219,149.6933796208207,146.80945712350905],\"coloraxis\":\"coloraxis\",\"pattern\":{\"shape\":\"\"}},\"name\":\"\",\"offsetgroup\":\"\",\"orientation\":\"v\",\"showlegend\":false,\"textposition\":\"auto\",\"x\":[\"\\u0440\\u043e\\u0441\\u0441\\u0438\\u0438\",\"\\u043e\\u0431\\u043b\\u0430\\u0441\\u0442\\u0438\",\"\\u043f\\u043e\\u0434\\u043f\\u0438\\u0441\\u0430\\u0442\\u044c\\u0441\\u044f\",\"\\u043c\\u043e\\u0431\\u0438\\u043b\\u0438\\u0437\\u0430\\u0446\\u0438\\u0438\",\"\\u0443\\u043a\\u0440\\u0430\\u0438\\u043d\\u044b\",\"\\u0442\\u0430\\u043a\\u0436\\u0435\",\"\\u0432\\u0441\\u0443\",\"https\",\"\\u0437\\u0430\\u044f\\u0432\\u0438\\u043b\",\"\\u043f\\u0443\\u0442\\u0438\\u043d\",\"\\u043a\\u043e\\u0442\\u043e\\u0440\\u044b\\u0435\",\"\\u0441\\u0448\\u0430\",\"\\u0434\\u043d\\u0440\",\"\\u0432\\u0440\\u0435\\u043c\\u044f\",\"\\u0441\\u0435\\u0433\\u043e\\u0434\\u043d\\u044f\",\"\\u0443\\u043a\\u0440\\u0430\\u0438\\u043d\\u0435\",\"\\u0431\\u0443\\u0434\\u0443\\u0442\",\"\\u0440\\u043e\\u0441\\u0441\\u0438\\u044f\",\"\\u0433\\u043b\\u0430\\u0432\\u0430\",\"\\u0432\\u0438\\u0434\\u0435\\u043e\",\"\\u043b\\u043d\\u0440\",\"\\u0447\\u0435\\u043b\\u043e\\u0432\\u0435\\u043a\",\"\\u0433\\u043e\\u0434\\u0430\",\"\\u0445\\u0435\\u0440\\u0441\\u043e\\u043d\\u0441\\u043a\\u043e\\u0439\",\"\\u0441\\u043e\\u043e\\u0431\\u0449\\u0438\\u043b\",\"\\u0441\\u0442\\u0440\\u0430\\u043d\\u044b\",\"\\u0437\\u0430\\u043f\\u043e\\u0440\\u043e\\u0436\\u0441\\u043a\\u043e\\u0439\",\"\\u043a\\u043e\\u0442\\u043e\\u0440\\u044b\\u0439\",\"\\u0441\\u043e\\u0441\\u0442\\u0430\\u0432\",\"\\u043b\\u0435\\u0442\"],\"xaxis\":\"x26\",\"y\":[751.02981312866,394.3197422114437,378.6905067054233,316.0922591940693,298.86190009497676,296.75199099150467,292.3954403074852,286.95887589031423,280.5369592391579,267.3941843526026,256.44179895925726,251.6300829332532,235.47763473711626,228.63618016625622,224.4243404921622,217.3531912281438,216.3168937899013,199.60064884882124,199.34102105387294,198.47020433005653,184.16347436701608,181.17071498852326,180.48096713917448,175.46165363649402,173.74014504859545,163.34198753911605,152.1802673790057,151.16128745568219,149.6933796208207,146.80945712350905],\"yaxis\":\"y26\",\"type\":\"bar\"},{\"alignmentgroup\":\"True\",\"hovertemplate\":\"index=%{x}\\u003cbr\\u003evalue=%{marker.color}\\u003cextra\\u003e\\u003c\\u002fextra\\u003e\",\"legendgroup\":\"\",\"marker\":{\"color\":[594.3108292784143,379.41663362780264,346.5675065013476,310.2260790096959,295.85449745569156,292.1145317949755,286.1249964068731,283.60161104599564,281.9605659715535,266.26097692168145,260.8330586135509,227.86423080646307,220.3644193973487,220.15727550641307,196.23403607250188,190.50139013675584,181.73858615081627,180.79000726484747,165.10477550894277,160.2322237446848,160.0157715849486,158.11691651904215,157.91480602229572,145.9897538332206,144.87777128720657,140.0112661620439,131.6268973124614,130.72570655531644,129.67641902103,128.37058106715014],\"coloraxis\":\"coloraxis\",\"pattern\":{\"shape\":\"\"}},\"name\":\"\",\"offsetgroup\":\"\",\"orientation\":\"v\",\"showlegend\":false,\"textposition\":\"auto\",\"x\":[\"\\u0440\\u043e\\u0441\\u0441\\u0438\\u0438\",\"\\u043f\\u043e\\u0434\\u043f\\u0438\\u0441\\u0430\\u0442\\u044c\\u0441\\u044f\",\"\\u043e\\u0431\\u043b\\u0430\\u0441\\u0442\\u0438\",\"\\u0441\\u0448\\u0430\",\"\\u0432\\u0441\\u0443\",\"\\u0443\\u043a\\u0440\\u0430\\u0438\\u043d\\u044b\",\"\\u0442\\u0430\\u043a\\u0436\\u0435\",\"https\",\"\\u043f\\u0443\\u0442\\u0438\\u043d\",\"\\u0437\\u0430\\u044f\\u0432\\u0438\\u043b\",\"\\u0443\\u043a\\u0440\\u0430\\u0438\\u043d\\u0435\",\"\\u043a\\u043e\\u0442\\u043e\\u0440\\u044b\\u0435\",\"\\u0432\\u0440\\u0435\\u043c\\u044f\",\"\\u0433\\u043e\\u0434\\u0430\",\"\\u0440\\u043e\\u0441\\u0441\\u0438\\u044f\",\"\\u0441\\u043e\\u043e\\u0431\\u0449\\u0438\\u043b\",\"\\u0441\\u0435\\u0433\\u043e\\u0434\\u043d\\u044f\",\"\\u0447\\u0435\\u043b\\u043e\\u0432\\u0435\\u043a\",\"\\u0441\\u0442\\u0440\\u0430\\u043d\\u044b\",\"\\u0432\\u0438\\u0434\\u0435\\u043e\",\"\\u043a\\u043e\\u0442\\u043e\\u0440\\u044b\\u0439\",\"\\u0432\\u043b\\u0430\\u0441\\u0442\\u0438\",\"\\u0431\\u0443\\u0434\\u0443\\u0442\",\"\\u0433\\u043b\\u0430\\u0432\\u0430\",\"\\u043e\\u0447\\u0435\\u043d\\u044c\",\"\\u043f\\u043e\\u043a\\u0430\",\"\\u043f\\u0440\\u043e\\u0442\\u0438\\u0432\",\"\\u043c\\u0438\\u043d\\u043e\\u0431\\u043e\\u0440\\u043e\\u043d\\u044b\",\"\\u0433\\u043e\\u0434\\u0443\",\"\\u043b\\u0435\\u0442\"],\"xaxis\":\"x27\",\"y\":[594.3108292784143,379.41663362780264,346.5675065013476,310.2260790096959,295.85449745569156,292.1145317949755,286.1249964068731,283.60161104599564,281.9605659715535,266.26097692168145,260.8330586135509,227.86423080646307,220.3644193973487,220.15727550641307,196.23403607250188,190.50139013675584,181.73858615081627,180.79000726484747,165.10477550894277,160.2322237446848,160.0157715849486,158.11691651904215,157.91480602229572,145.9897538332206,144.87777128720657,140.0112661620439,131.6268973124614,130.72570655531644,129.67641902103,128.37058106715014],\"yaxis\":\"y27\",\"type\":\"bar\"}],                        {\"template\":{\"data\":{\"histogram2dcontour\":[{\"type\":\"histogram2dcontour\",\"colorbar\":{\"outlinewidth\":0,\"ticks\":\"\"},\"colorscale\":[[0.0,\"#0d0887\"],[0.1111111111111111,\"#46039f\"],[0.2222222222222222,\"#7201a8\"],[0.3333333333333333,\"#9c179e\"],[0.4444444444444444,\"#bd3786\"],[0.5555555555555556,\"#d8576b\"],[0.6666666666666666,\"#ed7953\"],[0.7777777777777778,\"#fb9f3a\"],[0.8888888888888888,\"#fdca26\"],[1.0,\"#f0f921\"]]}],\"choropleth\":[{\"type\":\"choropleth\",\"colorbar\":{\"outlinewidth\":0,\"ticks\":\"\"}}],\"histogram2d\":[{\"type\":\"histogram2d\",\"colorbar\":{\"outlinewidth\":0,\"ticks\":\"\"},\"colorscale\":[[0.0,\"#0d0887\"],[0.1111111111111111,\"#46039f\"],[0.2222222222222222,\"#7201a8\"],[0.3333333333333333,\"#9c179e\"],[0.4444444444444444,\"#bd3786\"],[0.5555555555555556,\"#d8576b\"],[0.6666666666666666,\"#ed7953\"],[0.7777777777777778,\"#fb9f3a\"],[0.8888888888888888,\"#fdca26\"],[1.0,\"#f0f921\"]]}],\"heatmap\":[{\"type\":\"heatmap\",\"colorbar\":{\"outlinewidth\":0,\"ticks\":\"\"},\"colorscale\":[[0.0,\"#0d0887\"],[0.1111111111111111,\"#46039f\"],[0.2222222222222222,\"#7201a8\"],[0.3333333333333333,\"#9c179e\"],[0.4444444444444444,\"#bd3786\"],[0.5555555555555556,\"#d8576b\"],[0.6666666666666666,\"#ed7953\"],[0.7777777777777778,\"#fb9f3a\"],[0.8888888888888888,\"#fdca26\"],[1.0,\"#f0f921\"]]}],\"heatmapgl\":[{\"type\":\"heatmapgl\",\"colorbar\":{\"outlinewidth\":0,\"ticks\":\"\"},\"colorscale\":[[0.0,\"#0d0887\"],[0.1111111111111111,\"#46039f\"],[0.2222222222222222,\"#7201a8\"],[0.3333333333333333,\"#9c179e\"],[0.4444444444444444,\"#bd3786\"],[0.5555555555555556,\"#d8576b\"],[0.6666666666666666,\"#ed7953\"],[0.7777777777777778,\"#fb9f3a\"],[0.8888888888888888,\"#fdca26\"],[1.0,\"#f0f921\"]]}],\"contourcarpet\":[{\"type\":\"contourcarpet\",\"colorbar\":{\"outlinewidth\":0,\"ticks\":\"\"}}],\"contour\":[{\"type\":\"contour\",\"colorbar\":{\"outlinewidth\":0,\"ticks\":\"\"},\"colorscale\":[[0.0,\"#0d0887\"],[0.1111111111111111,\"#46039f\"],[0.2222222222222222,\"#7201a8\"],[0.3333333333333333,\"#9c179e\"],[0.4444444444444444,\"#bd3786\"],[0.5555555555555556,\"#d8576b\"],[0.6666666666666666,\"#ed7953\"],[0.7777777777777778,\"#fb9f3a\"],[0.8888888888888888,\"#fdca26\"],[1.0,\"#f0f921\"]]}],\"surface\":[{\"type\":\"surface\",\"colorbar\":{\"outlinewidth\":0,\"ticks\":\"\"},\"colorscale\":[[0.0,\"#0d0887\"],[0.1111111111111111,\"#46039f\"],[0.2222222222222222,\"#7201a8\"],[0.3333333333333333,\"#9c179e\"],[0.4444444444444444,\"#bd3786\"],[0.5555555555555556,\"#d8576b\"],[0.6666666666666666,\"#ed7953\"],[0.7777777777777778,\"#fb9f3a\"],[0.8888888888888888,\"#fdca26\"],[1.0,\"#f0f921\"]]}],\"mesh3d\":[{\"type\":\"mesh3d\",\"colorbar\":{\"outlinewidth\":0,\"ticks\":\"\"}}],\"scatter\":[{\"fillpattern\":{\"fillmode\":\"overlay\",\"size\":10,\"solidity\":0.2},\"type\":\"scatter\"}],\"parcoords\":[{\"type\":\"parcoords\",\"line\":{\"colorbar\":{\"outlinewidth\":0,\"ticks\":\"\"}}}],\"scatterpolargl\":[{\"type\":\"scatterpolargl\",\"marker\":{\"colorbar\":{\"outlinewidth\":0,\"ticks\":\"\"}}}],\"bar\":[{\"error_x\":{\"color\":\"#2a3f5f\"},\"error_y\":{\"color\":\"#2a3f5f\"},\"marker\":{\"line\":{\"color\":\"#E5ECF6\",\"width\":0.5},\"pattern\":{\"fillmode\":\"overlay\",\"size\":10,\"solidity\":0.2}},\"type\":\"bar\"}],\"scattergeo\":[{\"type\":\"scattergeo\",\"marker\":{\"colorbar\":{\"outlinewidth\":0,\"ticks\":\"\"}}}],\"scatterpolar\":[{\"type\":\"scatterpolar\",\"marker\":{\"colorbar\":{\"outlinewidth\":0,\"ticks\":\"\"}}}],\"histogram\":[{\"marker\":{\"pattern\":{\"fillmode\":\"overlay\",\"size\":10,\"solidity\":0.2}},\"type\":\"histogram\"}],\"scattergl\":[{\"type\":\"scattergl\",\"marker\":{\"colorbar\":{\"outlinewidth\":0,\"ticks\":\"\"}}}],\"scatter3d\":[{\"type\":\"scatter3d\",\"line\":{\"colorbar\":{\"outlinewidth\":0,\"ticks\":\"\"}},\"marker\":{\"colorbar\":{\"outlinewidth\":0,\"ticks\":\"\"}}}],\"scattermapbox\":[{\"type\":\"scattermapbox\",\"marker\":{\"colorbar\":{\"outlinewidth\":0,\"ticks\":\"\"}}}],\"scatterternary\":[{\"type\":\"scatterternary\",\"marker\":{\"colorbar\":{\"outlinewidth\":0,\"ticks\":\"\"}}}],\"scattercarpet\":[{\"type\":\"scattercarpet\",\"marker\":{\"colorbar\":{\"outlinewidth\":0,\"ticks\":\"\"}}}],\"carpet\":[{\"aaxis\":{\"endlinecolor\":\"#2a3f5f\",\"gridcolor\":\"white\",\"linecolor\":\"white\",\"minorgridcolor\":\"white\",\"startlinecolor\":\"#2a3f5f\"},\"baxis\":{\"endlinecolor\":\"#2a3f5f\",\"gridcolor\":\"white\",\"linecolor\":\"white\",\"minorgridcolor\":\"white\",\"startlinecolor\":\"#2a3f5f\"},\"type\":\"carpet\"}],\"table\":[{\"cells\":{\"fill\":{\"color\":\"#EBF0F8\"},\"line\":{\"color\":\"white\"}},\"header\":{\"fill\":{\"color\":\"#C8D4E3\"},\"line\":{\"color\":\"white\"}},\"type\":\"table\"}],\"barpolar\":[{\"marker\":{\"line\":{\"color\":\"#E5ECF6\",\"width\":0.5},\"pattern\":{\"fillmode\":\"overlay\",\"size\":10,\"solidity\":0.2}},\"type\":\"barpolar\"}],\"pie\":[{\"automargin\":true,\"type\":\"pie\"}]},\"layout\":{\"autotypenumbers\":\"strict\",\"colorway\":[\"#636efa\",\"#EF553B\",\"#00cc96\",\"#ab63fa\",\"#FFA15A\",\"#19d3f3\",\"#FF6692\",\"#B6E880\",\"#FF97FF\",\"#FECB52\"],\"font\":{\"color\":\"#2a3f5f\"},\"hovermode\":\"closest\",\"hoverlabel\":{\"align\":\"left\"},\"paper_bgcolor\":\"white\",\"plot_bgcolor\":\"#E5ECF6\",\"polar\":{\"bgcolor\":\"#E5ECF6\",\"angularaxis\":{\"gridcolor\":\"white\",\"linecolor\":\"white\",\"ticks\":\"\"},\"radialaxis\":{\"gridcolor\":\"white\",\"linecolor\":\"white\",\"ticks\":\"\"}},\"ternary\":{\"bgcolor\":\"#E5ECF6\",\"aaxis\":{\"gridcolor\":\"white\",\"linecolor\":\"white\",\"ticks\":\"\"},\"baxis\":{\"gridcolor\":\"white\",\"linecolor\":\"white\",\"ticks\":\"\"},\"caxis\":{\"gridcolor\":\"white\",\"linecolor\":\"white\",\"ticks\":\"\"}},\"coloraxis\":{\"colorbar\":{\"outlinewidth\":0,\"ticks\":\"\"}},\"colorscale\":{\"sequential\":[[0.0,\"#0d0887\"],[0.1111111111111111,\"#46039f\"],[0.2222222222222222,\"#7201a8\"],[0.3333333333333333,\"#9c179e\"],[0.4444444444444444,\"#bd3786\"],[0.5555555555555556,\"#d8576b\"],[0.6666666666666666,\"#ed7953\"],[0.7777777777777778,\"#fb9f3a\"],[0.8888888888888888,\"#fdca26\"],[1.0,\"#f0f921\"]],\"sequentialminus\":[[0.0,\"#0d0887\"],[0.1111111111111111,\"#46039f\"],[0.2222222222222222,\"#7201a8\"],[0.3333333333333333,\"#9c179e\"],[0.4444444444444444,\"#bd3786\"],[0.5555555555555556,\"#d8576b\"],[0.6666666666666666,\"#ed7953\"],[0.7777777777777778,\"#fb9f3a\"],[0.8888888888888888,\"#fdca26\"],[1.0,\"#f0f921\"]],\"diverging\":[[0,\"#8e0152\"],[0.1,\"#c51b7d\"],[0.2,\"#de77ae\"],[0.3,\"#f1b6da\"],[0.4,\"#fde0ef\"],[0.5,\"#f7f7f7\"],[0.6,\"#e6f5d0\"],[0.7,\"#b8e186\"],[0.8,\"#7fbc41\"],[0.9,\"#4d9221\"],[1,\"#276419\"]]},\"xaxis\":{\"gridcolor\":\"white\",\"linecolor\":\"white\",\"ticks\":\"\",\"title\":{\"standoff\":15},\"zerolinecolor\":\"white\",\"automargin\":true,\"zerolinewidth\":2},\"yaxis\":{\"gridcolor\":\"white\",\"linecolor\":\"white\",\"ticks\":\"\",\"title\":{\"standoff\":15},\"zerolinecolor\":\"white\",\"automargin\":true,\"zerolinewidth\":2},\"scene\":{\"xaxis\":{\"backgroundcolor\":\"#E5ECF6\",\"gridcolor\":\"white\",\"linecolor\":\"white\",\"showbackground\":true,\"ticks\":\"\",\"zerolinecolor\":\"white\",\"gridwidth\":2},\"yaxis\":{\"backgroundcolor\":\"#E5ECF6\",\"gridcolor\":\"white\",\"linecolor\":\"white\",\"showbackground\":true,\"ticks\":\"\",\"zerolinecolor\":\"white\",\"gridwidth\":2},\"zaxis\":{\"backgroundcolor\":\"#E5ECF6\",\"gridcolor\":\"white\",\"linecolor\":\"white\",\"showbackground\":true,\"ticks\":\"\",\"zerolinecolor\":\"white\",\"gridwidth\":2}},\"shapedefaults\":{\"line\":{\"color\":\"#2a3f5f\"}},\"annotationdefaults\":{\"arrowcolor\":\"#2a3f5f\",\"arrowhead\":0,\"arrowwidth\":1},\"geo\":{\"bgcolor\":\"white\",\"landcolor\":\"#E5ECF6\",\"subunitcolor\":\"white\",\"showland\":true,\"showlakes\":true,\"lakecolor\":\"white\"},\"title\":{\"x\":0.05},\"mapbox\":{\"style\":\"light\"}}},\"xaxis\":{\"anchor\":\"y\",\"domain\":[0.0,1.0]},\"yaxis\":{\"anchor\":\"x\",\"domain\":[0.9807956104252401,1.0]},\"xaxis2\":{\"anchor\":\"y2\",\"domain\":[0.0,1.0]},\"yaxis2\":{\"anchor\":\"x2\",\"domain\":[0.9430727023319616,0.9622770919067215]},\"xaxis3\":{\"anchor\":\"y3\",\"domain\":[0.0,1.0]},\"yaxis3\":{\"anchor\":\"x3\",\"domain\":[0.9053497942386832,0.9245541838134431]},\"xaxis4\":{\"anchor\":\"y4\",\"domain\":[0.0,1.0]},\"yaxis4\":{\"anchor\":\"x4\",\"domain\":[0.8676268861454047,0.8868312757201646]},\"xaxis5\":{\"anchor\":\"y5\",\"domain\":[0.0,1.0]},\"yaxis5\":{\"anchor\":\"x5\",\"domain\":[0.8299039780521262,0.8491083676268861]},\"xaxis6\":{\"anchor\":\"y6\",\"domain\":[0.0,1.0]},\"yaxis6\":{\"anchor\":\"x6\",\"domain\":[0.7921810699588477,0.8113854595336076]},\"xaxis7\":{\"anchor\":\"y7\",\"domain\":[0.0,1.0]},\"yaxis7\":{\"anchor\":\"x7\",\"domain\":[0.7544581618655692,0.7736625514403291]},\"xaxis8\":{\"anchor\":\"y8\",\"domain\":[0.0,1.0]},\"yaxis8\":{\"anchor\":\"x8\",\"domain\":[0.7167352537722909,0.7359396433470508]},\"xaxis9\":{\"anchor\":\"y9\",\"domain\":[0.0,1.0]},\"yaxis9\":{\"anchor\":\"x9\",\"domain\":[0.6790123456790124,0.6982167352537723]},\"xaxis10\":{\"anchor\":\"y10\",\"domain\":[0.0,1.0]},\"yaxis10\":{\"anchor\":\"x10\",\"domain\":[0.6412894375857339,0.6604938271604938]},\"xaxis11\":{\"anchor\":\"y11\",\"domain\":[0.0,1.0]},\"yaxis11\":{\"anchor\":\"x11\",\"domain\":[0.6035665294924555,0.6227709190672154]},\"xaxis12\":{\"anchor\":\"y12\",\"domain\":[0.0,1.0]},\"yaxis12\":{\"anchor\":\"x12\",\"domain\":[0.565843621399177,0.5850480109739369]},\"xaxis13\":{\"anchor\":\"y13\",\"domain\":[0.0,1.0]},\"yaxis13\":{\"anchor\":\"x13\",\"domain\":[0.5281207133058985,0.5473251028806584]},\"xaxis14\":{\"anchor\":\"y14\",\"domain\":[0.0,1.0]},\"yaxis14\":{\"anchor\":\"x14\",\"domain\":[0.49039780521262005,0.50960219478738]},\"xaxis15\":{\"anchor\":\"y15\",\"domain\":[0.0,1.0]},\"yaxis15\":{\"anchor\":\"x15\",\"domain\":[0.4526748971193416,0.47187928669410156]},\"xaxis16\":{\"anchor\":\"y16\",\"domain\":[0.0,1.0]},\"yaxis16\":{\"anchor\":\"x16\",\"domain\":[0.4149519890260631,0.43415637860082307]},\"xaxis17\":{\"anchor\":\"y17\",\"domain\":[0.0,1.0]},\"yaxis17\":{\"anchor\":\"x17\",\"domain\":[0.3772290809327846,0.39643347050754457]},\"xaxis18\":{\"anchor\":\"y18\",\"domain\":[0.0,1.0]},\"yaxis18\":{\"anchor\":\"x18\",\"domain\":[0.3395061728395062,0.35871056241426613]},\"xaxis19\":{\"anchor\":\"y19\",\"domain\":[0.0,1.0]},\"yaxis19\":{\"anchor\":\"x19\",\"domain\":[0.30178326474622774,0.3209876543209877]},\"xaxis20\":{\"anchor\":\"y20\",\"domain\":[0.0,1.0]},\"yaxis20\":{\"anchor\":\"x20\",\"domain\":[0.26406035665294925,0.2832647462277092]},\"xaxis21\":{\"anchor\":\"y21\",\"domain\":[0.0,1.0]},\"yaxis21\":{\"anchor\":\"x21\",\"domain\":[0.2263374485596708,0.24554183813443076]},\"xaxis22\":{\"anchor\":\"y22\",\"domain\":[0.0,1.0]},\"yaxis22\":{\"anchor\":\"x22\",\"domain\":[0.1886145404663923,0.20781893004115226]},\"xaxis23\":{\"anchor\":\"y23\",\"domain\":[0.0,1.0]},\"yaxis23\":{\"anchor\":\"x23\",\"domain\":[0.15089163237311387,0.17009602194787382]},\"xaxis24\":{\"anchor\":\"y24\",\"domain\":[0.0,1.0]},\"yaxis24\":{\"anchor\":\"x24\",\"domain\":[0.11316872427983539,0.13237311385459533]},\"xaxis25\":{\"anchor\":\"y25\",\"domain\":[0.0,1.0]},\"yaxis25\":{\"anchor\":\"x25\",\"domain\":[0.07544581618655694,0.09465020576131689]},\"xaxis26\":{\"anchor\":\"y26\",\"domain\":[0.0,1.0]},\"yaxis26\":{\"anchor\":\"x26\",\"domain\":[0.03772290809327847,0.05692729766803842]},\"xaxis27\":{\"anchor\":\"y27\",\"domain\":[0.0,1.0]},\"yaxis27\":{\"anchor\":\"x27\",\"domain\":[0.0,0.019204389574759947]},\"annotations\":[{\"font\":{\"size\":16},\"showarrow\":false,\"text\":\"Top words from 2015-09-29 to 2017-11-07\",\"x\":0.5,\"xanchor\":\"center\",\"xref\":\"paper\",\"y\":1.0,\"yanchor\":\"bottom\",\"yref\":\"paper\"},{\"font\":{\"size\":16},\"showarrow\":false,\"text\":\"Top words from 2017-11-07 to 2018-06-27\",\"x\":0.5,\"xanchor\":\"center\",\"xref\":\"paper\",\"y\":0.9622770919067215,\"yanchor\":\"bottom\",\"yref\":\"paper\"},{\"font\":{\"size\":16},\"showarrow\":false,\"text\":\"Top words from 2018-06-27 to 2019-01-09\",\"x\":0.5,\"xanchor\":\"center\",\"xref\":\"paper\",\"y\":0.9245541838134431,\"yanchor\":\"bottom\",\"yref\":\"paper\"},{\"font\":{\"size\":16},\"showarrow\":false,\"text\":\"Top words from 2019-01-09 to 2019-06-15\",\"x\":0.5,\"xanchor\":\"center\",\"xref\":\"paper\",\"y\":0.8868312757201646,\"yanchor\":\"bottom\",\"yref\":\"paper\"},{\"font\":{\"size\":16},\"showarrow\":false,\"text\":\"Top words from 2019-06-15 to 2019-10-11\",\"x\":0.5,\"xanchor\":\"center\",\"xref\":\"paper\",\"y\":0.8491083676268861,\"yanchor\":\"bottom\",\"yref\":\"paper\"},{\"font\":{\"size\":16},\"showarrow\":false,\"text\":\"Top words from 2019-10-11 to 2020-02-01\",\"x\":0.5,\"xanchor\":\"center\",\"xref\":\"paper\",\"y\":0.8113854595336076,\"yanchor\":\"bottom\",\"yref\":\"paper\"},{\"font\":{\"size\":16},\"showarrow\":false,\"text\":\"Top words from 2020-02-01 to 2020-04-20\",\"x\":0.5,\"xanchor\":\"center\",\"xref\":\"paper\",\"y\":0.7736625514403291,\"yanchor\":\"bottom\",\"yref\":\"paper\"},{\"font\":{\"size\":16},\"showarrow\":false,\"text\":\"Top words from 2020-04-20 to 2020-07-03\",\"x\":0.5,\"xanchor\":\"center\",\"xref\":\"paper\",\"y\":0.7359396433470508,\"yanchor\":\"bottom\",\"yref\":\"paper\"},{\"font\":{\"size\":16},\"showarrow\":false,\"text\":\"Top words from 2020-07-03 to 2020-09-12\",\"x\":0.5,\"xanchor\":\"center\",\"xref\":\"paper\",\"y\":0.6982167352537723,\"yanchor\":\"bottom\",\"yref\":\"paper\"},{\"font\":{\"size\":16},\"showarrow\":false,\"text\":\"Top words from 2020-09-12 to 2020-11-16\",\"x\":0.5,\"xanchor\":\"center\",\"xref\":\"paper\",\"y\":0.6604938271604938,\"yanchor\":\"bottom\",\"yref\":\"paper\"},{\"font\":{\"size\":16},\"showarrow\":false,\"text\":\"Top words from 2020-11-16 to 2021-01-25\",\"x\":0.5,\"xanchor\":\"center\",\"xref\":\"paper\",\"y\":0.6227709190672154,\"yanchor\":\"bottom\",\"yref\":\"paper\"},{\"font\":{\"size\":16},\"showarrow\":false,\"text\":\"Top words from 2021-01-25 to 2021-04-01\",\"x\":0.5,\"xanchor\":\"center\",\"xref\":\"paper\",\"y\":0.5850480109739369,\"yanchor\":\"bottom\",\"yref\":\"paper\"},{\"font\":{\"size\":16},\"showarrow\":false,\"text\":\"Top words from 2021-04-01 to 2021-06-01\",\"x\":0.5,\"xanchor\":\"center\",\"xref\":\"paper\",\"y\":0.5473251028806584,\"yanchor\":\"bottom\",\"yref\":\"paper\"},{\"font\":{\"size\":16},\"showarrow\":false,\"text\":\"Top words from 2021-06-01 to 2021-07-29\",\"x\":0.5,\"xanchor\":\"center\",\"xref\":\"paper\",\"y\":0.50960219478738,\"yanchor\":\"bottom\",\"yref\":\"paper\"},{\"font\":{\"size\":16},\"showarrow\":false,\"text\":\"Top words from 2021-07-29 to 2021-09-24\",\"x\":0.5,\"xanchor\":\"center\",\"xref\":\"paper\",\"y\":0.47187928669410156,\"yanchor\":\"bottom\",\"yref\":\"paper\"},{\"font\":{\"size\":16},\"showarrow\":false,\"text\":\"Top words from 2021-09-24 to 2021-11-18\",\"x\":0.5,\"xanchor\":\"center\",\"xref\":\"paper\",\"y\":0.43415637860082307,\"yanchor\":\"bottom\",\"yref\":\"paper\"},{\"font\":{\"size\":16},\"showarrow\":false,\"text\":\"Top words from 2021-11-18 to 2022-01-12\",\"x\":0.5,\"xanchor\":\"center\",\"xref\":\"paper\",\"y\":0.39643347050754457,\"yanchor\":\"bottom\",\"yref\":\"paper\"},{\"font\":{\"size\":16},\"showarrow\":false,\"text\":\"Top words from 2022-01-12 to 2022-02-24\",\"x\":0.5,\"xanchor\":\"center\",\"xref\":\"paper\",\"y\":0.35871056241426613,\"yanchor\":\"bottom\",\"yref\":\"paper\"},{\"font\":{\"size\":16},\"showarrow\":false,\"text\":\"Top words from 2022-02-24 to 2022-03-14\",\"x\":0.5,\"xanchor\":\"center\",\"xref\":\"paper\",\"y\":0.3209876543209877,\"yanchor\":\"bottom\",\"yref\":\"paper\"},{\"font\":{\"size\":16},\"showarrow\":false,\"text\":\"Top words from 2022-03-14 to 2022-04-07\",\"x\":0.5,\"xanchor\":\"center\",\"xref\":\"paper\",\"y\":0.2832647462277092,\"yanchor\":\"bottom\",\"yref\":\"paper\"},{\"font\":{\"size\":16},\"showarrow\":false,\"text\":\"Top words from 2022-04-07 to 2022-05-05\",\"x\":0.5,\"xanchor\":\"center\",\"xref\":\"paper\",\"y\":0.24554183813443076,\"yanchor\":\"bottom\",\"yref\":\"paper\"},{\"font\":{\"size\":16},\"showarrow\":false,\"text\":\"Top words from 2022-05-05 to 2022-06-04\",\"x\":0.5,\"xanchor\":\"center\",\"xref\":\"paper\",\"y\":0.20781893004115226,\"yanchor\":\"bottom\",\"yref\":\"paper\"},{\"font\":{\"size\":16},\"showarrow\":false,\"text\":\"Top words from 2022-06-04 to 2022-07-08\",\"x\":0.5,\"xanchor\":\"center\",\"xref\":\"paper\",\"y\":0.17009602194787382,\"yanchor\":\"bottom\",\"yref\":\"paper\"},{\"font\":{\"size\":16},\"showarrow\":false,\"text\":\"Top words from 2022-07-08 to 2022-08-13\",\"x\":0.5,\"xanchor\":\"center\",\"xref\":\"paper\",\"y\":0.13237311385459533,\"yanchor\":\"bottom\",\"yref\":\"paper\"},{\"font\":{\"size\":16},\"showarrow\":false,\"text\":\"Top words from 2022-08-13 to 2022-09-18\",\"x\":0.5,\"xanchor\":\"center\",\"xref\":\"paper\",\"y\":0.09465020576131689,\"yanchor\":\"bottom\",\"yref\":\"paper\"},{\"font\":{\"size\":16},\"showarrow\":false,\"text\":\"Top words from 2022-09-18 to 2022-10-16\",\"x\":0.5,\"xanchor\":\"center\",\"xref\":\"paper\",\"y\":0.05692729766803842,\"yanchor\":\"bottom\",\"yref\":\"paper\"}],\"height\":8000,\"width\":1000,\"showlegend\":false},                        {\"responsive\": true}                    ).then(function(){\n",
       "                            \n",
       "var gd = document.getElementById('d15a723a-a05a-4e96-a717-ae1cb9c83ad9');\n",
       "var x = new MutationObserver(function (mutations, observer) {{\n",
       "        var display = window.getComputedStyle(gd).display;\n",
       "        if (!display || display === 'none') {{\n",
       "            console.log([gd, 'removed!']);\n",
       "            Plotly.purge(gd);\n",
       "            observer.disconnect();\n",
       "        }}\n",
       "}});\n",
       "\n",
       "// Listen for the removal of the full notebook cells\n",
       "var notebookContainer = gd.closest('#notebook-container');\n",
       "if (notebookContainer) {{\n",
       "    x.observe(notebookContainer, {childList: true});\n",
       "}}\n",
       "\n",
       "// Listen for the clearing of the current output cell\n",
       "var outputEl = gd.closest('.output');\n",
       "if (outputEl) {{\n",
       "    x.observe(outputEl, {childList: true});\n",
       "}}\n",
       "\n",
       "                        })                };                });            </script>        </div>"
      ]
     },
     "metadata": {},
     "output_type": "display_data"
    }
   ],
   "source": [
    "for row_idx in range(len(top_30_words_3M)):\n",
    "    for trace in plot_results_idx(top_30_words_3M, row_idx):\n",
    "        fig.add_trace(trace, row=row_idx + 1, col=1)\n",
    "fig.update_layout(height=8000, width=1000, \n",
    "                  showlegend=False)\n",
    "fig.show()"
   ]
  },
  {
   "cell_type": "markdown",
   "id": "6bdbc1e6",
   "metadata": {},
   "source": [
    "From the cumulative `TF-IDF` text processing plots above, there is the overall tendency of significance russia, putin, the main russian regions, and viral events during the entire period.<br>\n",
    "There are also more significant mentions of the USA from the start of coronavirus to now.<br>\n",
    "From the beginning of the war in 2022-02, territories, Ukraine, defense, etc., have been more important. "
   ]
  }
 ],
 "metadata": {
  "kernelspec": {
   "display_name": "Python 3 (ipykernel)",
   "language": "python",
   "name": "python3"
  },
  "language_info": {
   "codemirror_mode": {
    "name": "ipython",
    "version": 3
   },
   "file_extension": ".py",
   "mimetype": "text/x-python",
   "name": "python",
   "nbconvert_exporter": "python",
   "pygments_lexer": "ipython3",
   "version": "3.7.4"
  }
 },
 "nbformat": 4,
 "nbformat_minor": 5
}
